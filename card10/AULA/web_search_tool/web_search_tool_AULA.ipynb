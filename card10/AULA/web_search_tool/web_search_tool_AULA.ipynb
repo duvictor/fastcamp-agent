{
 "cells": [
  {
   "metadata": {},
   "cell_type": "code",
   "outputs": [],
   "execution_count": null,
   "source": [
    "from crewai_tools import ScrapeWebsiteTool, FileWriterTool, TXTSearchTool\n",
    "from crewai import Agent, Task, Crew\n",
    "import os\n",
    "from dotenv import load_dotenv\n",
    "\n",
    "# Load environment variables from the .env file\n",
    "load_dotenv()\n",
    "os.environ['OPENAI_API_KEY'] = os.getenv('OPENAI_API_KEY')"
   ],
   "id": "c684a59287730bcc"
  },
  {
   "metadata": {},
   "cell_type": "code",
   "outputs": [],
   "execution_count": null,
   "source": [
    "\n",
    "# Initialize the tool, potentially passing the session\n",
    "tool = ScrapeWebsiteTool(website_url='https://en.wikipedia.org/wiki/Artificial_intelligence')\n",
    "\n",
    "# Extract the text\n",
    "text = tool.run()\n",
    "print(text)"
   ],
   "id": "652b0756b27a31d"
  },
  {
   "metadata": {},
   "cell_type": "code",
   "outputs": [],
   "execution_count": null,
   "source": [
    "# Initialize the tool\n",
    "file_writer_tool = FileWriterTool()\n",
    "text = text.encode(\"ascii\", \"ignore\").decode()\n",
    "# Write content to a file in a specified directory\n",
    "result = file_writer_tool._run(filename='ai.txt', content = text, overwrite=\"True\")\n",
    "print(result)"
   ],
   "id": "f34ebf5ad0d02a1a"
  },
  {
   "metadata": {},
   "cell_type": "code",
   "outputs": [],
   "execution_count": null,
   "source": [
    "# Initialize the tool with a specific text file, so the agent can search within the given text file's content\n",
    "tool = TXTSearchTool(txt='ai.txt')\n",
    "\n",
    "\n",
    "context = tool.run('What is natural language processing?')\n",
    "\n",
    "data_analyst = Agent(\n",
    "    role='Educator',\n",
    "    goal=f'Based on the context provided, answer the question - What is Natural Language Processing? Context - {context}',\n",
    "    backstory='You are a data expert',\n",
    "    verbose=True,\n",
    "    allow_delegation=False,\n",
    "    tools=[tool]\n",
    ")\n",
    "\n",
    "test_task = Task(\n",
    "    description=\"Understand the topic and give the correct response\",\n",
    "    tools=[tool],\n",
    "    agent=data_analyst,\n",
    "    expected_output='Give a correct response'\n",
    ")\n",
    "\n",
    "crew = Crew(\n",
    "    agents=[data_analyst],\n",
    "    tasks=[test_task]\n",
    ")"
   ],
   "id": "d40ad092da59b73b"
  },
  {
   "metadata": {
    "collapsed": true
   },
   "cell_type": "code",
   "outputs": [],
   "execution_count": null,
   "source": [
    "output = crew.kickoff()\n",
    "print(output)"
   ],
   "id": "initial_id"
  }
 ],
 "metadata": {
  "kernelspec": {
   "display_name": "Python 3",
   "language": "python",
   "name": "python3"
  },
  "language_info": {
   "codemirror_mode": {
    "name": "ipython",
    "version": 2
   },
   "file_extension": ".py",
   "mimetype": "text/x-python",
   "name": "python",
   "nbconvert_exporter": "python",
   "pygments_lexer": "ipython2",
   "version": "2.7.6"
  }
 },
 "nbformat": 4,
 "nbformat_minor": 5
}
