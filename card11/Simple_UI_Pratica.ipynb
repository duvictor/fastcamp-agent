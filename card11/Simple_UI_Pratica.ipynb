{
 "cells": [
  {
   "metadata": {},
   "cell_type": "markdown",
   "source": [
    "# Agente para auxílio de diagnóstico e laudos\n",
    "O intuito dessa abordagem é testar o caso de uso de utilização de agentes para auxiliar no diagnóstico a partir de sintomas\n"
   ],
   "id": "fd21d47f8f574fb3"
  },
  {
   "metadata": {
    "collapsed": true
   },
   "cell_type": "code",
   "outputs": [],
   "execution_count": null,
   "source": [
    "#importação das bibliotecas necessárias\n",
    "import os\n",
    "from dotenv import load_dotenv\n",
    "import streamlit as st\n",
    "\n",
    "from crewai import Crew, Process, Agent, Task\n",
    "from langchain_core.callbacks import BaseCallbackHandler\n",
    "from typing import TYPE_CHECKING, Any, Dict, Optional\n",
    "from langchain_openai import ChatOpenAI\n",
    "\n",
    "# Load environment variables from the .env file\n",
    "load_dotenv()\n",
    "os.environ['OPENAI_API_KEY'] = os.getenv('OPENAI_API_KEY')"
   ],
   "id": "initial_id"
  },
  {
   "metadata": {},
   "cell_type": "code",
   "outputs": [],
   "execution_count": null,
   "source": [
    "# utilização da plataforma openAI como llm para os agentes\n",
    "llm = ChatOpenAI()\n",
    "\n",
    "# Ícones para o app web utilizando streamlit\n",
    "avators = {\"Writer\":\"https://cdn-icons-png.flaticon.com/512/320/320336.png\",\n",
    "            \"Reviewer\":\"https://cdn-icons-png.freepik.com/512/9408/9408201.png\"}"
   ],
   "id": "eb64dbdd7f238fb4"
  },
  {
   "metadata": {},
   "cell_type": "code",
   "outputs": [],
   "execution_count": null,
   "source": [
    "## Classe para gerenciar os callbacks do app do streamlit\n",
    "class MyCustomHandler(BaseCallbackHandler):\n",
    "\n",
    "\n",
    "    def __init__(self, agent_name: str) -> None:\n",
    "        self.agent_name = agent_name\n",
    "\n",
    "    # Função para escrever as mensagens dos agentes na tela do navegador\n",
    "    def on_chain_start(\n",
    "        self, serialized: Dict[str, Any], inputs: Dict[str, Any], **kwargs: Any\n",
    "    ) -> None:\n",
    "        \"\"\"Print out that we are entering a chain.\"\"\"\n",
    "        st.session_state.messages.append({\"role\": \"assistant\", \"content\": inputs['input']})\n",
    "        st.chat_message(\"assistant\").write(inputs['input'])\n",
    "\n",
    "    # Função para escrever o output final na tela do navegador\n",
    "    def on_chain_end(self, outputs: Dict[str, Any], **kwargs: Any) -> None:\n",
    "        \"\"\"Print out that we finished a chain.\"\"\"\n",
    "        st.session_state.messages.append({\"role\": self.agent_name, \"content\": outputs['output']})\n",
    "        st.chat_message(self.agent_name, avatar=avators[self.agent_name]).write(outputs['output'])\n"
   ],
   "id": "b44456c0cb868534"
  },
  {
   "metadata": {},
   "cell_type": "code",
   "outputs": [],
   "execution_count": null,
   "source": [
    "# Agente escritor, responsável pelos textos base que serão escritos para diagnóstico e laudos médicos\n",
    "escritor = Agent(\n",
    "    role='Médico diagnostico',\n",
    "    backstory='''Você é um médico que faz seleção de possíveis diagnósticos e suas respostas são em português.\n",
    "                Você gera uma iteração de um possível diagnóstico de cada vez.\n",
    "                Você nunca fornece comentários de revisão.\n",
    "                Você está aberto aos comentários dos médicos laudadores e disposto a iterar com o possível diagnóstico com base nesses comentários.\n",
    "                      ''',\n",
    "    goal=\"Escreva um possível diagnóstico decente.\",\n",
    "    # tools=[]  # This can be optionally specified; defaults to an empty list\n",
    "    llm=llm,\n",
    "    callbacks=[MyCustomHandler(\"Escritor\")],\n",
    ")\n",
    "# Agente que analisa e melhora as escritas feitas pelo agente escritor de diagnóstico e laudos médicos\n",
    "revisor = Agent(\n",
    "    role='Médico laudador',\n",
    "    backstory='''Você é um médico laudador e revisor de diagnósticos, suas respostas são em português.\n",
    "            Você revisa diagnósticos e faz recomendações de alterações para torná-los mais fáceis de ser interpretados pelos usuários.\n",
    "            Você fará comentários de revisão após ler o diagnóstico inteiro, portanto, não gerará nada enquanto o diagnóstico não for entregue completamente.\n",
    "            Você nunca cria laudos sozinho.''',\n",
    "    goal=\"Liste os itens incorporados sobre o que precisa ser melhorado em um diagnóstico.\",\n",
    "    # tools=[]  # Optionally specify tools; defaults to an empty list\n",
    "    llm=llm,\n",
    "    callbacks=[MyCustomHandler(\"Revisor\")],\n",
    ")"
   ],
   "id": "a6e05c919245fd14"
  },
  {
   "metadata": {},
   "cell_type": "code",
   "outputs": [],
   "execution_count": null,
   "source": [
    "# Configurações do chat com streamlit\n",
    "\n",
    "#Título\n",
    "st.title(\"💬 Diagnóstico e Laudos médicos\")\n",
    "\n",
    "# Carregamento da mensagem inicial no session storage para ser exibido no navegador do usuário\n",
    "if \"messages\" not in st.session_state:\n",
    "    st.session_state[\"messages\"] = [{\"role\": \"assistant\", \"content\": \"Quais os sintomas você está sentindo?\"}]\n",
    "\n",
    "# Escrever a mensagem inicial no chat\n",
    "for msg in st.session_state.messages:\n",
    "    st.chat_message(msg[\"role\"]).write(msg[\"content\"])\n",
    "\n",
    "# Esperar o prompt para continuar a execução\n",
    "if prompt := st.chat_input():\n",
    "\n",
    "    st.session_state.messages.append({\"role\": \"user\", \"content\": prompt})\n",
    "    st.chat_message(\"user\").write(prompt)\n",
    "\n",
    "    # Task do agente escritor\n",
    "    task1 = Task(\n",
    "      description=f\"\"\"Escreva um possível diagnóstico em português sobre : {prompt}. \"\"\",\n",
    "      agent=escritor,\n",
    "      expected_output=\"um diagnóstico com no máximo 300 palavras em português.\"\n",
    "    )\n",
    "\n",
    "    # Task do editor\n",
    "    task2 = Task(\n",
    "      description=\"\"\"listar comentários de revisão para melhorias de todo o diagnóstico para torná-lo mais interpretável\"\"\",\n",
    "      agent=revisor,\n",
    "      expected_output=\"Pontos incorporados sobre onde precisam ser melhorados em português.\"\n",
    "    )\n",
    "    # Establishing the crew with a hierarchical process\n",
    "    project_crew = Crew(\n",
    "        tasks=[task1, task2],  # Tasks to be delegated and executed under the manager's supervision\n",
    "        agents=[escritor, revisor],\n",
    "        manager_llm=llm,\n",
    "        process=Process.hierarchical  # Specifies the hierarchical management approach\n",
    "    )\n",
    "    final = project_crew.kickoff()\n",
    "\n",
    "    result = f\"## Aqui está o possível diagnóstico \\n\\n {final}\"\n",
    "    st.session_state.messages.append({\"role\": \"assistant\", \"content\": result})\n",
    "    st.chat_message(\"assistant\").write(result)"
   ],
   "id": "cc86c1e0e0b0e724"
  }
 ],
 "metadata": {
  "kernelspec": {
   "display_name": "Python 3",
   "language": "python",
   "name": "python3"
  },
  "language_info": {
   "codemirror_mode": {
    "name": "ipython",
    "version": 2
   },
   "file_extension": ".py",
   "mimetype": "text/x-python",
   "name": "python",
   "nbconvert_exporter": "python",
   "pygments_lexer": "ipython2",
   "version": "2.7.6"
  }
 },
 "nbformat": 4,
 "nbformat_minor": 5
}
