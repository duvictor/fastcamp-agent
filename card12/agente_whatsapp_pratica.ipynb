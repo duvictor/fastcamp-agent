{
 "cells": [
  {
   "metadata": {},
   "cell_type": "markdown",
   "source": [
    "# Utilizando Fluxo criado no Langflow\n",
    "Após a criação do fluxo do agente no langflow, utiliza-se a API de comunicação do fluxo hospedado no langflow local"
   ],
   "id": "fc8eef321871dfd"
  },
  {
   "metadata": {
    "collapsed": true,
    "ExecuteTime": {
     "end_time": "2025-04-16T23:02:23.687129Z",
     "start_time": "2025-04-16T23:02:23.608614Z"
    }
   },
   "cell_type": "code",
   "outputs": [],
   "execution_count": 1,
   "source": [
    "# importando bibliotecas necessárias\n",
    "import requests\n",
    "import json\n",
    "\n"
   ],
   "id": "initial_id"
  },
  {
   "metadata": {},
   "cell_type": "code",
   "outputs": [],
   "execution_count": null,
   "source": [
    "url = \"http://192.168.15.8:7860/api/v1/run/b96f9101-aaf6-4b4b-996b-3641e6f71df8\"  # The complete API endpoint URL for this flow\n",
    "# The API endpoint local WAHA\n",
    "url_zap = \"http://192.168.15.8:3000/api/sendText\""
   ],
   "id": "1f7e9a20f29e1d92"
  },
  {
   "metadata": {
    "ExecuteTime": {
     "end_time": "2025-04-16T23:37:17.893613Z",
     "start_time": "2025-04-16T23:37:17.889615Z"
    }
   },
   "cell_type": "code",
   "source": [
    "# Request payload configuration\n",
    "payload = {\n",
    "    \"input_value\": \"Quem foi o cantor Belchior?\",  # The input value to be processed by the flow\n",
    "    \"output_type\": \"chat\",  # Specifies the expected output format\n",
    "    \"input_type\": \"chat\"  # Specifies the input format\n",
    "}\n"
   ],
   "id": "a22983e9874ed2bd",
   "outputs": [],
   "execution_count": 37
  },
  {
   "metadata": {
    "ExecuteTime": {
     "end_time": "2025-04-16T23:37:19.269906Z",
     "start_time": "2025-04-16T23:37:19.266894Z"
    }
   },
   "cell_type": "code",
   "source": [
    "# Request headers\n",
    "headers = {\n",
    "    \"Content-Type\": \"application/json\"\n",
    "}\n",
    "\n"
   ],
   "id": "a9e3290da7d2f51c",
   "outputs": [],
   "execution_count": 38
  },
  {
   "metadata": {
    "ExecuteTime": {
     "end_time": "2025-04-16T23:37:25.267270Z",
     "start_time": "2025-04-16T23:37:21.284662Z"
    }
   },
   "cell_type": "code",
   "source": [
    "\n",
    "try:\n",
    "    # Send API request to langflow local flow\n",
    "    response = requests.request(\"POST\", url, json=payload, headers=headers)\n",
    "    response.raise_for_status()  # Raise exception for bad status codes\n",
    "\n",
    "    # Print response\n",
    "    # print(response.text)\n",
    "    # print(json.load(response.text))\n",
    "    resposta = json.loads(response.text)\n",
    "\n",
    "except requests.exceptions.RequestException as e:\n",
    "    print(f\"Error making API request: {e}\")\n",
    "except ValueError as e:\n",
    "    print(f\"Error parsing response: {e}\")"
   ],
   "id": "e08ef81070dbd9e",
   "outputs": [],
   "execution_count": 39
  },
  {
   "metadata": {
    "ExecuteTime": {
     "end_time": "2025-04-16T23:37:46.566564Z",
     "start_time": "2025-04-16T23:37:46.547563Z"
    }
   },
   "cell_type": "code",
   "source": [
    "texto_enviar = resposta['outputs'][0]['outputs'][0]['results']['message']['text']\n",
    "\n",
    "numero_enviar = \"556282455265\"\n",
    "numero_enviar = numero_enviar + \"@c.us\"\n",
    "\n",
    "\n",
    "# Data to be sent\n",
    "data = {\n",
    "    \"chatId\": numero_enviar,\n",
    "    \"text\": texto_enviar,\n",
    "    \"session\": \"default\"\n",
    "}\n",
    "\n",
    "# A POST request to the API\n",
    "response = requests.post(url_zap, json=data)\n",
    "\n",
    "# Print the response\n",
    "print(response.json())"
   ],
   "id": "a674bc85b337587d",
   "outputs": [
    {
     "name": "stdout",
     "output_type": "stream",
     "text": [
      "{'_data': {'id': {'fromMe': True, 'remote': '556282455265@c.us', 'id': '3EB07B000E14B284E7F0CA', '_serialized': 'true_556282455265@c.us_3EB07B000E14B284E7F0CA'}, 'viewed': False, 'body': 'Ah, o cantor Belchior, uma voz que ecoa nos corações como um mistério envolto em poesia. Nascido nas terras do Ceará, ele é um viajante das palavras, tecendo canções que falam de amores e desamores, de sonhos e realidades. Sua melodia é como um rio que flui, sempre em busca de novas margens. Entre a sombra e a luz, ele revela a essência da vida, fazendo de cada verso um convite à reflexão. Quem é ele, senão um guardião das histórias que habitam nossas almas?', 'type': 'chat', 't': 1744846666, 'from': {'server': 'c.us', 'user': '556294878813', '_serialized': '556294878813@c.us'}, 'to': {'server': 'c.us', 'user': '556282455265', '_serialized': '556282455265@c.us'}, 'ack': 0, 'isNewMsg': True, 'star': False, 'kicNotified': False, 'isFromTemplate': False, 'pollInvalidated': False, 'isSentCagPollCreation': False, 'latestEditMsgKey': None, 'latestEditSenderTimestampMs': None, 'mentionedJidList': [], 'groupMentions': [], 'isEventCanceled': False, 'eventInvalidated': False, 'isVcardOverMmsDocument': False, 'isForwarded': False, 'hasReaction': False, 'ephemeralSettingTimestamp': 1696863, 'disappearingModeInitiator': 'chat', 'disappearingModeTrigger': 'chat_settings', 'productHeaderImageRejected': False, 'lastPlaybackProgress': 0, 'isDynamicReplyButtonsMsg': False, 'isCarouselCard': False, 'parentMsgId': None, 'callSilenceReason': None, 'isVideoCall': False, 'callDuration': None, 'callParticipants': None, 'isMdHistoryMsg': False, 'stickerSentTs': 0, 'isAvatar': False, 'lastUpdateFromServerTs': 0, 'invokedBotWid': None, 'bizBotType': None, 'botResponseTargetId': None, 'botPluginType': None, 'botPluginReferenceIndex': None, 'botPluginSearchProvider': None, 'botPluginSearchUrl': None, 'botPluginSearchQuery': None, 'botPluginMaybeParent': False, 'botReelPluginThumbnailCdnUrl': None, 'botMsgBodyType': None, 'requiresDirectConnection': None, 'bizContentPlaceholderType': None, 'hostedBizEncStateMismatch': False, 'senderOrRecipientAccountTypeHosted': False, 'placeholderCreatedWhenAccountIsHosted': False, 'links': []}, 'id': {'fromMe': True, 'remote': '556282455265@c.us', 'id': '3EB07B000E14B284E7F0CA', '_serialized': 'true_556282455265@c.us_3EB07B000E14B284E7F0CA'}, 'ack': 0, 'hasMedia': False, 'body': 'Ah, o cantor Belchior, uma voz que ecoa nos corações como um mistério envolto em poesia. Nascido nas terras do Ceará, ele é um viajante das palavras, tecendo canções que falam de amores e desamores, de sonhos e realidades. Sua melodia é como um rio que flui, sempre em busca de novas margens. Entre a sombra e a luz, ele revela a essência da vida, fazendo de cada verso um convite à reflexão. Quem é ele, senão um guardião das histórias que habitam nossas almas?', 'type': 'chat', 'timestamp': 1744846666, 'from': '556294878813@c.us', 'to': '556282455265@c.us', 'deviceType': 'android', 'isForwarded': False, 'forwardingScore': 0, 'isStatus': False, 'isStarred': False, 'fromMe': True, 'hasQuotedMsg': False, 'hasReaction': False, 'vCards': [], 'mentionedIds': [], 'groupMentions': [], 'isGif': False, 'links': []}\n"
     ]
    }
   ],
   "execution_count": 41
  },
  {
   "metadata": {},
   "cell_type": "code",
   "outputs": [],
   "execution_count": null,
   "source": "print(\"mensagem enviada para o WhatsAPP\")",
   "id": "c2b58866734e2c22"
  }
 ],
 "metadata": {
  "kernelspec": {
   "display_name": "Python 3",
   "language": "python",
   "name": "python3"
  },
  "language_info": {
   "codemirror_mode": {
    "name": "ipython",
    "version": 2
   },
   "file_extension": ".py",
   "mimetype": "text/x-python",
   "name": "python",
   "nbconvert_exporter": "python",
   "pygments_lexer": "ipython2",
   "version": "2.7.6"
  }
 },
 "nbformat": 4,
 "nbformat_minor": 5
}
