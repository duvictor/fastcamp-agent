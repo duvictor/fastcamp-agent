{
 "cells": [
  {
   "cell_type": "code",
   "id": "initial_id",
   "metadata": {
    "collapsed": true,
    "ExecuteTime": {
     "end_time": "2025-04-22T17:17:20.848787Z",
     "start_time": "2025-04-22T17:17:20.044877Z"
    }
   },
   "source": [
    "import pandas as pd\n",
    "\n",
    "df = pd.read_csv(r'D:\\Users\\paulo\\PycharmProjects\\fastcamp-agent\\card13\\mtsamples.csv')\n",
    "\n"
   ],
   "outputs": [],
   "execution_count": 1
  },
  {
   "metadata": {
    "ExecuteTime": {
     "end_time": "2025-04-22T17:17:21.989941Z",
     "start_time": "2025-04-22T17:17:21.967634Z"
    }
   },
   "cell_type": "code",
   "source": "df.head(-1)",
   "id": "a936730040f27dd",
   "outputs": [
    {
     "data": {
      "text/plain": [
       "      Unnamed: 0                                        description  \\\n",
       "0              0   A 23-year-old white female presents with comp...   \n",
       "1              1           Consult for laparoscopic gastric bypass.   \n",
       "2              2           Consult for laparoscopic gastric bypass.   \n",
       "3              3                             2-D M-Mode. Doppler.     \n",
       "4              4                                 2-D Echocardiogram   \n",
       "...          ...                                                ...   \n",
       "4993        4993   Chronic glossitis, xerostomia, probable envir...   \n",
       "4994        4994   Patient having severe sinusitis about two to ...   \n",
       "4995        4995   This is a 14-month-old baby boy Caucasian who...   \n",
       "4996        4996   A female for a complete physical and follow u...   \n",
       "4997        4997   Mother states he has been wheezing and coughing.   \n",
       "\n",
       "                medical_specialty                                sample_name  \\\n",
       "0            Allergy / Immunology                         Allergic Rhinitis    \n",
       "1                      Bariatrics   Laparoscopic Gastric Bypass Consult - 2    \n",
       "2                      Bariatrics   Laparoscopic Gastric Bypass Consult - 1    \n",
       "3      Cardiovascular / Pulmonary                    2-D Echocardiogram - 1    \n",
       "4      Cardiovascular / Pulmonary                    2-D Echocardiogram - 2    \n",
       "...                           ...                                        ...   \n",
       "4993         Allergy / Immunology                   Evaluation of Allergies    \n",
       "4994         Allergy / Immunology                         Chronic Sinusitis    \n",
       "4995         Allergy / Immunology      Kawasaki Disease - Discharge Summary    \n",
       "4996         Allergy / Immunology                        Followup on Asthma    \n",
       "4997         Allergy / Immunology                    Asthma in a 5-year-old    \n",
       "\n",
       "                                          transcription  \\\n",
       "0     SUBJECTIVE:,  This 23-year-old white female pr...   \n",
       "1     PAST MEDICAL HISTORY:, He has difficulty climb...   \n",
       "2     HISTORY OF PRESENT ILLNESS: , I have seen ABC ...   \n",
       "3     2-D M-MODE: , ,1.  Left atrial enlargement wit...   \n",
       "4     1.  The left ventricular cavity size and wall ...   \n",
       "...                                                 ...   \n",
       "4993  HISTORY:,  A 55-year-old female presents self-...   \n",
       "4994  HISTORY:,  I had the pleasure of meeting and e...   \n",
       "4995  ADMITTING DIAGNOSIS: , Kawasaki disease.,DISCH...   \n",
       "4996  SUBJECTIVE: , This is a 42-year-old white fema...   \n",
       "4997  CHIEF COMPLAINT: , This 5-year-old male presen...   \n",
       "\n",
       "                                               keywords  \n",
       "0     allergy / immunology, allergic rhinitis, aller...  \n",
       "1     bariatrics, laparoscopic gastric bypass, weigh...  \n",
       "2     bariatrics, laparoscopic gastric bypass, heart...  \n",
       "3     cardiovascular / pulmonary, 2-d m-mode, dopple...  \n",
       "4     cardiovascular / pulmonary, 2-d, doppler, echo...  \n",
       "...                                                 ...  \n",
       "4993  allergy / immunology, chronic glossitis, xeros...  \n",
       "4994                                                NaN  \n",
       "4995  allergy / immunology, mucous membranes, conjun...  \n",
       "4996                                                NaN  \n",
       "4997                                                NaN  \n",
       "\n",
       "[4998 rows x 6 columns]"
      ],
      "text/html": [
       "<div>\n",
       "<style scoped>\n",
       "    .dataframe tbody tr th:only-of-type {\n",
       "        vertical-align: middle;\n",
       "    }\n",
       "\n",
       "    .dataframe tbody tr th {\n",
       "        vertical-align: top;\n",
       "    }\n",
       "\n",
       "    .dataframe thead th {\n",
       "        text-align: right;\n",
       "    }\n",
       "</style>\n",
       "<table border=\"1\" class=\"dataframe\">\n",
       "  <thead>\n",
       "    <tr style=\"text-align: right;\">\n",
       "      <th></th>\n",
       "      <th>Unnamed: 0</th>\n",
       "      <th>description</th>\n",
       "      <th>medical_specialty</th>\n",
       "      <th>sample_name</th>\n",
       "      <th>transcription</th>\n",
       "      <th>keywords</th>\n",
       "    </tr>\n",
       "  </thead>\n",
       "  <tbody>\n",
       "    <tr>\n",
       "      <th>0</th>\n",
       "      <td>0</td>\n",
       "      <td>A 23-year-old white female presents with comp...</td>\n",
       "      <td>Allergy / Immunology</td>\n",
       "      <td>Allergic Rhinitis</td>\n",
       "      <td>SUBJECTIVE:,  This 23-year-old white female pr...</td>\n",
       "      <td>allergy / immunology, allergic rhinitis, aller...</td>\n",
       "    </tr>\n",
       "    <tr>\n",
       "      <th>1</th>\n",
       "      <td>1</td>\n",
       "      <td>Consult for laparoscopic gastric bypass.</td>\n",
       "      <td>Bariatrics</td>\n",
       "      <td>Laparoscopic Gastric Bypass Consult - 2</td>\n",
       "      <td>PAST MEDICAL HISTORY:, He has difficulty climb...</td>\n",
       "      <td>bariatrics, laparoscopic gastric bypass, weigh...</td>\n",
       "    </tr>\n",
       "    <tr>\n",
       "      <th>2</th>\n",
       "      <td>2</td>\n",
       "      <td>Consult for laparoscopic gastric bypass.</td>\n",
       "      <td>Bariatrics</td>\n",
       "      <td>Laparoscopic Gastric Bypass Consult - 1</td>\n",
       "      <td>HISTORY OF PRESENT ILLNESS: , I have seen ABC ...</td>\n",
       "      <td>bariatrics, laparoscopic gastric bypass, heart...</td>\n",
       "    </tr>\n",
       "    <tr>\n",
       "      <th>3</th>\n",
       "      <td>3</td>\n",
       "      <td>2-D M-Mode. Doppler.</td>\n",
       "      <td>Cardiovascular / Pulmonary</td>\n",
       "      <td>2-D Echocardiogram - 1</td>\n",
       "      <td>2-D M-MODE: , ,1.  Left atrial enlargement wit...</td>\n",
       "      <td>cardiovascular / pulmonary, 2-d m-mode, dopple...</td>\n",
       "    </tr>\n",
       "    <tr>\n",
       "      <th>4</th>\n",
       "      <td>4</td>\n",
       "      <td>2-D Echocardiogram</td>\n",
       "      <td>Cardiovascular / Pulmonary</td>\n",
       "      <td>2-D Echocardiogram - 2</td>\n",
       "      <td>1.  The left ventricular cavity size and wall ...</td>\n",
       "      <td>cardiovascular / pulmonary, 2-d, doppler, echo...</td>\n",
       "    </tr>\n",
       "    <tr>\n",
       "      <th>...</th>\n",
       "      <td>...</td>\n",
       "      <td>...</td>\n",
       "      <td>...</td>\n",
       "      <td>...</td>\n",
       "      <td>...</td>\n",
       "      <td>...</td>\n",
       "    </tr>\n",
       "    <tr>\n",
       "      <th>4993</th>\n",
       "      <td>4993</td>\n",
       "      <td>Chronic glossitis, xerostomia, probable envir...</td>\n",
       "      <td>Allergy / Immunology</td>\n",
       "      <td>Evaluation of Allergies</td>\n",
       "      <td>HISTORY:,  A 55-year-old female presents self-...</td>\n",
       "      <td>allergy / immunology, chronic glossitis, xeros...</td>\n",
       "    </tr>\n",
       "    <tr>\n",
       "      <th>4994</th>\n",
       "      <td>4994</td>\n",
       "      <td>Patient having severe sinusitis about two to ...</td>\n",
       "      <td>Allergy / Immunology</td>\n",
       "      <td>Chronic Sinusitis</td>\n",
       "      <td>HISTORY:,  I had the pleasure of meeting and e...</td>\n",
       "      <td>NaN</td>\n",
       "    </tr>\n",
       "    <tr>\n",
       "      <th>4995</th>\n",
       "      <td>4995</td>\n",
       "      <td>This is a 14-month-old baby boy Caucasian who...</td>\n",
       "      <td>Allergy / Immunology</td>\n",
       "      <td>Kawasaki Disease - Discharge Summary</td>\n",
       "      <td>ADMITTING DIAGNOSIS: , Kawasaki disease.,DISCH...</td>\n",
       "      <td>allergy / immunology, mucous membranes, conjun...</td>\n",
       "    </tr>\n",
       "    <tr>\n",
       "      <th>4996</th>\n",
       "      <td>4996</td>\n",
       "      <td>A female for a complete physical and follow u...</td>\n",
       "      <td>Allergy / Immunology</td>\n",
       "      <td>Followup on Asthma</td>\n",
       "      <td>SUBJECTIVE: , This is a 42-year-old white fema...</td>\n",
       "      <td>NaN</td>\n",
       "    </tr>\n",
       "    <tr>\n",
       "      <th>4997</th>\n",
       "      <td>4997</td>\n",
       "      <td>Mother states he has been wheezing and coughing.</td>\n",
       "      <td>Allergy / Immunology</td>\n",
       "      <td>Asthma in a 5-year-old</td>\n",
       "      <td>CHIEF COMPLAINT: , This 5-year-old male presen...</td>\n",
       "      <td>NaN</td>\n",
       "    </tr>\n",
       "  </tbody>\n",
       "</table>\n",
       "<p>4998 rows × 6 columns</p>\n",
       "</div>"
      ]
     },
     "execution_count": 2,
     "metadata": {},
     "output_type": "execute_result"
    }
   ],
   "execution_count": 2
  },
  {
   "metadata": {
    "ExecuteTime": {
     "end_time": "2025-04-22T17:17:24.000625Z",
     "start_time": "2025-04-22T17:17:23.994615Z"
    }
   },
   "cell_type": "code",
   "source": "df['transcription'][5]",
   "id": "c8c89e852249c385",
   "outputs": [
    {
     "data": {
      "text/plain": [
       "'PREOPERATIVE DIAGNOSIS: , Morbid obesity.,POSTOPERATIVE DIAGNOSIS:  ,Morbid obesity.,PROCEDURE: , Laparoscopic antecolic antegastric Roux-en-Y gastric bypass with EEA anastomosis.,ANESTHESIA: , General with endotracheal intubation.,INDICATION FOR PROCEDURE: , This is a 30-year-old female, who has been overweight for many years.  She has tried many different diets, but is unsuccessful.  She has been to our Bariatric Surgery Seminar, received some handouts, and signed the consent.  The risks and benefits of the procedure have been explained to the patient.,PROCEDURE IN DETAIL:  ,The patient was taken to the operating room and placed supine on the operating room table.  All pressure points were carefully padded.  She was given general anesthesia with endotracheal intubation.  SCD stockings were placed on both legs.  Foley catheter was placed for bladder decompression.  The abdomen was then prepped and draped in standard sterile surgical fashion.  Marcaine was then injected through umbilicus.  A small incision was made.  A Veress needle was introduced into the abdomen.  CO2 insufflation was done to a maximum pressure of 15 mmHg.  A 12-mm VersaStep port was placed through the umbilicus.  I then placed a 5-mm port just anterior to the midaxillary line and just subcostal on the right side.  I placed another 5-mm port in the midclavicular line just subcostal on the right side, a few centimeters below and medial to that, I placed a 12-mm VersaStep port.  On the left side, just anterior to the midaxillary line and just subcostal, I placed a 5-mm port.  A few centimeters below and medial to that, I placed a 15-mm port.  I began by lifting up the omentum and identifying the transverse colon and lifting that up and thereby identifying my ligament of Treitz.  I ran the small bowel down approximately 40 cm and divided the small bowel with a white load GIA stapler.  I then divided the mesentery all the way down to the base of the mesentery with a LigaSure device.  I then ran the distal bowel down, approximately 100 cm, and at 100 cm, I made a hole at the antimesenteric portion of the Roux limb and a hole in the antimesenteric portion of the duodenogastric limb, and I passed a 45 white load stapler and fired a stapler creating a side-to-side anastomosis.  I reapproximated the edges of the defect.  I lifted it up and stapled across it with another white load stapler.  I then closed the mesenteric defect with interrupted Surgidac sutures.  I divided the omentum all the way down to the colon in order to create a passageway for my small bowel to go antecolic.  I then put the patient in reverse Trendelenburg.  I placed a liver retractor, identified, and dissected the angle of His.  I then dissected on the lesser curve, approximately 2.5 cm below the gastroesophageal junction, and got into a lesser space.  I fired transversely across the stomach with a 45 blue load stapler.  I then used two fires of the 60 blue load with SeamGuard to go up into my angle of His, thereby creating my gastric pouch.  I then made a hole at the base of the gastric pouch and had Anesthesia remove the bougie and place the OG tube connected to the anvil.  I pulled the anvil into place, and I then opened up my 15-mm port site and passed my EEA stapler.  I passed that in the end of my Roux limb and had the spike come out antimesenteric.  I joined the spike with the anvil and fired a stapler creating an end-to-side anastomosis, then divided across the redundant portion of my Roux limb with a white load GI stapler, and removed it with an Endocatch bag.  I put some additional 2-0 Vicryl sutures in the anastomosis for further security.  I then placed a bowel clamp across the bowel.  I went above and passed an EGD scope into the mouth down to the esophagus and into the gastric pouch.  I distended gastric pouch with air.  There was no air leak seen.  I could pass the scope easily through the anastomosis.  There was no bleeding seen through the scope.  We closed the 15-mm port site with interrupted 0 Vicryl suture utilizing Carter-Thomason.  I copiously irrigated out that incision with about 2 L of saline.  I then closed the skin of all incisions with running Monocryl.  Sponge, instrument, and needle counts were correct at the end of the case.  The patient tolerated the procedure well without any complications.'"
      ]
     },
     "execution_count": 3,
     "metadata": {},
     "output_type": "execute_result"
    }
   ],
   "execution_count": 3
  },
  {
   "metadata": {
    "ExecuteTime": {
     "end_time": "2025-04-22T17:17:25.810569Z",
     "start_time": "2025-04-22T17:17:25.801049Z"
    }
   },
   "cell_type": "code",
   "source": "df.iloc[0]",
   "id": "73bacad456bdba19",
   "outputs": [
    {
     "data": {
      "text/plain": [
       "Unnamed: 0                                                           0\n",
       "description           A 23-year-old white female presents with comp...\n",
       "medical_specialty                                 Allergy / Immunology\n",
       "sample_name                                         Allergic Rhinitis \n",
       "transcription        SUBJECTIVE:,  This 23-year-old white female pr...\n",
       "keywords             allergy / immunology, allergic rhinitis, aller...\n",
       "Name: 0, dtype: object"
      ]
     },
     "execution_count": 4,
     "metadata": {},
     "output_type": "execute_result"
    }
   ],
   "execution_count": 4
  },
  {
   "metadata": {
    "ExecuteTime": {
     "end_time": "2025-04-22T17:17:27.790555Z",
     "start_time": "2025-04-22T17:17:27.777163Z"
    }
   },
   "cell_type": "code",
   "source": [
    "import os\n",
    "from dotenv import load_dotenv\n",
    "\n",
    "\n",
    "load_dotenv()\n",
    "# os.environ['OPENAI_API_KEY'] = os.getenv('OPENAI_API_KEY')\n",
    "os.environ['GROQ_API_KEY'] = os.getenv('GROQ_API_KEY')\n",
    "# os.environ['GEMINI_API_KEY'] = os.getenv('GEMINI_API_KEY')"
   ],
   "id": "150d5088eb3a0aa5",
   "outputs": [],
   "execution_count": 5
  },
  {
   "metadata": {
    "ExecuteTime": {
     "end_time": "2025-04-22T17:17:34.430801Z",
     "start_time": "2025-04-22T17:17:30.046433Z"
    }
   },
   "cell_type": "code",
   "source": [
    "from crewai import Crew, Process, Agent, Task, LLM\n",
    "from langchain_openai import ChatOpenAI"
   ],
   "id": "ab22620934c69518",
   "outputs": [],
   "execution_count": 6
  },
  {
   "metadata": {
    "ExecuteTime": {
     "end_time": "2025-04-22T17:17:45.734566Z",
     "start_time": "2025-04-22T17:17:45.727397Z"
    }
   },
   "cell_type": "code",
   "source": [
    "# llm_OpenAI = ChatOpenAI()\n",
    "llm_groq_llama = LLM(model=\"groq/llama-3.3-70b-versatile\", api_key=os.environ[\"GROQ_API_KEY\"])\n",
    "llm_groq_deepseek = LLM(model=\"groq/deepseek-r1-distill-llama-70b\", api_key=os.environ[\"GROQ_API_KEY\"])\n",
    "llm_groq_compound= LLM(model=\"groq/compound-beta\", api_key=os.environ[\"GROQ_API_KEY\"])\n",
    "\n",
    "# llm_gemini = LLM(model='gemini/gemini-1.5-flash', api_key=os.environ[\"GEMINI_API_KEY\"])\n"
   ],
   "id": "445056408a5ebecc",
   "outputs": [],
   "execution_count": 7
  },
  {
   "metadata": {
    "ExecuteTime": {
     "end_time": "2025-04-22T17:17:48.002042Z",
     "start_time": "2025-04-22T17:17:47.990843Z"
    }
   },
   "cell_type": "code",
   "source": [
    "\n",
    "medico_generalista = Agent(\n",
    "    role='Médico generalista',\n",
    "    backstory='''Você é um médico capaz de analisar dados textuais de pacientes para classificar a possível especialidade e modalidade médica.''',\n",
    "    goal=\"Classificar especialidade e modalidade médica.\",\n",
    "    llm=llm_groq_llama\n",
    ")\n",
    "\n",
    "medico_laudador = Agent(\n",
    "    role='Médico laudador',\n",
    "    backstory='''Você é um médico laudador que tem a função de elaborar laudos médicos, avaliações clínicas e de informar a especialidade e modalidade médica.''',\n",
    "    goal=\"Classificar especialidade e modalidade médica.\",\n",
    "    llm=llm_groq_deepseek\n",
    ")\n",
    "\n",
    "medico_perito = Agent(\n",
    "    role='Médico perito',\n",
    "    backstory='''Um perito médico é um profissional da área da saúde que atua como especialista, fornecendo conhecimento técnico-científico para auxiliar na resolução de questões judiciais ou administrativas que envolvem saúde.''',\n",
    "    goal=\"Classificar especialidade e modalidade médica.\",\n",
    "    llm=llm_groq_compound\n",
    ")"
   ],
   "id": "cc36c6e620579192",
   "outputs": [],
   "execution_count": 8
  },
  {
   "metadata": {
    "ExecuteTime": {
     "end_time": "2025-04-22T17:17:50.809404Z",
     "start_time": "2025-04-22T17:17:50.803385Z"
    }
   },
   "cell_type": "code",
   "source": [
    "from textwrap import dedent\n",
    "\n",
    "def get_task(transcricao, agent):\n",
    "  return Task(description=dedent(f\"\"\"\\\n",
    "    Entender os dados textuais de entrada e classificar a transcrição médica. Primeiro classificar a <especialidade> e depois a <modalidade> conforme as listas a seguir.\n",
    "\n",
    "      <especialidade>\n",
    "      Abdome;\n",
    "      Cabeça e Pescoço;\n",
    "      Cardio;\n",
    "      Mama;\n",
    "      Radiologia Intervencionista;\n",
    "      Medicina Nuclear;\n",
    "      Musculoesquelético;\n",
    "      Neurologia;\n",
    "      Tórax;\n",
    "      Ultrassonografia;\n",
    "      </especialidade>.\n",
    "\n",
    "      <modalidade>\n",
    "      Clínica Médica;\n",
    "      Pediatria;\n",
    "      Cirurgia Geral;\n",
    "      Ginecologia e Obstetrícia;\n",
    "      Neurologia;\n",
    "      Psiquiatria;\n",
    "      Cardiologia;\n",
    "      Endocrinologia;\n",
    "      Dermatologia;\n",
    "      Oftalmologia;\n",
    "      Otorrinolaringologia;\n",
    "      Ortopedia e Traumatologia;\n",
    "      Pneumologia\n",
    "      Radiologia e Diagnóstico por Imagem;\n",
    "      Outros;\n",
    "      </modalidade>.\n",
    "\n",
    "\n",
    "      Aqui está a transcrição médica utilizada como dado textual de entrada para ser classificado:\n",
    "\n",
    "      <transcrição>\n",
    "      {transcricao}\n",
    "      </transcrição>\n",
    "\n",
    "      \"\"\"),\n",
    "    agent=agent, expected_output='Retorne a especialidade e depois a modalidade médica separados por vírgula, por exemplo: Mamografia, Mama'\n",
    "  )\n"
   ],
   "id": "6972fd8fd9a2d97b",
   "outputs": [],
   "execution_count": 9
  },
  {
   "metadata": {
    "ExecuteTime": {
     "end_time": "2025-04-22T18:44:07.503923Z",
     "start_time": "2025-04-22T17:58:27.054857Z"
    }
   },
   "cell_type": "code",
   "source": [
    "df_output_list = []\n",
    "df['generalista_especialidade'] = None\n",
    "df['laudador_especialidade'] = None\n",
    "df['perito_especialidade'] = None\n",
    "\n",
    "df['generalista_modalidade'] = None\n",
    "df['laudador_modalidade'] = None\n",
    "df['perito_modalidade'] = None\n",
    "\n",
    "\n",
    "\n",
    "for index, row in df.iterrows():\n",
    "    try:\n",
    "\n",
    "\n",
    "        print('############################################## '+ str(index))\n",
    "        transcricao_clinica = f'''\n",
    "          Descrição clínica: {row['description']}.\n",
    "          Transcrição clínica: {row['transcription']}.\n",
    "          Palavras-chave: {row['keywords']}.\n",
    "          '''\n",
    "\n",
    "      # definindo a tarefa genérica para generalista\n",
    "        task_generalista = get_task(transcricao_clinica, medico_generalista)\n",
    "\n",
    "        crew_generalista = Crew(\n",
    "        agents=[medico_generalista],\n",
    "        tasks=[task_generalista],\n",
    "        verbose=False,\n",
    "        memory=True,\n",
    "        process=Process.sequential\n",
    "      )\n",
    "        result_generalista = crew_generalista.kickoff()\n",
    "\n",
    "\n",
    "        # definindo a tarefa genérica para laudador\n",
    "        task_laudador = get_task(transcricao_clinica, medico_laudador)\n",
    "\n",
    "        crew_laudador = Crew(\n",
    "        agents=[medico_laudador],\n",
    "        tasks=[task_laudador],\n",
    "        verbose=False,\n",
    "        memory=True,\n",
    "        process=Process.sequential\n",
    "      )\n",
    "        result_laudador = crew_laudador.kickoff()\n",
    "\n",
    "\n",
    "       # definindo a tarefa genérica para perito\n",
    "        task_perito = get_task(transcricao_clinica, medico_perito)\n",
    "\n",
    "        crew_perito = Crew(\n",
    "        agents=[medico_perito],\n",
    "        tasks=[task_perito],\n",
    "        verbose=False,\n",
    "        memory=True,\n",
    "        process=Process.sequential\n",
    "      )\n",
    "        result_perito = crew_perito.kickoff()\n",
    "\n",
    "        especialidade_modalidade = result_generalista.raw.split(\",\")\n",
    "        df.at[index,'generalista_especialidade'] = especialidade_modalidade[0]\n",
    "        df.at[index,'generalista_modalidade'] = especialidade_modalidade[1]\n",
    "\n",
    "        especialidade_modalidade = result_laudador.raw.split(\",\")\n",
    "        df.at[index,'laudador_especialidade'] = especialidade_modalidade[0]\n",
    "        df.at[index,'laudador_modalidade'] = especialidade_modalidade[1]\n",
    "\n",
    "\n",
    "        especialidade_modalidade = result_perito.raw.split(\",\")\n",
    "        df.at[index,'perito_especialidade'] = especialidade_modalidade[0]\n",
    "        df.at[index,'perito_modalidade'] = especialidade_modalidade[1]\n",
    "    except Exception as e:\n",
    "        print(e)\n"
   ],
   "id": "6c8e931f5bece079",
   "outputs": [
    {
     "name": "stdout",
     "output_type": "stream",
     "text": [
      "############################################## 0\n",
      "############################################## 1\n",
      "############################################## 2\n",
      "############################################## 3\n",
      "############################################## 4\n",
      "############################################## 5\n",
      "############################################## 6\n",
      "############################################## 7\n",
      "############################################## 8\n",
      "############################################## 9\n",
      "############################################## 10\n",
      "############################################## 11\n",
      "############################################## 12\n",
      "############################################## 13\n",
      "############################################## 14\n",
      "############################################## 15\n",
      "############################################## 16\n",
      "############################################## 17\n",
      "############################################## 18\n",
      "############################################## 19\n",
      "############################################## 20\n",
      "############################################## 21\n",
      "############################################## 22\n",
      "############################################## 23\n",
      "############################################## 24\n",
      "############################################## 25\n",
      "############################################## 26\n",
      "############################################## 27\n",
      "############################################## 28\n",
      "############################################## 29\n",
      "############################################## 30\n",
      "############################################## 31\n",
      "############################################## 32\n",
      "############################################## 33\n",
      "############################################## 34\n",
      "############################################## 35\n",
      "############################################## 36\n",
      "############################################## 37\n",
      "############################################## 38\n",
      "############################################## 39\n",
      "############################################## 40\n",
      "############################################## 41\n",
      "############################################## 42\n",
      "############################################## 43\n",
      "############################################## 44\n",
      "############################################## 45\n",
      "############################################## 46\n",
      "############################################## 47\n",
      "############################################## 48\n",
      "############################################## 49\n",
      "############################################## 50\n",
      "############################################## 51\n",
      "############################################## 52\n",
      "############################################## 53\n",
      "############################################## 54\n",
      "############################################## 55\n",
      "############################################## 56\n",
      "############################################## 57\n",
      "############################################## 58\n",
      "############################################## 59\n",
      "############################################## 60\n",
      "############################################## 61\n",
      "############################################## 62\n",
      "############################################## 63\n",
      "############################################## 64\n",
      "############################################## 65\n"
     ]
    },
    {
     "name": "stderr",
     "output_type": "stream",
     "text": [
      "ERROR:root:LiteLLM call failed: litellm.RateLimitError: RateLimitError: GroqException - {\"error\":{\"message\":\"Rate limit reached for model `compound-beta` in organization `org_01jhc3pgw2ema9vx7xrt725fda` service tier `on_demand` on requests per day (RPD): Limit 200, Used 200, Requested 1. Please try again in 6m32.45s. Need more tokens? Visit https://groq.com/self-serve-support/ to request higher limits.\",\"type\":\"requests\",\"code\":\"rate_limit_exceeded\"}}\n",
      "\n"
     ]
    },
    {
     "name": "stdout",
     "output_type": "stream",
     "text": [
      "\n",
      "\n",
      "LiteLLM.Info: If you need to debug this error, use `litellm._turn_on_debug()'.\n",
      "\n",
      "\n",
      "\u001B[1;31mProvider List: https://docs.litellm.ai/docs/providers\u001B[0m\n",
      "\n",
      "\u001B[91m Error during LLM call: litellm.RateLimitError: RateLimitError: GroqException - {\"error\":{\"message\":\"Rate limit reached for model `compound-beta` in organization `org_01jhc3pgw2ema9vx7xrt725fda` service tier `on_demand` on requests per day (RPD): Limit 200, Used 200, Requested 1. Please try again in 6m32.45s. Need more tokens? Visit https://groq.com/self-serve-support/ to request higher limits.\",\"type\":\"requests\",\"code\":\"rate_limit_exceeded\"}}\n",
      "\u001B[00m\n",
      "\u001B[91m An unknown error occurred. Please check the details below.\u001B[00m\n",
      "\u001B[91m Error details: litellm.RateLimitError: RateLimitError: GroqException - {\"error\":{\"message\":\"Rate limit reached for model `compound-beta` in organization `org_01jhc3pgw2ema9vx7xrt725fda` service tier `on_demand` on requests per day (RPD): Limit 200, Used 200, Requested 1. Please try again in 6m32.45s. Need more tokens? Visit https://groq.com/self-serve-support/ to request higher limits.\",\"type\":\"requests\",\"code\":\"rate_limit_exceeded\"}}\n",
      "\u001B[00m\n",
      "litellm.RateLimitError: RateLimitError: GroqException - {\"error\":{\"message\":\"Rate limit reached for model `compound-beta` in organization `org_01jhc3pgw2ema9vx7xrt725fda` service tier `on_demand` on requests per day (RPD): Limit 200, Used 200, Requested 1. Please try again in 6m32.45s. Need more tokens? Visit https://groq.com/self-serve-support/ to request higher limits.\",\"type\":\"requests\",\"code\":\"rate_limit_exceeded\"}}\n",
      "\n",
      "############################################## 66\n"
     ]
    },
    {
     "name": "stderr",
     "output_type": "stream",
     "text": [
      "ERROR:root:LiteLLM call failed: litellm.RateLimitError: RateLimitError: GroqException - {\"error\":{\"message\":\"Rate limit reached for model `compound-beta` in organization `org_01jhc3pgw2ema9vx7xrt725fda` service tier `on_demand` on requests per day (RPD): Limit 200, Used 200, Requested 1. Please try again in 6m15.715s. Need more tokens? Visit https://groq.com/self-serve-support/ to request higher limits.\",\"type\":\"requests\",\"code\":\"rate_limit_exceeded\"}}\n",
      "\n"
     ]
    },
    {
     "name": "stdout",
     "output_type": "stream",
     "text": [
      "\n",
      "\n",
      "LiteLLM.Info: If you need to debug this error, use `litellm._turn_on_debug()'.\n",
      "\n",
      "\n",
      "\u001B[1;31mProvider List: https://docs.litellm.ai/docs/providers\u001B[0m\n",
      "\n",
      "\u001B[91m Error during LLM call: litellm.RateLimitError: RateLimitError: GroqException - {\"error\":{\"message\":\"Rate limit reached for model `compound-beta` in organization `org_01jhc3pgw2ema9vx7xrt725fda` service tier `on_demand` on requests per day (RPD): Limit 200, Used 200, Requested 1. Please try again in 6m15.715s. Need more tokens? Visit https://groq.com/self-serve-support/ to request higher limits.\",\"type\":\"requests\",\"code\":\"rate_limit_exceeded\"}}\n",
      "\u001B[00m\n",
      "\u001B[91m An unknown error occurred. Please check the details below.\u001B[00m\n",
      "\u001B[91m Error details: litellm.RateLimitError: RateLimitError: GroqException - {\"error\":{\"message\":\"Rate limit reached for model `compound-beta` in organization `org_01jhc3pgw2ema9vx7xrt725fda` service tier `on_demand` on requests per day (RPD): Limit 200, Used 200, Requested 1. Please try again in 6m15.715s. Need more tokens? Visit https://groq.com/self-serve-support/ to request higher limits.\",\"type\":\"requests\",\"code\":\"rate_limit_exceeded\"}}\n",
      "\u001B[00m\n",
      "litellm.RateLimitError: RateLimitError: GroqException - {\"error\":{\"message\":\"Rate limit reached for model `compound-beta` in organization `org_01jhc3pgw2ema9vx7xrt725fda` service tier `on_demand` on requests per day (RPD): Limit 200, Used 200, Requested 1. Please try again in 6m15.715s. Need more tokens? Visit https://groq.com/self-serve-support/ to request higher limits.\",\"type\":\"requests\",\"code\":\"rate_limit_exceeded\"}}\n",
      "\n",
      "############################################## 67\n"
     ]
    },
    {
     "name": "stderr",
     "output_type": "stream",
     "text": [
      "ERROR:root:LiteLLM call failed: litellm.RateLimitError: RateLimitError: GroqException - {\"error\":{\"message\":\"Rate limit reached for model `compound-beta` in organization `org_01jhc3pgw2ema9vx7xrt725fda` service tier `on_demand` on requests per day (RPD): Limit 200, Used 200, Requested 1. Please try again in 5m58.991s. Need more tokens? Visit https://groq.com/self-serve-support/ to request higher limits.\",\"type\":\"requests\",\"code\":\"rate_limit_exceeded\"}}\n",
      "\n"
     ]
    },
    {
     "name": "stdout",
     "output_type": "stream",
     "text": [
      "\n",
      "\n",
      "LiteLLM.Info: If you need to debug this error, use `litellm._turn_on_debug()'.\n",
      "\n",
      "\n",
      "\u001B[1;31mProvider List: https://docs.litellm.ai/docs/providers\u001B[0m\n",
      "\n",
      "\u001B[91m Error during LLM call: litellm.RateLimitError: RateLimitError: GroqException - {\"error\":{\"message\":\"Rate limit reached for model `compound-beta` in organization `org_01jhc3pgw2ema9vx7xrt725fda` service tier `on_demand` on requests per day (RPD): Limit 200, Used 200, Requested 1. Please try again in 5m58.991s. Need more tokens? Visit https://groq.com/self-serve-support/ to request higher limits.\",\"type\":\"requests\",\"code\":\"rate_limit_exceeded\"}}\n",
      "\u001B[00m\n",
      "\u001B[91m An unknown error occurred. Please check the details below.\u001B[00m\n",
      "\u001B[91m Error details: litellm.RateLimitError: RateLimitError: GroqException - {\"error\":{\"message\":\"Rate limit reached for model `compound-beta` in organization `org_01jhc3pgw2ema9vx7xrt725fda` service tier `on_demand` on requests per day (RPD): Limit 200, Used 200, Requested 1. Please try again in 5m58.991s. Need more tokens? Visit https://groq.com/self-serve-support/ to request higher limits.\",\"type\":\"requests\",\"code\":\"rate_limit_exceeded\"}}\n",
      "\u001B[00m\n",
      "litellm.RateLimitError: RateLimitError: GroqException - {\"error\":{\"message\":\"Rate limit reached for model `compound-beta` in organization `org_01jhc3pgw2ema9vx7xrt725fda` service tier `on_demand` on requests per day (RPD): Limit 200, Used 200, Requested 1. Please try again in 5m58.991s. Need more tokens? Visit https://groq.com/self-serve-support/ to request higher limits.\",\"type\":\"requests\",\"code\":\"rate_limit_exceeded\"}}\n",
      "\n",
      "############################################## 68\n"
     ]
    },
    {
     "name": "stderr",
     "output_type": "stream",
     "text": [
      "ERROR:root:LiteLLM call failed: litellm.RateLimitError: RateLimitError: GroqException - {\"error\":{\"message\":\"Rate limit reached for model `compound-beta` in organization `org_01jhc3pgw2ema9vx7xrt725fda` service tier `on_demand` on requests per day (RPD): Limit 200, Used 200, Requested 1. Please try again in 5m42.601s. Need more tokens? Visit https://groq.com/self-serve-support/ to request higher limits.\",\"type\":\"requests\",\"code\":\"rate_limit_exceeded\"}}\n",
      "\n"
     ]
    },
    {
     "name": "stdout",
     "output_type": "stream",
     "text": [
      "\n",
      "\n",
      "LiteLLM.Info: If you need to debug this error, use `litellm._turn_on_debug()'.\n",
      "\n",
      "\n",
      "\u001B[1;31mProvider List: https://docs.litellm.ai/docs/providers\u001B[0m\n",
      "\n",
      "\u001B[91m Error during LLM call: litellm.RateLimitError: RateLimitError: GroqException - {\"error\":{\"message\":\"Rate limit reached for model `compound-beta` in organization `org_01jhc3pgw2ema9vx7xrt725fda` service tier `on_demand` on requests per day (RPD): Limit 200, Used 200, Requested 1. Please try again in 5m42.601s. Need more tokens? Visit https://groq.com/self-serve-support/ to request higher limits.\",\"type\":\"requests\",\"code\":\"rate_limit_exceeded\"}}\n",
      "\u001B[00m\n",
      "\u001B[91m An unknown error occurred. Please check the details below.\u001B[00m\n",
      "\u001B[91m Error details: litellm.RateLimitError: RateLimitError: GroqException - {\"error\":{\"message\":\"Rate limit reached for model `compound-beta` in organization `org_01jhc3pgw2ema9vx7xrt725fda` service tier `on_demand` on requests per day (RPD): Limit 200, Used 200, Requested 1. Please try again in 5m42.601s. Need more tokens? Visit https://groq.com/self-serve-support/ to request higher limits.\",\"type\":\"requests\",\"code\":\"rate_limit_exceeded\"}}\n",
      "\u001B[00m\n",
      "litellm.RateLimitError: RateLimitError: GroqException - {\"error\":{\"message\":\"Rate limit reached for model `compound-beta` in organization `org_01jhc3pgw2ema9vx7xrt725fda` service tier `on_demand` on requests per day (RPD): Limit 200, Used 200, Requested 1. Please try again in 5m42.601s. Need more tokens? Visit https://groq.com/self-serve-support/ to request higher limits.\",\"type\":\"requests\",\"code\":\"rate_limit_exceeded\"}}\n",
      "\n",
      "############################################## 69\n"
     ]
    },
    {
     "name": "stderr",
     "output_type": "stream",
     "text": [
      "ERROR:root:LiteLLM call failed: litellm.RateLimitError: RateLimitError: GroqException - {\"error\":{\"message\":\"Rate limit reached for model `compound-beta` in organization `org_01jhc3pgw2ema9vx7xrt725fda` service tier `on_demand` on requests per day (RPD): Limit 200, Used 200, Requested 1. Please try again in 5m30.743s. Need more tokens? Visit https://groq.com/self-serve-support/ to request higher limits.\",\"type\":\"requests\",\"code\":\"rate_limit_exceeded\"}}\n",
      "\n"
     ]
    },
    {
     "name": "stdout",
     "output_type": "stream",
     "text": [
      "\n",
      "\n",
      "LiteLLM.Info: If you need to debug this error, use `litellm._turn_on_debug()'.\n",
      "\n",
      "\n",
      "\u001B[1;31mProvider List: https://docs.litellm.ai/docs/providers\u001B[0m\n",
      "\n",
      "\u001B[91m Error during LLM call: litellm.RateLimitError: RateLimitError: GroqException - {\"error\":{\"message\":\"Rate limit reached for model `compound-beta` in organization `org_01jhc3pgw2ema9vx7xrt725fda` service tier `on_demand` on requests per day (RPD): Limit 200, Used 200, Requested 1. Please try again in 5m30.743s. Need more tokens? Visit https://groq.com/self-serve-support/ to request higher limits.\",\"type\":\"requests\",\"code\":\"rate_limit_exceeded\"}}\n",
      "\u001B[00m\n",
      "\u001B[91m An unknown error occurred. Please check the details below.\u001B[00m\n",
      "\u001B[91m Error details: litellm.RateLimitError: RateLimitError: GroqException - {\"error\":{\"message\":\"Rate limit reached for model `compound-beta` in organization `org_01jhc3pgw2ema9vx7xrt725fda` service tier `on_demand` on requests per day (RPD): Limit 200, Used 200, Requested 1. Please try again in 5m30.743s. Need more tokens? Visit https://groq.com/self-serve-support/ to request higher limits.\",\"type\":\"requests\",\"code\":\"rate_limit_exceeded\"}}\n",
      "\u001B[00m\n",
      "litellm.RateLimitError: RateLimitError: GroqException - {\"error\":{\"message\":\"Rate limit reached for model `compound-beta` in organization `org_01jhc3pgw2ema9vx7xrt725fda` service tier `on_demand` on requests per day (RPD): Limit 200, Used 200, Requested 1. Please try again in 5m30.743s. Need more tokens? Visit https://groq.com/self-serve-support/ to request higher limits.\",\"type\":\"requests\",\"code\":\"rate_limit_exceeded\"}}\n",
      "\n",
      "############################################## 70\n"
     ]
    },
    {
     "name": "stderr",
     "output_type": "stream",
     "text": [
      "ERROR:root:LiteLLM call failed: litellm.RateLimitError: RateLimitError: GroqException - {\"error\":{\"message\":\"Rate limit reached for model `compound-beta` in organization `org_01jhc3pgw2ema9vx7xrt725fda` service tier `on_demand` on requests per day (RPD): Limit 200, Used 200, Requested 1. Please try again in 5m12.95s. Need more tokens? Visit https://groq.com/self-serve-support/ to request higher limits.\",\"type\":\"requests\",\"code\":\"rate_limit_exceeded\"}}\n",
      "\n"
     ]
    },
    {
     "name": "stdout",
     "output_type": "stream",
     "text": [
      "\n",
      "\n",
      "LiteLLM.Info: If you need to debug this error, use `litellm._turn_on_debug()'.\n",
      "\n",
      "\n",
      "\u001B[1;31mProvider List: https://docs.litellm.ai/docs/providers\u001B[0m\n",
      "\n",
      "\u001B[91m Error during LLM call: litellm.RateLimitError: RateLimitError: GroqException - {\"error\":{\"message\":\"Rate limit reached for model `compound-beta` in organization `org_01jhc3pgw2ema9vx7xrt725fda` service tier `on_demand` on requests per day (RPD): Limit 200, Used 200, Requested 1. Please try again in 5m12.95s. Need more tokens? Visit https://groq.com/self-serve-support/ to request higher limits.\",\"type\":\"requests\",\"code\":\"rate_limit_exceeded\"}}\n",
      "\u001B[00m\n",
      "\u001B[91m An unknown error occurred. Please check the details below.\u001B[00m\n",
      "\u001B[91m Error details: litellm.RateLimitError: RateLimitError: GroqException - {\"error\":{\"message\":\"Rate limit reached for model `compound-beta` in organization `org_01jhc3pgw2ema9vx7xrt725fda` service tier `on_demand` on requests per day (RPD): Limit 200, Used 200, Requested 1. Please try again in 5m12.95s. Need more tokens? Visit https://groq.com/self-serve-support/ to request higher limits.\",\"type\":\"requests\",\"code\":\"rate_limit_exceeded\"}}\n",
      "\u001B[00m\n",
      "litellm.RateLimitError: RateLimitError: GroqException - {\"error\":{\"message\":\"Rate limit reached for model `compound-beta` in organization `org_01jhc3pgw2ema9vx7xrt725fda` service tier `on_demand` on requests per day (RPD): Limit 200, Used 200, Requested 1. Please try again in 5m12.95s. Need more tokens? Visit https://groq.com/self-serve-support/ to request higher limits.\",\"type\":\"requests\",\"code\":\"rate_limit_exceeded\"}}\n",
      "\n",
      "############################################## 71\n"
     ]
    },
    {
     "name": "stderr",
     "output_type": "stream",
     "text": [
      "ERROR:root:LiteLLM call failed: litellm.RateLimitError: RateLimitError: GroqException - {\"error\":{\"message\":\"Rate limit reached for model `compound-beta` in organization `org_01jhc3pgw2ema9vx7xrt725fda` service tier `on_demand` on requests per day (RPD): Limit 200, Used 200, Requested 1. Please try again in 4m59.234s. Need more tokens? Visit https://groq.com/self-serve-support/ to request higher limits.\",\"type\":\"requests\",\"code\":\"rate_limit_exceeded\"}}\n",
      "\n"
     ]
    },
    {
     "name": "stdout",
     "output_type": "stream",
     "text": [
      "\n",
      "\n",
      "LiteLLM.Info: If you need to debug this error, use `litellm._turn_on_debug()'.\n",
      "\n",
      "\n",
      "\u001B[1;31mProvider List: https://docs.litellm.ai/docs/providers\u001B[0m\n",
      "\n",
      "\u001B[91m Error during LLM call: litellm.RateLimitError: RateLimitError: GroqException - {\"error\":{\"message\":\"Rate limit reached for model `compound-beta` in organization `org_01jhc3pgw2ema9vx7xrt725fda` service tier `on_demand` on requests per day (RPD): Limit 200, Used 200, Requested 1. Please try again in 4m59.234s. Need more tokens? Visit https://groq.com/self-serve-support/ to request higher limits.\",\"type\":\"requests\",\"code\":\"rate_limit_exceeded\"}}\n",
      "\u001B[00m\n",
      "\u001B[91m An unknown error occurred. Please check the details below.\u001B[00m\n",
      "\u001B[91m Error details: litellm.RateLimitError: RateLimitError: GroqException - {\"error\":{\"message\":\"Rate limit reached for model `compound-beta` in organization `org_01jhc3pgw2ema9vx7xrt725fda` service tier `on_demand` on requests per day (RPD): Limit 200, Used 200, Requested 1. Please try again in 4m59.234s. Need more tokens? Visit https://groq.com/self-serve-support/ to request higher limits.\",\"type\":\"requests\",\"code\":\"rate_limit_exceeded\"}}\n",
      "\u001B[00m\n",
      "litellm.RateLimitError: RateLimitError: GroqException - {\"error\":{\"message\":\"Rate limit reached for model `compound-beta` in organization `org_01jhc3pgw2ema9vx7xrt725fda` service tier `on_demand` on requests per day (RPD): Limit 200, Used 200, Requested 1. Please try again in 4m59.234s. Need more tokens? Visit https://groq.com/self-serve-support/ to request higher limits.\",\"type\":\"requests\",\"code\":\"rate_limit_exceeded\"}}\n",
      "\n",
      "############################################## 72\n"
     ]
    },
    {
     "name": "stderr",
     "output_type": "stream",
     "text": [
      "ERROR:root:LiteLLM call failed: litellm.RateLimitError: RateLimitError: GroqException - {\"error\":{\"message\":\"Rate limit reached for model `compound-beta` in organization `org_01jhc3pgw2ema9vx7xrt725fda` service tier `on_demand` on requests per day (RPD): Limit 200, Used 200, Requested 1. Please try again in 4m43.37s. Need more tokens? Visit https://groq.com/self-serve-support/ to request higher limits.\",\"type\":\"requests\",\"code\":\"rate_limit_exceeded\"}}\n",
      "\n"
     ]
    },
    {
     "name": "stdout",
     "output_type": "stream",
     "text": [
      "\n",
      "\n",
      "LiteLLM.Info: If you need to debug this error, use `litellm._turn_on_debug()'.\n",
      "\n",
      "\n",
      "\u001B[1;31mProvider List: https://docs.litellm.ai/docs/providers\u001B[0m\n",
      "\n",
      "\u001B[91m Error during LLM call: litellm.RateLimitError: RateLimitError: GroqException - {\"error\":{\"message\":\"Rate limit reached for model `compound-beta` in organization `org_01jhc3pgw2ema9vx7xrt725fda` service tier `on_demand` on requests per day (RPD): Limit 200, Used 200, Requested 1. Please try again in 4m43.37s. Need more tokens? Visit https://groq.com/self-serve-support/ to request higher limits.\",\"type\":\"requests\",\"code\":\"rate_limit_exceeded\"}}\n",
      "\u001B[00m\n",
      "\u001B[91m An unknown error occurred. Please check the details below.\u001B[00m\n",
      "\u001B[91m Error details: litellm.RateLimitError: RateLimitError: GroqException - {\"error\":{\"message\":\"Rate limit reached for model `compound-beta` in organization `org_01jhc3pgw2ema9vx7xrt725fda` service tier `on_demand` on requests per day (RPD): Limit 200, Used 200, Requested 1. Please try again in 4m43.37s. Need more tokens? Visit https://groq.com/self-serve-support/ to request higher limits.\",\"type\":\"requests\",\"code\":\"rate_limit_exceeded\"}}\n",
      "\u001B[00m\n",
      "litellm.RateLimitError: RateLimitError: GroqException - {\"error\":{\"message\":\"Rate limit reached for model `compound-beta` in organization `org_01jhc3pgw2ema9vx7xrt725fda` service tier `on_demand` on requests per day (RPD): Limit 200, Used 200, Requested 1. Please try again in 4m43.37s. Need more tokens? Visit https://groq.com/self-serve-support/ to request higher limits.\",\"type\":\"requests\",\"code\":\"rate_limit_exceeded\"}}\n",
      "\n",
      "############################################## 73\n"
     ]
    },
    {
     "name": "stderr",
     "output_type": "stream",
     "text": [
      "ERROR:root:LiteLLM call failed: litellm.RateLimitError: RateLimitError: GroqException - {\"error\":{\"message\":\"Rate limit reached for model `compound-beta` in organization `org_01jhc3pgw2ema9vx7xrt725fda` service tier `on_demand` on requests per day (RPD): Limit 200, Used 200, Requested 1. Please try again in 4m25.122s. Need more tokens? Visit https://groq.com/self-serve-support/ to request higher limits.\",\"type\":\"requests\",\"code\":\"rate_limit_exceeded\"}}\n",
      "\n"
     ]
    },
    {
     "name": "stdout",
     "output_type": "stream",
     "text": [
      "\n",
      "\n",
      "LiteLLM.Info: If you need to debug this error, use `litellm._turn_on_debug()'.\n",
      "\n",
      "\n",
      "\u001B[1;31mProvider List: https://docs.litellm.ai/docs/providers\u001B[0m\n",
      "\n",
      "\u001B[91m Error during LLM call: litellm.RateLimitError: RateLimitError: GroqException - {\"error\":{\"message\":\"Rate limit reached for model `compound-beta` in organization `org_01jhc3pgw2ema9vx7xrt725fda` service tier `on_demand` on requests per day (RPD): Limit 200, Used 200, Requested 1. Please try again in 4m25.122s. Need more tokens? Visit https://groq.com/self-serve-support/ to request higher limits.\",\"type\":\"requests\",\"code\":\"rate_limit_exceeded\"}}\n",
      "\u001B[00m\n",
      "\u001B[91m An unknown error occurred. Please check the details below.\u001B[00m\n",
      "\u001B[91m Error details: litellm.RateLimitError: RateLimitError: GroqException - {\"error\":{\"message\":\"Rate limit reached for model `compound-beta` in organization `org_01jhc3pgw2ema9vx7xrt725fda` service tier `on_demand` on requests per day (RPD): Limit 200, Used 200, Requested 1. Please try again in 4m25.122s. Need more tokens? Visit https://groq.com/self-serve-support/ to request higher limits.\",\"type\":\"requests\",\"code\":\"rate_limit_exceeded\"}}\n",
      "\u001B[00m\n",
      "litellm.RateLimitError: RateLimitError: GroqException - {\"error\":{\"message\":\"Rate limit reached for model `compound-beta` in organization `org_01jhc3pgw2ema9vx7xrt725fda` service tier `on_demand` on requests per day (RPD): Limit 200, Used 200, Requested 1. Please try again in 4m25.122s. Need more tokens? Visit https://groq.com/self-serve-support/ to request higher limits.\",\"type\":\"requests\",\"code\":\"rate_limit_exceeded\"}}\n",
      "\n",
      "############################################## 74\n"
     ]
    },
    {
     "name": "stderr",
     "output_type": "stream",
     "text": [
      "ERROR:root:LiteLLM call failed: litellm.RateLimitError: RateLimitError: GroqException - {\"error\":{\"message\":\"Rate limit reached for model `compound-beta` in organization `org_01jhc3pgw2ema9vx7xrt725fda` service tier `on_demand` on requests per day (RPD): Limit 200, Used 200, Requested 1. Please try again in 4m7.924s. Need more tokens? Visit https://groq.com/self-serve-support/ to request higher limits.\",\"type\":\"requests\",\"code\":\"rate_limit_exceeded\"}}\n",
      "\n"
     ]
    },
    {
     "name": "stdout",
     "output_type": "stream",
     "text": [
      "\n",
      "\n",
      "LiteLLM.Info: If you need to debug this error, use `litellm._turn_on_debug()'.\n",
      "\n",
      "\n",
      "\u001B[1;31mProvider List: https://docs.litellm.ai/docs/providers\u001B[0m\n",
      "\n",
      "\u001B[91m Error during LLM call: litellm.RateLimitError: RateLimitError: GroqException - {\"error\":{\"message\":\"Rate limit reached for model `compound-beta` in organization `org_01jhc3pgw2ema9vx7xrt725fda` service tier `on_demand` on requests per day (RPD): Limit 200, Used 200, Requested 1. Please try again in 4m7.924s. Need more tokens? Visit https://groq.com/self-serve-support/ to request higher limits.\",\"type\":\"requests\",\"code\":\"rate_limit_exceeded\"}}\n",
      "\u001B[00m\n",
      "\u001B[91m An unknown error occurred. Please check the details below.\u001B[00m\n",
      "\u001B[91m Error details: litellm.RateLimitError: RateLimitError: GroqException - {\"error\":{\"message\":\"Rate limit reached for model `compound-beta` in organization `org_01jhc3pgw2ema9vx7xrt725fda` service tier `on_demand` on requests per day (RPD): Limit 200, Used 200, Requested 1. Please try again in 4m7.924s. Need more tokens? Visit https://groq.com/self-serve-support/ to request higher limits.\",\"type\":\"requests\",\"code\":\"rate_limit_exceeded\"}}\n",
      "\u001B[00m\n",
      "litellm.RateLimitError: RateLimitError: GroqException - {\"error\":{\"message\":\"Rate limit reached for model `compound-beta` in organization `org_01jhc3pgw2ema9vx7xrt725fda` service tier `on_demand` on requests per day (RPD): Limit 200, Used 200, Requested 1. Please try again in 4m7.924s. Need more tokens? Visit https://groq.com/self-serve-support/ to request higher limits.\",\"type\":\"requests\",\"code\":\"rate_limit_exceeded\"}}\n",
      "\n",
      "############################################## 75\n"
     ]
    },
    {
     "name": "stderr",
     "output_type": "stream",
     "text": [
      "ERROR:root:LiteLLM call failed: litellm.RateLimitError: RateLimitError: GroqException - {\"error\":{\"message\":\"Rate limit reached for model `compound-beta` in organization `org_01jhc3pgw2ema9vx7xrt725fda` service tier `on_demand` on requests per day (RPD): Limit 200, Used 200, Requested 1. Please try again in 3m52.974s. Need more tokens? Visit https://groq.com/self-serve-support/ to request higher limits.\",\"type\":\"requests\",\"code\":\"rate_limit_exceeded\"}}\n",
      "\n"
     ]
    },
    {
     "name": "stdout",
     "output_type": "stream",
     "text": [
      "\n",
      "\n",
      "LiteLLM.Info: If you need to debug this error, use `litellm._turn_on_debug()'.\n",
      "\n",
      "\n",
      "\u001B[1;31mProvider List: https://docs.litellm.ai/docs/providers\u001B[0m\n",
      "\n",
      "\u001B[91m Error during LLM call: litellm.RateLimitError: RateLimitError: GroqException - {\"error\":{\"message\":\"Rate limit reached for model `compound-beta` in organization `org_01jhc3pgw2ema9vx7xrt725fda` service tier `on_demand` on requests per day (RPD): Limit 200, Used 200, Requested 1. Please try again in 3m52.974s. Need more tokens? Visit https://groq.com/self-serve-support/ to request higher limits.\",\"type\":\"requests\",\"code\":\"rate_limit_exceeded\"}}\n",
      "\u001B[00m\n",
      "\u001B[91m An unknown error occurred. Please check the details below.\u001B[00m\n",
      "\u001B[91m Error details: litellm.RateLimitError: RateLimitError: GroqException - {\"error\":{\"message\":\"Rate limit reached for model `compound-beta` in organization `org_01jhc3pgw2ema9vx7xrt725fda` service tier `on_demand` on requests per day (RPD): Limit 200, Used 200, Requested 1. Please try again in 3m52.974s. Need more tokens? Visit https://groq.com/self-serve-support/ to request higher limits.\",\"type\":\"requests\",\"code\":\"rate_limit_exceeded\"}}\n",
      "\u001B[00m\n",
      "litellm.RateLimitError: RateLimitError: GroqException - {\"error\":{\"message\":\"Rate limit reached for model `compound-beta` in organization `org_01jhc3pgw2ema9vx7xrt725fda` service tier `on_demand` on requests per day (RPD): Limit 200, Used 200, Requested 1. Please try again in 3m52.974s. Need more tokens? Visit https://groq.com/self-serve-support/ to request higher limits.\",\"type\":\"requests\",\"code\":\"rate_limit_exceeded\"}}\n",
      "\n",
      "############################################## 76\n"
     ]
    },
    {
     "name": "stderr",
     "output_type": "stream",
     "text": [
      "ERROR:root:LiteLLM call failed: litellm.RateLimitError: RateLimitError: GroqException - {\"error\":{\"message\":\"Rate limit reached for model `compound-beta` in organization `org_01jhc3pgw2ema9vx7xrt725fda` service tier `on_demand` on requests per day (RPD): Limit 200, Used 200, Requested 1. Please try again in 3m38.686s. Need more tokens? Visit https://groq.com/self-serve-support/ to request higher limits.\",\"type\":\"requests\",\"code\":\"rate_limit_exceeded\"}}\n",
      "\n"
     ]
    },
    {
     "name": "stdout",
     "output_type": "stream",
     "text": [
      "\n",
      "\n",
      "LiteLLM.Info: If you need to debug this error, use `litellm._turn_on_debug()'.\n",
      "\n",
      "\n",
      "\u001B[1;31mProvider List: https://docs.litellm.ai/docs/providers\u001B[0m\n",
      "\n",
      "\u001B[91m Error during LLM call: litellm.RateLimitError: RateLimitError: GroqException - {\"error\":{\"message\":\"Rate limit reached for model `compound-beta` in organization `org_01jhc3pgw2ema9vx7xrt725fda` service tier `on_demand` on requests per day (RPD): Limit 200, Used 200, Requested 1. Please try again in 3m38.686s. Need more tokens? Visit https://groq.com/self-serve-support/ to request higher limits.\",\"type\":\"requests\",\"code\":\"rate_limit_exceeded\"}}\n",
      "\u001B[00m\n",
      "\u001B[91m An unknown error occurred. Please check the details below.\u001B[00m\n",
      "\u001B[91m Error details: litellm.RateLimitError: RateLimitError: GroqException - {\"error\":{\"message\":\"Rate limit reached for model `compound-beta` in organization `org_01jhc3pgw2ema9vx7xrt725fda` service tier `on_demand` on requests per day (RPD): Limit 200, Used 200, Requested 1. Please try again in 3m38.686s. Need more tokens? Visit https://groq.com/self-serve-support/ to request higher limits.\",\"type\":\"requests\",\"code\":\"rate_limit_exceeded\"}}\n",
      "\u001B[00m\n",
      "litellm.RateLimitError: RateLimitError: GroqException - {\"error\":{\"message\":\"Rate limit reached for model `compound-beta` in organization `org_01jhc3pgw2ema9vx7xrt725fda` service tier `on_demand` on requests per day (RPD): Limit 200, Used 200, Requested 1. Please try again in 3m38.686s. Need more tokens? Visit https://groq.com/self-serve-support/ to request higher limits.\",\"type\":\"requests\",\"code\":\"rate_limit_exceeded\"}}\n",
      "\n",
      "############################################## 77\n"
     ]
    },
    {
     "name": "stderr",
     "output_type": "stream",
     "text": [
      "ERROR:root:LiteLLM call failed: litellm.RateLimitError: RateLimitError: GroqException - {\"error\":{\"message\":\"Rate limit reached for model `compound-beta` in organization `org_01jhc3pgw2ema9vx7xrt725fda` service tier `on_demand` on requests per day (RPD): Limit 200, Used 200, Requested 1. Please try again in 3m21.314s. Need more tokens? Visit https://groq.com/self-serve-support/ to request higher limits.\",\"type\":\"requests\",\"code\":\"rate_limit_exceeded\"}}\n",
      "\n"
     ]
    },
    {
     "name": "stdout",
     "output_type": "stream",
     "text": [
      "\n",
      "\n",
      "LiteLLM.Info: If you need to debug this error, use `litellm._turn_on_debug()'.\n",
      "\n",
      "\n",
      "\u001B[1;31mProvider List: https://docs.litellm.ai/docs/providers\u001B[0m\n",
      "\n",
      "\u001B[91m Error during LLM call: litellm.RateLimitError: RateLimitError: GroqException - {\"error\":{\"message\":\"Rate limit reached for model `compound-beta` in organization `org_01jhc3pgw2ema9vx7xrt725fda` service tier `on_demand` on requests per day (RPD): Limit 200, Used 200, Requested 1. Please try again in 3m21.314s. Need more tokens? Visit https://groq.com/self-serve-support/ to request higher limits.\",\"type\":\"requests\",\"code\":\"rate_limit_exceeded\"}}\n",
      "\u001B[00m\n",
      "\u001B[91m An unknown error occurred. Please check the details below.\u001B[00m\n",
      "\u001B[91m Error details: litellm.RateLimitError: RateLimitError: GroqException - {\"error\":{\"message\":\"Rate limit reached for model `compound-beta` in organization `org_01jhc3pgw2ema9vx7xrt725fda` service tier `on_demand` on requests per day (RPD): Limit 200, Used 200, Requested 1. Please try again in 3m21.314s. Need more tokens? Visit https://groq.com/self-serve-support/ to request higher limits.\",\"type\":\"requests\",\"code\":\"rate_limit_exceeded\"}}\n",
      "\u001B[00m\n",
      "litellm.RateLimitError: RateLimitError: GroqException - {\"error\":{\"message\":\"Rate limit reached for model `compound-beta` in organization `org_01jhc3pgw2ema9vx7xrt725fda` service tier `on_demand` on requests per day (RPD): Limit 200, Used 200, Requested 1. Please try again in 3m21.314s. Need more tokens? Visit https://groq.com/self-serve-support/ to request higher limits.\",\"type\":\"requests\",\"code\":\"rate_limit_exceeded\"}}\n",
      "\n",
      "############################################## 78\n"
     ]
    },
    {
     "name": "stderr",
     "output_type": "stream",
     "text": [
      "ERROR:root:LiteLLM call failed: litellm.RateLimitError: RateLimitError: GroqException - {\"error\":{\"message\":\"Rate limit reached for model `compound-beta` in organization `org_01jhc3pgw2ema9vx7xrt725fda` service tier `on_demand` on requests per day (RPD): Limit 200, Used 200, Requested 1. Please try again in 3m2.64s. Need more tokens? Visit https://groq.com/self-serve-support/ to request higher limits.\",\"type\":\"requests\",\"code\":\"rate_limit_exceeded\"}}\n",
      "\n"
     ]
    },
    {
     "name": "stdout",
     "output_type": "stream",
     "text": [
      "\n",
      "\n",
      "LiteLLM.Info: If you need to debug this error, use `litellm._turn_on_debug()'.\n",
      "\n",
      "\n",
      "\u001B[1;31mProvider List: https://docs.litellm.ai/docs/providers\u001B[0m\n",
      "\n",
      "\u001B[91m Error during LLM call: litellm.RateLimitError: RateLimitError: GroqException - {\"error\":{\"message\":\"Rate limit reached for model `compound-beta` in organization `org_01jhc3pgw2ema9vx7xrt725fda` service tier `on_demand` on requests per day (RPD): Limit 200, Used 200, Requested 1. Please try again in 3m2.64s. Need more tokens? Visit https://groq.com/self-serve-support/ to request higher limits.\",\"type\":\"requests\",\"code\":\"rate_limit_exceeded\"}}\n",
      "\u001B[00m\n",
      "\u001B[91m An unknown error occurred. Please check the details below.\u001B[00m\n",
      "\u001B[91m Error details: litellm.RateLimitError: RateLimitError: GroqException - {\"error\":{\"message\":\"Rate limit reached for model `compound-beta` in organization `org_01jhc3pgw2ema9vx7xrt725fda` service tier `on_demand` on requests per day (RPD): Limit 200, Used 200, Requested 1. Please try again in 3m2.64s. Need more tokens? Visit https://groq.com/self-serve-support/ to request higher limits.\",\"type\":\"requests\",\"code\":\"rate_limit_exceeded\"}}\n",
      "\u001B[00m\n",
      "litellm.RateLimitError: RateLimitError: GroqException - {\"error\":{\"message\":\"Rate limit reached for model `compound-beta` in organization `org_01jhc3pgw2ema9vx7xrt725fda` service tier `on_demand` on requests per day (RPD): Limit 200, Used 200, Requested 1. Please try again in 3m2.64s. Need more tokens? Visit https://groq.com/self-serve-support/ to request higher limits.\",\"type\":\"requests\",\"code\":\"rate_limit_exceeded\"}}\n",
      "\n",
      "############################################## 79\n"
     ]
    },
    {
     "name": "stderr",
     "output_type": "stream",
     "text": [
      "ERROR:root:LiteLLM call failed: litellm.RateLimitError: RateLimitError: GroqException - {\"error\":{\"message\":\"Rate limit reached for model `compound-beta` in organization `org_01jhc3pgw2ema9vx7xrt725fda` service tier `on_demand` on requests per day (RPD): Limit 200, Used 200, Requested 1. Please try again in 2m47.608s. Need more tokens? Visit https://groq.com/self-serve-support/ to request higher limits.\",\"type\":\"requests\",\"code\":\"rate_limit_exceeded\"}}\n",
      "\n"
     ]
    },
    {
     "name": "stdout",
     "output_type": "stream",
     "text": [
      "\n",
      "\n",
      "LiteLLM.Info: If you need to debug this error, use `litellm._turn_on_debug()'.\n",
      "\n",
      "\n",
      "\u001B[1;31mProvider List: https://docs.litellm.ai/docs/providers\u001B[0m\n",
      "\n",
      "\u001B[91m Error during LLM call: litellm.RateLimitError: RateLimitError: GroqException - {\"error\":{\"message\":\"Rate limit reached for model `compound-beta` in organization `org_01jhc3pgw2ema9vx7xrt725fda` service tier `on_demand` on requests per day (RPD): Limit 200, Used 200, Requested 1. Please try again in 2m47.608s. Need more tokens? Visit https://groq.com/self-serve-support/ to request higher limits.\",\"type\":\"requests\",\"code\":\"rate_limit_exceeded\"}}\n",
      "\u001B[00m\n",
      "\u001B[91m An unknown error occurred. Please check the details below.\u001B[00m\n",
      "\u001B[91m Error details: litellm.RateLimitError: RateLimitError: GroqException - {\"error\":{\"message\":\"Rate limit reached for model `compound-beta` in organization `org_01jhc3pgw2ema9vx7xrt725fda` service tier `on_demand` on requests per day (RPD): Limit 200, Used 200, Requested 1. Please try again in 2m47.608s. Need more tokens? Visit https://groq.com/self-serve-support/ to request higher limits.\",\"type\":\"requests\",\"code\":\"rate_limit_exceeded\"}}\n",
      "\u001B[00m\n",
      "litellm.RateLimitError: RateLimitError: GroqException - {\"error\":{\"message\":\"Rate limit reached for model `compound-beta` in organization `org_01jhc3pgw2ema9vx7xrt725fda` service tier `on_demand` on requests per day (RPD): Limit 200, Used 200, Requested 1. Please try again in 2m47.608s. Need more tokens? Visit https://groq.com/self-serve-support/ to request higher limits.\",\"type\":\"requests\",\"code\":\"rate_limit_exceeded\"}}\n",
      "\n",
      "############################################## 80\n"
     ]
    },
    {
     "name": "stderr",
     "output_type": "stream",
     "text": [
      "ERROR:root:LiteLLM call failed: litellm.RateLimitError: RateLimitError: GroqException - {\"error\":{\"message\":\"Rate limit reached for model `compound-beta` in organization `org_01jhc3pgw2ema9vx7xrt725fda` service tier `on_demand` on requests per day (RPD): Limit 200, Used 200, Requested 1. Please try again in 2m31.589s. Need more tokens? Visit https://groq.com/self-serve-support/ to request higher limits.\",\"type\":\"requests\",\"code\":\"rate_limit_exceeded\"}}\n",
      "\n"
     ]
    },
    {
     "name": "stdout",
     "output_type": "stream",
     "text": [
      "\n",
      "\n",
      "LiteLLM.Info: If you need to debug this error, use `litellm._turn_on_debug()'.\n",
      "\n",
      "\n",
      "\u001B[1;31mProvider List: https://docs.litellm.ai/docs/providers\u001B[0m\n",
      "\n",
      "\u001B[91m Error during LLM call: litellm.RateLimitError: RateLimitError: GroqException - {\"error\":{\"message\":\"Rate limit reached for model `compound-beta` in organization `org_01jhc3pgw2ema9vx7xrt725fda` service tier `on_demand` on requests per day (RPD): Limit 200, Used 200, Requested 1. Please try again in 2m31.589s. Need more tokens? Visit https://groq.com/self-serve-support/ to request higher limits.\",\"type\":\"requests\",\"code\":\"rate_limit_exceeded\"}}\n",
      "\u001B[00m\n",
      "\u001B[91m An unknown error occurred. Please check the details below.\u001B[00m\n",
      "\u001B[91m Error details: litellm.RateLimitError: RateLimitError: GroqException - {\"error\":{\"message\":\"Rate limit reached for model `compound-beta` in organization `org_01jhc3pgw2ema9vx7xrt725fda` service tier `on_demand` on requests per day (RPD): Limit 200, Used 200, Requested 1. Please try again in 2m31.589s. Need more tokens? Visit https://groq.com/self-serve-support/ to request higher limits.\",\"type\":\"requests\",\"code\":\"rate_limit_exceeded\"}}\n",
      "\u001B[00m\n",
      "litellm.RateLimitError: RateLimitError: GroqException - {\"error\":{\"message\":\"Rate limit reached for model `compound-beta` in organization `org_01jhc3pgw2ema9vx7xrt725fda` service tier `on_demand` on requests per day (RPD): Limit 200, Used 200, Requested 1. Please try again in 2m31.589s. Need more tokens? Visit https://groq.com/self-serve-support/ to request higher limits.\",\"type\":\"requests\",\"code\":\"rate_limit_exceeded\"}}\n",
      "\n",
      "############################################## 81\n"
     ]
    },
    {
     "name": "stderr",
     "output_type": "stream",
     "text": [
      "ERROR:root:LiteLLM call failed: litellm.RateLimitError: RateLimitError: GroqException - {\"error\":{\"message\":\"Rate limit reached for model `compound-beta` in organization `org_01jhc3pgw2ema9vx7xrt725fda` service tier `on_demand` on requests per day (RPD): Limit 200, Used 200, Requested 1. Please try again in 2m14.826s. Need more tokens? Visit https://groq.com/self-serve-support/ to request higher limits.\",\"type\":\"requests\",\"code\":\"rate_limit_exceeded\"}}\n",
      "\n"
     ]
    },
    {
     "name": "stdout",
     "output_type": "stream",
     "text": [
      "\n",
      "\n",
      "LiteLLM.Info: If you need to debug this error, use `litellm._turn_on_debug()'.\n",
      "\n",
      "\n",
      "\u001B[1;31mProvider List: https://docs.litellm.ai/docs/providers\u001B[0m\n",
      "\n",
      "\u001B[91m Error during LLM call: litellm.RateLimitError: RateLimitError: GroqException - {\"error\":{\"message\":\"Rate limit reached for model `compound-beta` in organization `org_01jhc3pgw2ema9vx7xrt725fda` service tier `on_demand` on requests per day (RPD): Limit 200, Used 200, Requested 1. Please try again in 2m14.826s. Need more tokens? Visit https://groq.com/self-serve-support/ to request higher limits.\",\"type\":\"requests\",\"code\":\"rate_limit_exceeded\"}}\n",
      "\u001B[00m\n",
      "\u001B[91m An unknown error occurred. Please check the details below.\u001B[00m\n",
      "\u001B[91m Error details: litellm.RateLimitError: RateLimitError: GroqException - {\"error\":{\"message\":\"Rate limit reached for model `compound-beta` in organization `org_01jhc3pgw2ema9vx7xrt725fda` service tier `on_demand` on requests per day (RPD): Limit 200, Used 200, Requested 1. Please try again in 2m14.826s. Need more tokens? Visit https://groq.com/self-serve-support/ to request higher limits.\",\"type\":\"requests\",\"code\":\"rate_limit_exceeded\"}}\n",
      "\u001B[00m\n",
      "litellm.RateLimitError: RateLimitError: GroqException - {\"error\":{\"message\":\"Rate limit reached for model `compound-beta` in organization `org_01jhc3pgw2ema9vx7xrt725fda` service tier `on_demand` on requests per day (RPD): Limit 200, Used 200, Requested 1. Please try again in 2m14.826s. Need more tokens? Visit https://groq.com/self-serve-support/ to request higher limits.\",\"type\":\"requests\",\"code\":\"rate_limit_exceeded\"}}\n",
      "\n",
      "############################################## 82\n"
     ]
    },
    {
     "name": "stderr",
     "output_type": "stream",
     "text": [
      "ERROR:root:LiteLLM call failed: litellm.RateLimitError: RateLimitError: GroqException - {\"error\":{\"message\":\"Rate limit reached for model `compound-beta` in organization `org_01jhc3pgw2ema9vx7xrt725fda` service tier `on_demand` on requests per day (RPD): Limit 200, Used 200, Requested 1. Please try again in 1m57.887999999s. Need more tokens? Visit https://groq.com/self-serve-support/ to request higher limits.\",\"type\":\"requests\",\"code\":\"rate_limit_exceeded\"}}\n",
      "\n"
     ]
    },
    {
     "name": "stdout",
     "output_type": "stream",
     "text": [
      "\n",
      "\n",
      "LiteLLM.Info: If you need to debug this error, use `litellm._turn_on_debug()'.\n",
      "\n",
      "\n",
      "\u001B[1;31mProvider List: https://docs.litellm.ai/docs/providers\u001B[0m\n",
      "\n",
      "\u001B[91m Error during LLM call: litellm.RateLimitError: RateLimitError: GroqException - {\"error\":{\"message\":\"Rate limit reached for model `compound-beta` in organization `org_01jhc3pgw2ema9vx7xrt725fda` service tier `on_demand` on requests per day (RPD): Limit 200, Used 200, Requested 1. Please try again in 1m57.887999999s. Need more tokens? Visit https://groq.com/self-serve-support/ to request higher limits.\",\"type\":\"requests\",\"code\":\"rate_limit_exceeded\"}}\n",
      "\u001B[00m\n",
      "\u001B[91m An unknown error occurred. Please check the details below.\u001B[00m\n",
      "\u001B[91m Error details: litellm.RateLimitError: RateLimitError: GroqException - {\"error\":{\"message\":\"Rate limit reached for model `compound-beta` in organization `org_01jhc3pgw2ema9vx7xrt725fda` service tier `on_demand` on requests per day (RPD): Limit 200, Used 200, Requested 1. Please try again in 1m57.887999999s. Need more tokens? Visit https://groq.com/self-serve-support/ to request higher limits.\",\"type\":\"requests\",\"code\":\"rate_limit_exceeded\"}}\n",
      "\u001B[00m\n",
      "litellm.RateLimitError: RateLimitError: GroqException - {\"error\":{\"message\":\"Rate limit reached for model `compound-beta` in organization `org_01jhc3pgw2ema9vx7xrt725fda` service tier `on_demand` on requests per day (RPD): Limit 200, Used 200, Requested 1. Please try again in 1m57.887999999s. Need more tokens? Visit https://groq.com/self-serve-support/ to request higher limits.\",\"type\":\"requests\",\"code\":\"rate_limit_exceeded\"}}\n",
      "\n",
      "############################################## 83\n"
     ]
    },
    {
     "name": "stderr",
     "output_type": "stream",
     "text": [
      "ERROR:root:LiteLLM call failed: litellm.RateLimitError: RateLimitError: GroqException - {\"error\":{\"message\":\"Rate limit reached for model `compound-beta` in organization `org_01jhc3pgw2ema9vx7xrt725fda` service tier `on_demand` on requests per day (RPD): Limit 200, Used 200, Requested 1. Please try again in 1m40.431s. Need more tokens? Visit https://groq.com/self-serve-support/ to request higher limits.\",\"type\":\"requests\",\"code\":\"rate_limit_exceeded\"}}\n",
      "\n"
     ]
    },
    {
     "name": "stdout",
     "output_type": "stream",
     "text": [
      "\n",
      "\n",
      "LiteLLM.Info: If you need to debug this error, use `litellm._turn_on_debug()'.\n",
      "\n",
      "\n",
      "\u001B[1;31mProvider List: https://docs.litellm.ai/docs/providers\u001B[0m\n",
      "\n",
      "\u001B[91m Error during LLM call: litellm.RateLimitError: RateLimitError: GroqException - {\"error\":{\"message\":\"Rate limit reached for model `compound-beta` in organization `org_01jhc3pgw2ema9vx7xrt725fda` service tier `on_demand` on requests per day (RPD): Limit 200, Used 200, Requested 1. Please try again in 1m40.431s. Need more tokens? Visit https://groq.com/self-serve-support/ to request higher limits.\",\"type\":\"requests\",\"code\":\"rate_limit_exceeded\"}}\n",
      "\u001B[00m\n",
      "\u001B[91m An unknown error occurred. Please check the details below.\u001B[00m\n",
      "\u001B[91m Error details: litellm.RateLimitError: RateLimitError: GroqException - {\"error\":{\"message\":\"Rate limit reached for model `compound-beta` in organization `org_01jhc3pgw2ema9vx7xrt725fda` service tier `on_demand` on requests per day (RPD): Limit 200, Used 200, Requested 1. Please try again in 1m40.431s. Need more tokens? Visit https://groq.com/self-serve-support/ to request higher limits.\",\"type\":\"requests\",\"code\":\"rate_limit_exceeded\"}}\n",
      "\u001B[00m\n",
      "litellm.RateLimitError: RateLimitError: GroqException - {\"error\":{\"message\":\"Rate limit reached for model `compound-beta` in organization `org_01jhc3pgw2ema9vx7xrt725fda` service tier `on_demand` on requests per day (RPD): Limit 200, Used 200, Requested 1. Please try again in 1m40.431s. Need more tokens? Visit https://groq.com/self-serve-support/ to request higher limits.\",\"type\":\"requests\",\"code\":\"rate_limit_exceeded\"}}\n",
      "\n",
      "############################################## 84\n"
     ]
    },
    {
     "name": "stderr",
     "output_type": "stream",
     "text": [
      "ERROR:root:LiteLLM call failed: litellm.RateLimitError: RateLimitError: GroqException - {\"error\":{\"message\":\"Rate limit reached for model `compound-beta` in organization `org_01jhc3pgw2ema9vx7xrt725fda` service tier `on_demand` on requests per day (RPD): Limit 200, Used 200, Requested 1. Please try again in 1m21.494s. Need more tokens? Visit https://groq.com/self-serve-support/ to request higher limits.\",\"type\":\"requests\",\"code\":\"rate_limit_exceeded\"}}\n",
      "\n"
     ]
    },
    {
     "name": "stdout",
     "output_type": "stream",
     "text": [
      "\n",
      "\n",
      "LiteLLM.Info: If you need to debug this error, use `litellm._turn_on_debug()'.\n",
      "\n",
      "\n",
      "\u001B[1;31mProvider List: https://docs.litellm.ai/docs/providers\u001B[0m\n",
      "\n",
      "\u001B[91m Error during LLM call: litellm.RateLimitError: RateLimitError: GroqException - {\"error\":{\"message\":\"Rate limit reached for model `compound-beta` in organization `org_01jhc3pgw2ema9vx7xrt725fda` service tier `on_demand` on requests per day (RPD): Limit 200, Used 200, Requested 1. Please try again in 1m21.494s. Need more tokens? Visit https://groq.com/self-serve-support/ to request higher limits.\",\"type\":\"requests\",\"code\":\"rate_limit_exceeded\"}}\n",
      "\u001B[00m\n",
      "\u001B[91m An unknown error occurred. Please check the details below.\u001B[00m\n",
      "\u001B[91m Error details: litellm.RateLimitError: RateLimitError: GroqException - {\"error\":{\"message\":\"Rate limit reached for model `compound-beta` in organization `org_01jhc3pgw2ema9vx7xrt725fda` service tier `on_demand` on requests per day (RPD): Limit 200, Used 200, Requested 1. Please try again in 1m21.494s. Need more tokens? Visit https://groq.com/self-serve-support/ to request higher limits.\",\"type\":\"requests\",\"code\":\"rate_limit_exceeded\"}}\n",
      "\u001B[00m\n",
      "litellm.RateLimitError: RateLimitError: GroqException - {\"error\":{\"message\":\"Rate limit reached for model `compound-beta` in organization `org_01jhc3pgw2ema9vx7xrt725fda` service tier `on_demand` on requests per day (RPD): Limit 200, Used 200, Requested 1. Please try again in 1m21.494s. Need more tokens? Visit https://groq.com/self-serve-support/ to request higher limits.\",\"type\":\"requests\",\"code\":\"rate_limit_exceeded\"}}\n",
      "\n",
      "############################################## 85\n"
     ]
    },
    {
     "name": "stderr",
     "output_type": "stream",
     "text": [
      "ERROR:root:LiteLLM call failed: litellm.RateLimitError: RateLimitError: GroqException - {\"error\":{\"message\":\"Rate limit reached for model `compound-beta` in organization `org_01jhc3pgw2ema9vx7xrt725fda` service tier `on_demand` on requests per day (RPD): Limit 200, Used 200, Requested 1. Please try again in 1m5.591s. Need more tokens? Visit https://groq.com/self-serve-support/ to request higher limits.\",\"type\":\"requests\",\"code\":\"rate_limit_exceeded\"}}\n",
      "\n"
     ]
    },
    {
     "name": "stdout",
     "output_type": "stream",
     "text": [
      "\n",
      "\n",
      "LiteLLM.Info: If you need to debug this error, use `litellm._turn_on_debug()'.\n",
      "\n",
      "\n",
      "\u001B[1;31mProvider List: https://docs.litellm.ai/docs/providers\u001B[0m\n",
      "\n",
      "\u001B[91m Error during LLM call: litellm.RateLimitError: RateLimitError: GroqException - {\"error\":{\"message\":\"Rate limit reached for model `compound-beta` in organization `org_01jhc3pgw2ema9vx7xrt725fda` service tier `on_demand` on requests per day (RPD): Limit 200, Used 200, Requested 1. Please try again in 1m5.591s. Need more tokens? Visit https://groq.com/self-serve-support/ to request higher limits.\",\"type\":\"requests\",\"code\":\"rate_limit_exceeded\"}}\n",
      "\u001B[00m\n",
      "\u001B[91m An unknown error occurred. Please check the details below.\u001B[00m\n",
      "\u001B[91m Error details: litellm.RateLimitError: RateLimitError: GroqException - {\"error\":{\"message\":\"Rate limit reached for model `compound-beta` in organization `org_01jhc3pgw2ema9vx7xrt725fda` service tier `on_demand` on requests per day (RPD): Limit 200, Used 200, Requested 1. Please try again in 1m5.591s. Need more tokens? Visit https://groq.com/self-serve-support/ to request higher limits.\",\"type\":\"requests\",\"code\":\"rate_limit_exceeded\"}}\n",
      "\u001B[00m\n",
      "litellm.RateLimitError: RateLimitError: GroqException - {\"error\":{\"message\":\"Rate limit reached for model `compound-beta` in organization `org_01jhc3pgw2ema9vx7xrt725fda` service tier `on_demand` on requests per day (RPD): Limit 200, Used 200, Requested 1. Please try again in 1m5.591s. Need more tokens? Visit https://groq.com/self-serve-support/ to request higher limits.\",\"type\":\"requests\",\"code\":\"rate_limit_exceeded\"}}\n",
      "\n",
      "############################################## 86\n"
     ]
    },
    {
     "name": "stderr",
     "output_type": "stream",
     "text": [
      "ERROR:root:LiteLLM call failed: litellm.RateLimitError: RateLimitError: GroqException - {\"error\":{\"message\":\"Rate limit reached for model `compound-beta` in organization `org_01jhc3pgw2ema9vx7xrt725fda` service tier `on_demand` on requests per day (RPD): Limit 200, Used 200, Requested 1. Please try again in 48.176999999s. Need more tokens? Visit https://groq.com/self-serve-support/ to request higher limits.\",\"type\":\"requests\",\"code\":\"rate_limit_exceeded\"}}\n",
      "\n"
     ]
    },
    {
     "name": "stdout",
     "output_type": "stream",
     "text": [
      "\n",
      "\n",
      "LiteLLM.Info: If you need to debug this error, use `litellm._turn_on_debug()'.\n",
      "\n",
      "\n",
      "\u001B[1;31mProvider List: https://docs.litellm.ai/docs/providers\u001B[0m\n",
      "\n",
      "\u001B[91m Error during LLM call: litellm.RateLimitError: RateLimitError: GroqException - {\"error\":{\"message\":\"Rate limit reached for model `compound-beta` in organization `org_01jhc3pgw2ema9vx7xrt725fda` service tier `on_demand` on requests per day (RPD): Limit 200, Used 200, Requested 1. Please try again in 48.176999999s. Need more tokens? Visit https://groq.com/self-serve-support/ to request higher limits.\",\"type\":\"requests\",\"code\":\"rate_limit_exceeded\"}}\n",
      "\u001B[00m\n",
      "\u001B[91m An unknown error occurred. Please check the details below.\u001B[00m\n",
      "\u001B[91m Error details: litellm.RateLimitError: RateLimitError: GroqException - {\"error\":{\"message\":\"Rate limit reached for model `compound-beta` in organization `org_01jhc3pgw2ema9vx7xrt725fda` service tier `on_demand` on requests per day (RPD): Limit 200, Used 200, Requested 1. Please try again in 48.176999999s. Need more tokens? Visit https://groq.com/self-serve-support/ to request higher limits.\",\"type\":\"requests\",\"code\":\"rate_limit_exceeded\"}}\n",
      "\u001B[00m\n",
      "litellm.RateLimitError: RateLimitError: GroqException - {\"error\":{\"message\":\"Rate limit reached for model `compound-beta` in organization `org_01jhc3pgw2ema9vx7xrt725fda` service tier `on_demand` on requests per day (RPD): Limit 200, Used 200, Requested 1. Please try again in 48.176999999s. Need more tokens? Visit https://groq.com/self-serve-support/ to request higher limits.\",\"type\":\"requests\",\"code\":\"rate_limit_exceeded\"}}\n",
      "\n",
      "############################################## 87\n"
     ]
    },
    {
     "name": "stderr",
     "output_type": "stream",
     "text": [
      "ERROR:root:LiteLLM call failed: litellm.RateLimitError: RateLimitError: GroqException - {\"error\":{\"message\":\"Rate limit reached for model `compound-beta` in organization `org_01jhc3pgw2ema9vx7xrt725fda` service tier `on_demand` on requests per day (RPD): Limit 200, Used 200, Requested 1. Please try again in 26.734999999s. Need more tokens? Visit https://groq.com/self-serve-support/ to request higher limits.\",\"type\":\"requests\",\"code\":\"rate_limit_exceeded\"}}\n",
      "\n"
     ]
    },
    {
     "name": "stdout",
     "output_type": "stream",
     "text": [
      "\n",
      "\n",
      "LiteLLM.Info: If you need to debug this error, use `litellm._turn_on_debug()'.\n",
      "\n",
      "\n",
      "\u001B[1;31mProvider List: https://docs.litellm.ai/docs/providers\u001B[0m\n",
      "\n",
      "\u001B[91m Error during LLM call: litellm.RateLimitError: RateLimitError: GroqException - {\"error\":{\"message\":\"Rate limit reached for model `compound-beta` in organization `org_01jhc3pgw2ema9vx7xrt725fda` service tier `on_demand` on requests per day (RPD): Limit 200, Used 200, Requested 1. Please try again in 26.734999999s. Need more tokens? Visit https://groq.com/self-serve-support/ to request higher limits.\",\"type\":\"requests\",\"code\":\"rate_limit_exceeded\"}}\n",
      "\u001B[00m\n",
      "\u001B[91m An unknown error occurred. Please check the details below.\u001B[00m\n",
      "\u001B[91m Error details: litellm.RateLimitError: RateLimitError: GroqException - {\"error\":{\"message\":\"Rate limit reached for model `compound-beta` in organization `org_01jhc3pgw2ema9vx7xrt725fda` service tier `on_demand` on requests per day (RPD): Limit 200, Used 200, Requested 1. Please try again in 26.734999999s. Need more tokens? Visit https://groq.com/self-serve-support/ to request higher limits.\",\"type\":\"requests\",\"code\":\"rate_limit_exceeded\"}}\n",
      "\u001B[00m\n",
      "litellm.RateLimitError: RateLimitError: GroqException - {\"error\":{\"message\":\"Rate limit reached for model `compound-beta` in organization `org_01jhc3pgw2ema9vx7xrt725fda` service tier `on_demand` on requests per day (RPD): Limit 200, Used 200, Requested 1. Please try again in 26.734999999s. Need more tokens? Visit https://groq.com/self-serve-support/ to request higher limits.\",\"type\":\"requests\",\"code\":\"rate_limit_exceeded\"}}\n",
      "\n",
      "############################################## 88\n"
     ]
    },
    {
     "ename": "KeyboardInterrupt",
     "evalue": "",
     "output_type": "error",
     "traceback": [
      "\u001B[1;31m---------------------------------------------------------------------------\u001B[0m",
      "\u001B[1;31mKeyboardInterrupt\u001B[0m                         Traceback (most recent call last)",
      "Cell \u001B[1;32mIn[14], line 33\u001B[0m\n\u001B[0;32m     24\u001B[0m   task_generalista \u001B[38;5;241m=\u001B[39m get_task(transcricao_clinica, medico_generalista)\n\u001B[0;32m     26\u001B[0m   crew_generalista \u001B[38;5;241m=\u001B[39m Crew(\n\u001B[0;32m     27\u001B[0m   agents\u001B[38;5;241m=\u001B[39m[medico_generalista],\n\u001B[0;32m     28\u001B[0m   tasks\u001B[38;5;241m=\u001B[39m[task_generalista],\n\u001B[1;32m   (...)\u001B[0m\n\u001B[0;32m     31\u001B[0m   process\u001B[38;5;241m=\u001B[39mProcess\u001B[38;5;241m.\u001B[39msequential\n\u001B[0;32m     32\u001B[0m )\n\u001B[1;32m---> 33\u001B[0m   result_generalista \u001B[38;5;241m=\u001B[39m \u001B[43mcrew_generalista\u001B[49m\u001B[38;5;241;43m.\u001B[39;49m\u001B[43mkickoff\u001B[49m\u001B[43m(\u001B[49m\u001B[43m)\u001B[49m\n\u001B[0;32m     36\u001B[0m   \u001B[38;5;66;03m# definindo a tarefa genérica para laudador\u001B[39;00m\n\u001B[0;32m     37\u001B[0m   task_laudador \u001B[38;5;241m=\u001B[39m get_task(transcricao_clinica, medico_laudador)\n",
      "File \u001B[1;32mD:\\Users\\paulo\\PycharmProjects\\fastcamp-agent\\venv\\lib\\site-packages\\crewai\\crew.py:640\u001B[0m, in \u001B[0;36mCrew.kickoff\u001B[1;34m(self, inputs)\u001B[0m\n\u001B[0;32m    637\u001B[0m metrics: List[UsageMetrics] \u001B[38;5;241m=\u001B[39m []\n\u001B[0;32m    639\u001B[0m \u001B[38;5;28;01mif\u001B[39;00m \u001B[38;5;28mself\u001B[39m\u001B[38;5;241m.\u001B[39mprocess \u001B[38;5;241m==\u001B[39m Process\u001B[38;5;241m.\u001B[39msequential:\n\u001B[1;32m--> 640\u001B[0m     result \u001B[38;5;241m=\u001B[39m \u001B[38;5;28;43mself\u001B[39;49m\u001B[38;5;241;43m.\u001B[39;49m\u001B[43m_run_sequential_process\u001B[49m\u001B[43m(\u001B[49m\u001B[43m)\u001B[49m\n\u001B[0;32m    641\u001B[0m \u001B[38;5;28;01melif\u001B[39;00m \u001B[38;5;28mself\u001B[39m\u001B[38;5;241m.\u001B[39mprocess \u001B[38;5;241m==\u001B[39m Process\u001B[38;5;241m.\u001B[39mhierarchical:\n\u001B[0;32m    642\u001B[0m     result \u001B[38;5;241m=\u001B[39m \u001B[38;5;28mself\u001B[39m\u001B[38;5;241m.\u001B[39m_run_hierarchical_process()\n",
      "File \u001B[1;32mD:\\Users\\paulo\\PycharmProjects\\fastcamp-agent\\venv\\lib\\site-packages\\crewai\\crew.py:752\u001B[0m, in \u001B[0;36mCrew._run_sequential_process\u001B[1;34m(self)\u001B[0m\n\u001B[0;32m    750\u001B[0m \u001B[38;5;28;01mdef\u001B[39;00m\u001B[38;5;250m \u001B[39m\u001B[38;5;21m_run_sequential_process\u001B[39m(\u001B[38;5;28mself\u001B[39m) \u001B[38;5;241m-\u001B[39m\u001B[38;5;241m>\u001B[39m CrewOutput:\n\u001B[0;32m    751\u001B[0m \u001B[38;5;250m    \u001B[39m\u001B[38;5;124;03m\"\"\"Executes tasks sequentially and returns the final output.\"\"\"\u001B[39;00m\n\u001B[1;32m--> 752\u001B[0m     \u001B[38;5;28;01mreturn\u001B[39;00m \u001B[38;5;28;43mself\u001B[39;49m\u001B[38;5;241;43m.\u001B[39;49m\u001B[43m_execute_tasks\u001B[49m\u001B[43m(\u001B[49m\u001B[38;5;28;43mself\u001B[39;49m\u001B[38;5;241;43m.\u001B[39;49m\u001B[43mtasks\u001B[49m\u001B[43m)\u001B[49m\n",
      "File \u001B[1;32mD:\\Users\\paulo\\PycharmProjects\\fastcamp-agent\\venv\\lib\\site-packages\\crewai\\crew.py:850\u001B[0m, in \u001B[0;36mCrew._execute_tasks\u001B[1;34m(self, tasks, start_index, was_replayed)\u001B[0m\n\u001B[0;32m    847\u001B[0m     futures\u001B[38;5;241m.\u001B[39mclear()\n\u001B[0;32m    849\u001B[0m context \u001B[38;5;241m=\u001B[39m \u001B[38;5;28mself\u001B[39m\u001B[38;5;241m.\u001B[39m_get_context(task, task_outputs)\n\u001B[1;32m--> 850\u001B[0m task_output \u001B[38;5;241m=\u001B[39m \u001B[43mtask\u001B[49m\u001B[38;5;241;43m.\u001B[39;49m\u001B[43mexecute_sync\u001B[49m\u001B[43m(\u001B[49m\n\u001B[0;32m    851\u001B[0m \u001B[43m    \u001B[49m\u001B[43magent\u001B[49m\u001B[38;5;241;43m=\u001B[39;49m\u001B[43magent_to_use\u001B[49m\u001B[43m,\u001B[49m\n\u001B[0;32m    852\u001B[0m \u001B[43m    \u001B[49m\u001B[43mcontext\u001B[49m\u001B[38;5;241;43m=\u001B[39;49m\u001B[43mcontext\u001B[49m\u001B[43m,\u001B[49m\n\u001B[0;32m    853\u001B[0m \u001B[43m    \u001B[49m\u001B[43mtools\u001B[49m\u001B[38;5;241;43m=\u001B[39;49m\u001B[43mtools_for_task\u001B[49m\u001B[43m,\u001B[49m\n\u001B[0;32m    854\u001B[0m \u001B[43m\u001B[49m\u001B[43m)\u001B[49m\n\u001B[0;32m    855\u001B[0m task_outputs\u001B[38;5;241m.\u001B[39mappend(task_output)\n\u001B[0;32m    856\u001B[0m \u001B[38;5;28mself\u001B[39m\u001B[38;5;241m.\u001B[39m_process_task_result(task, task_output)\n",
      "File \u001B[1;32mD:\\Users\\paulo\\PycharmProjects\\fastcamp-agent\\venv\\lib\\site-packages\\crewai\\task.py:310\u001B[0m, in \u001B[0;36mTask.execute_sync\u001B[1;34m(self, agent, context, tools)\u001B[0m\n\u001B[0;32m    303\u001B[0m \u001B[38;5;28;01mdef\u001B[39;00m\u001B[38;5;250m \u001B[39m\u001B[38;5;21mexecute_sync\u001B[39m(\n\u001B[0;32m    304\u001B[0m     \u001B[38;5;28mself\u001B[39m,\n\u001B[0;32m    305\u001B[0m     agent: Optional[BaseAgent] \u001B[38;5;241m=\u001B[39m \u001B[38;5;28;01mNone\u001B[39;00m,\n\u001B[0;32m    306\u001B[0m     context: Optional[\u001B[38;5;28mstr\u001B[39m] \u001B[38;5;241m=\u001B[39m \u001B[38;5;28;01mNone\u001B[39;00m,\n\u001B[0;32m    307\u001B[0m     tools: Optional[List[BaseTool]] \u001B[38;5;241m=\u001B[39m \u001B[38;5;28;01mNone\u001B[39;00m,\n\u001B[0;32m    308\u001B[0m ) \u001B[38;5;241m-\u001B[39m\u001B[38;5;241m>\u001B[39m TaskOutput:\n\u001B[0;32m    309\u001B[0m \u001B[38;5;250m    \u001B[39m\u001B[38;5;124;03m\"\"\"Execute the task synchronously.\"\"\"\u001B[39;00m\n\u001B[1;32m--> 310\u001B[0m     \u001B[38;5;28;01mreturn\u001B[39;00m \u001B[38;5;28;43mself\u001B[39;49m\u001B[38;5;241;43m.\u001B[39;49m\u001B[43m_execute_core\u001B[49m\u001B[43m(\u001B[49m\u001B[43magent\u001B[49m\u001B[43m,\u001B[49m\u001B[43m \u001B[49m\u001B[43mcontext\u001B[49m\u001B[43m,\u001B[49m\u001B[43m \u001B[49m\u001B[43mtools\u001B[49m\u001B[43m)\u001B[49m\n",
      "File \u001B[1;32mD:\\Users\\paulo\\PycharmProjects\\fastcamp-agent\\venv\\lib\\site-packages\\crewai\\task.py:374\u001B[0m, in \u001B[0;36mTask._execute_core\u001B[1;34m(self, agent, context, tools)\u001B[0m\n\u001B[0;32m    372\u001B[0m \u001B[38;5;28mself\u001B[39m\u001B[38;5;241m.\u001B[39mprocessed_by_agents\u001B[38;5;241m.\u001B[39madd(agent\u001B[38;5;241m.\u001B[39mrole)\n\u001B[0;32m    373\u001B[0m crewai_event_bus\u001B[38;5;241m.\u001B[39memit(\u001B[38;5;28mself\u001B[39m, TaskStartedEvent(context\u001B[38;5;241m=\u001B[39mcontext))\n\u001B[1;32m--> 374\u001B[0m result \u001B[38;5;241m=\u001B[39m \u001B[43magent\u001B[49m\u001B[38;5;241;43m.\u001B[39;49m\u001B[43mexecute_task\u001B[49m\u001B[43m(\u001B[49m\n\u001B[0;32m    375\u001B[0m \u001B[43m    \u001B[49m\u001B[43mtask\u001B[49m\u001B[38;5;241;43m=\u001B[39;49m\u001B[38;5;28;43mself\u001B[39;49m\u001B[43m,\u001B[49m\n\u001B[0;32m    376\u001B[0m \u001B[43m    \u001B[49m\u001B[43mcontext\u001B[49m\u001B[38;5;241;43m=\u001B[39;49m\u001B[43mcontext\u001B[49m\u001B[43m,\u001B[49m\n\u001B[0;32m    377\u001B[0m \u001B[43m    \u001B[49m\u001B[43mtools\u001B[49m\u001B[38;5;241;43m=\u001B[39;49m\u001B[43mtools\u001B[49m\u001B[43m,\u001B[49m\n\u001B[0;32m    378\u001B[0m \u001B[43m\u001B[49m\u001B[43m)\u001B[49m\n\u001B[0;32m    380\u001B[0m pydantic_output, json_output \u001B[38;5;241m=\u001B[39m \u001B[38;5;28mself\u001B[39m\u001B[38;5;241m.\u001B[39m_export_output(result)\n\u001B[0;32m    381\u001B[0m task_output \u001B[38;5;241m=\u001B[39m TaskOutput(\n\u001B[0;32m    382\u001B[0m     name\u001B[38;5;241m=\u001B[39m\u001B[38;5;28mself\u001B[39m\u001B[38;5;241m.\u001B[39mname,\n\u001B[0;32m    383\u001B[0m     description\u001B[38;5;241m=\u001B[39m\u001B[38;5;28mself\u001B[39m\u001B[38;5;241m.\u001B[39mdescription,\n\u001B[1;32m   (...)\u001B[0m\n\u001B[0;32m    389\u001B[0m     output_format\u001B[38;5;241m=\u001B[39m\u001B[38;5;28mself\u001B[39m\u001B[38;5;241m.\u001B[39m_get_output_format(),\n\u001B[0;32m    390\u001B[0m )\n",
      "File \u001B[1;32mD:\\Users\\paulo\\PycharmProjects\\fastcamp-agent\\venv\\lib\\site-packages\\crewai\\agent.py:209\u001B[0m, in \u001B[0;36mAgent.execute_task\u001B[1;34m(self, task, context, tools)\u001B[0m\n\u001B[0;32m    201\u001B[0m \u001B[38;5;28;01mif\u001B[39;00m \u001B[38;5;28mself\u001B[39m\u001B[38;5;241m.\u001B[39mcrew \u001B[38;5;129;01mand\u001B[39;00m \u001B[38;5;28mself\u001B[39m\u001B[38;5;241m.\u001B[39mcrew\u001B[38;5;241m.\u001B[39mmemory:\n\u001B[0;32m    202\u001B[0m     contextual_memory \u001B[38;5;241m=\u001B[39m ContextualMemory(\n\u001B[0;32m    203\u001B[0m         \u001B[38;5;28mself\u001B[39m\u001B[38;5;241m.\u001B[39mcrew\u001B[38;5;241m.\u001B[39mmemory_config,\n\u001B[0;32m    204\u001B[0m         \u001B[38;5;28mself\u001B[39m\u001B[38;5;241m.\u001B[39mcrew\u001B[38;5;241m.\u001B[39m_short_term_memory,\n\u001B[1;32m   (...)\u001B[0m\n\u001B[0;32m    207\u001B[0m         \u001B[38;5;28mself\u001B[39m\u001B[38;5;241m.\u001B[39mcrew\u001B[38;5;241m.\u001B[39m_user_memory,\n\u001B[0;32m    208\u001B[0m     )\n\u001B[1;32m--> 209\u001B[0m     memory \u001B[38;5;241m=\u001B[39m \u001B[43mcontextual_memory\u001B[49m\u001B[38;5;241;43m.\u001B[39;49m\u001B[43mbuild_context_for_task\u001B[49m\u001B[43m(\u001B[49m\u001B[43mtask\u001B[49m\u001B[43m,\u001B[49m\u001B[43m \u001B[49m\u001B[43mcontext\u001B[49m\u001B[43m)\u001B[49m\n\u001B[0;32m    210\u001B[0m     \u001B[38;5;28;01mif\u001B[39;00m memory\u001B[38;5;241m.\u001B[39mstrip() \u001B[38;5;241m!=\u001B[39m \u001B[38;5;124m\"\u001B[39m\u001B[38;5;124m\"\u001B[39m:\n\u001B[0;32m    211\u001B[0m         task_prompt \u001B[38;5;241m+\u001B[39m\u001B[38;5;241m=\u001B[39m \u001B[38;5;28mself\u001B[39m\u001B[38;5;241m.\u001B[39mi18n\u001B[38;5;241m.\u001B[39mslice(\u001B[38;5;124m\"\u001B[39m\u001B[38;5;124mmemory\u001B[39m\u001B[38;5;124m\"\u001B[39m)\u001B[38;5;241m.\u001B[39mformat(memory\u001B[38;5;241m=\u001B[39mmemory)\n",
      "File \u001B[1;32mD:\\Users\\paulo\\PycharmProjects\\fastcamp-agent\\venv\\lib\\site-packages\\crewai\\memory\\contextual\\contextual_memory.py:37\u001B[0m, in \u001B[0;36mContextualMemory.build_context_for_task\u001B[1;34m(self, task, context)\u001B[0m\n\u001B[0;32m     35\u001B[0m context\u001B[38;5;241m.\u001B[39mappend(\u001B[38;5;28mself\u001B[39m\u001B[38;5;241m.\u001B[39m_fetch_ltm_context(task\u001B[38;5;241m.\u001B[39mdescription))\n\u001B[0;32m     36\u001B[0m context\u001B[38;5;241m.\u001B[39mappend(\u001B[38;5;28mself\u001B[39m\u001B[38;5;241m.\u001B[39m_fetch_stm_context(query))\n\u001B[1;32m---> 37\u001B[0m context\u001B[38;5;241m.\u001B[39mappend(\u001B[38;5;28;43mself\u001B[39;49m\u001B[38;5;241;43m.\u001B[39;49m\u001B[43m_fetch_entity_context\u001B[49m\u001B[43m(\u001B[49m\u001B[43mquery\u001B[49m\u001B[43m)\u001B[49m)\n\u001B[0;32m     38\u001B[0m \u001B[38;5;28;01mif\u001B[39;00m \u001B[38;5;28mself\u001B[39m\u001B[38;5;241m.\u001B[39mmemory_provider \u001B[38;5;241m==\u001B[39m \u001B[38;5;124m\"\u001B[39m\u001B[38;5;124mmem0\u001B[39m\u001B[38;5;124m\"\u001B[39m:\n\u001B[0;32m     39\u001B[0m     context\u001B[38;5;241m.\u001B[39mappend(\u001B[38;5;28mself\u001B[39m\u001B[38;5;241m.\u001B[39m_fetch_user_context(query))\n",
      "File \u001B[1;32mD:\\Users\\paulo\\PycharmProjects\\fastcamp-agent\\venv\\lib\\site-packages\\crewai\\memory\\contextual\\contextual_memory.py:80\u001B[0m, in \u001B[0;36mContextualMemory._fetch_entity_context\u001B[1;34m(self, query)\u001B[0m\n\u001B[0;32m     75\u001B[0m \u001B[38;5;28;01mdef\u001B[39;00m\u001B[38;5;250m \u001B[39m\u001B[38;5;21m_fetch_entity_context\u001B[39m(\u001B[38;5;28mself\u001B[39m, query) \u001B[38;5;241m-\u001B[39m\u001B[38;5;241m>\u001B[39m \u001B[38;5;28mstr\u001B[39m:\n\u001B[0;32m     76\u001B[0m \u001B[38;5;250m    \u001B[39m\u001B[38;5;124;03m\"\"\"\u001B[39;00m\n\u001B[0;32m     77\u001B[0m \u001B[38;5;124;03m    Fetches relevant entity information from Entity Memory related to the task's description and expected_output,\u001B[39;00m\n\u001B[0;32m     78\u001B[0m \u001B[38;5;124;03m    formatted as bullet points.\u001B[39;00m\n\u001B[0;32m     79\u001B[0m \u001B[38;5;124;03m    \"\"\"\u001B[39;00m\n\u001B[1;32m---> 80\u001B[0m     em_results \u001B[38;5;241m=\u001B[39m \u001B[38;5;28;43mself\u001B[39;49m\u001B[38;5;241;43m.\u001B[39;49m\u001B[43mem\u001B[49m\u001B[38;5;241;43m.\u001B[39;49m\u001B[43msearch\u001B[49m\u001B[43m(\u001B[49m\u001B[43mquery\u001B[49m\u001B[43m)\u001B[49m\n\u001B[0;32m     81\u001B[0m     formatted_results \u001B[38;5;241m=\u001B[39m \u001B[38;5;124m\"\u001B[39m\u001B[38;5;130;01m\\n\u001B[39;00m\u001B[38;5;124m\"\u001B[39m\u001B[38;5;241m.\u001B[39mjoin(\n\u001B[0;32m     82\u001B[0m         [\n\u001B[0;32m     83\u001B[0m             \u001B[38;5;124mf\u001B[39m\u001B[38;5;124m\"\u001B[39m\u001B[38;5;124m- \u001B[39m\u001B[38;5;132;01m{\u001B[39;00mresult[\u001B[38;5;124m'\u001B[39m\u001B[38;5;124mmemory\u001B[39m\u001B[38;5;124m'\u001B[39m]\u001B[38;5;250m \u001B[39m\u001B[38;5;28;01mif\u001B[39;00m\u001B[38;5;250m \u001B[39m\u001B[38;5;28mself\u001B[39m\u001B[38;5;241m.\u001B[39mmemory_provider\u001B[38;5;250m \u001B[39m\u001B[38;5;241m==\u001B[39m\u001B[38;5;250m \u001B[39m\u001B[38;5;124m'\u001B[39m\u001B[38;5;124mmem0\u001B[39m\u001B[38;5;124m'\u001B[39m\u001B[38;5;250m \u001B[39m\u001B[38;5;28;01melse\u001B[39;00m\u001B[38;5;250m \u001B[39mresult[\u001B[38;5;124m'\u001B[39m\u001B[38;5;124mcontext\u001B[39m\u001B[38;5;124m'\u001B[39m]\u001B[38;5;132;01m}\u001B[39;00m\u001B[38;5;124m\"\u001B[39m\n\u001B[0;32m     84\u001B[0m             \u001B[38;5;28;01mfor\u001B[39;00m result \u001B[38;5;129;01min\u001B[39;00m em_results\n\u001B[0;32m     85\u001B[0m         ]  \u001B[38;5;66;03m# type: ignore #  Invalid index type \"str\" for \"str\"; expected type \"SupportsIndex | slice\"\u001B[39;00m\n\u001B[0;32m     86\u001B[0m     )\n\u001B[0;32m     87\u001B[0m     \u001B[38;5;28;01mreturn\u001B[39;00m \u001B[38;5;124mf\u001B[39m\u001B[38;5;124m\"\u001B[39m\u001B[38;5;124mEntities:\u001B[39m\u001B[38;5;130;01m\\n\u001B[39;00m\u001B[38;5;132;01m{\u001B[39;00mformatted_results\u001B[38;5;132;01m}\u001B[39;00m\u001B[38;5;124m\"\u001B[39m \u001B[38;5;28;01mif\u001B[39;00m em_results \u001B[38;5;28;01melse\u001B[39;00m \u001B[38;5;124m\"\u001B[39m\u001B[38;5;124m\"\u001B[39m\n",
      "File \u001B[1;32mD:\\Users\\paulo\\PycharmProjects\\fastcamp-agent\\venv\\lib\\site-packages\\crewai\\memory\\memory.py:36\u001B[0m, in \u001B[0;36mMemory.search\u001B[1;34m(self, query, limit, score_threshold)\u001B[0m\n\u001B[0;32m     30\u001B[0m \u001B[38;5;28;01mdef\u001B[39;00m\u001B[38;5;250m \u001B[39m\u001B[38;5;21msearch\u001B[39m(\n\u001B[0;32m     31\u001B[0m     \u001B[38;5;28mself\u001B[39m,\n\u001B[0;32m     32\u001B[0m     query: \u001B[38;5;28mstr\u001B[39m,\n\u001B[0;32m     33\u001B[0m     limit: \u001B[38;5;28mint\u001B[39m \u001B[38;5;241m=\u001B[39m \u001B[38;5;241m3\u001B[39m,\n\u001B[0;32m     34\u001B[0m     score_threshold: \u001B[38;5;28mfloat\u001B[39m \u001B[38;5;241m=\u001B[39m \u001B[38;5;241m0.35\u001B[39m,\n\u001B[0;32m     35\u001B[0m ) \u001B[38;5;241m-\u001B[39m\u001B[38;5;241m>\u001B[39m List[Any]:\n\u001B[1;32m---> 36\u001B[0m     \u001B[38;5;28;01mreturn\u001B[39;00m \u001B[38;5;28;43mself\u001B[39;49m\u001B[38;5;241;43m.\u001B[39;49m\u001B[43mstorage\u001B[49m\u001B[38;5;241;43m.\u001B[39;49m\u001B[43msearch\u001B[49m\u001B[43m(\u001B[49m\n\u001B[0;32m     37\u001B[0m \u001B[43m        \u001B[49m\u001B[43mquery\u001B[49m\u001B[38;5;241;43m=\u001B[39;49m\u001B[43mquery\u001B[49m\u001B[43m,\u001B[49m\u001B[43m \u001B[49m\u001B[43mlimit\u001B[49m\u001B[38;5;241;43m=\u001B[39;49m\u001B[43mlimit\u001B[49m\u001B[43m,\u001B[49m\u001B[43m \u001B[49m\u001B[43mscore_threshold\u001B[49m\u001B[38;5;241;43m=\u001B[39;49m\u001B[43mscore_threshold\u001B[49m\n\u001B[0;32m     38\u001B[0m \u001B[43m    \u001B[49m\u001B[43m)\u001B[49m\n",
      "File \u001B[1;32mD:\\Users\\paulo\\PycharmProjects\\fastcamp-agent\\venv\\lib\\site-packages\\crewai\\memory\\storage\\rag_storage.py:123\u001B[0m, in \u001B[0;36mRAGStorage.search\u001B[1;34m(self, query, limit, filter, score_threshold)\u001B[0m\n\u001B[0;32m    121\u001B[0m \u001B[38;5;28;01mtry\u001B[39;00m:\n\u001B[0;32m    122\u001B[0m     \u001B[38;5;28;01mwith\u001B[39;00m suppress_logging():\n\u001B[1;32m--> 123\u001B[0m         response \u001B[38;5;241m=\u001B[39m \u001B[38;5;28;43mself\u001B[39;49m\u001B[38;5;241;43m.\u001B[39;49m\u001B[43mcollection\u001B[49m\u001B[38;5;241;43m.\u001B[39;49m\u001B[43mquery\u001B[49m\u001B[43m(\u001B[49m\u001B[43mquery_texts\u001B[49m\u001B[38;5;241;43m=\u001B[39;49m\u001B[43mquery\u001B[49m\u001B[43m,\u001B[49m\u001B[43m \u001B[49m\u001B[43mn_results\u001B[49m\u001B[38;5;241;43m=\u001B[39;49m\u001B[43mlimit\u001B[49m\u001B[43m)\u001B[49m\n\u001B[0;32m    125\u001B[0m     results \u001B[38;5;241m=\u001B[39m []\n\u001B[0;32m    126\u001B[0m     \u001B[38;5;28;01mfor\u001B[39;00m i \u001B[38;5;129;01min\u001B[39;00m \u001B[38;5;28mrange\u001B[39m(\u001B[38;5;28mlen\u001B[39m(response[\u001B[38;5;124m\"\u001B[39m\u001B[38;5;124mids\u001B[39m\u001B[38;5;124m\"\u001B[39m][\u001B[38;5;241m0\u001B[39m])):\n",
      "File \u001B[1;32mD:\\Users\\paulo\\PycharmProjects\\fastcamp-agent\\venv\\lib\\site-packages\\chromadb\\api\\models\\Collection.py:210\u001B[0m, in \u001B[0;36mCollection.query\u001B[1;34m(self, query_embeddings, query_texts, query_images, query_uris, n_results, where, where_document, include)\u001B[0m\n\u001B[0;32m    167\u001B[0m \u001B[38;5;28;01mdef\u001B[39;00m\u001B[38;5;250m \u001B[39m\u001B[38;5;21mquery\u001B[39m(\n\u001B[0;32m    168\u001B[0m     \u001B[38;5;28mself\u001B[39m,\n\u001B[0;32m    169\u001B[0m     query_embeddings: Optional[\n\u001B[1;32m   (...)\u001B[0m\n\u001B[0;32m    185\u001B[0m     ],\n\u001B[0;32m    186\u001B[0m ) \u001B[38;5;241m-\u001B[39m\u001B[38;5;241m>\u001B[39m QueryResult:\n\u001B[0;32m    187\u001B[0m \u001B[38;5;250m    \u001B[39m\u001B[38;5;124;03m\"\"\"Get the n_results nearest neighbor embeddings for provided query_embeddings or query_texts.\u001B[39;00m\n\u001B[0;32m    188\u001B[0m \n\u001B[0;32m    189\u001B[0m \u001B[38;5;124;03m    Args:\u001B[39;00m\n\u001B[1;32m   (...)\u001B[0m\n\u001B[0;32m    207\u001B[0m \n\u001B[0;32m    208\u001B[0m \u001B[38;5;124;03m    \"\"\"\u001B[39;00m\n\u001B[1;32m--> 210\u001B[0m     query_request \u001B[38;5;241m=\u001B[39m \u001B[38;5;28;43mself\u001B[39;49m\u001B[38;5;241;43m.\u001B[39;49m\u001B[43m_validate_and_prepare_query_request\u001B[49m\u001B[43m(\u001B[49m\n\u001B[0;32m    211\u001B[0m \u001B[43m        \u001B[49m\u001B[43mquery_embeddings\u001B[49m\u001B[38;5;241;43m=\u001B[39;49m\u001B[43mquery_embeddings\u001B[49m\u001B[43m,\u001B[49m\n\u001B[0;32m    212\u001B[0m \u001B[43m        \u001B[49m\u001B[43mquery_texts\u001B[49m\u001B[38;5;241;43m=\u001B[39;49m\u001B[43mquery_texts\u001B[49m\u001B[43m,\u001B[49m\n\u001B[0;32m    213\u001B[0m \u001B[43m        \u001B[49m\u001B[43mquery_images\u001B[49m\u001B[38;5;241;43m=\u001B[39;49m\u001B[43mquery_images\u001B[49m\u001B[43m,\u001B[49m\n\u001B[0;32m    214\u001B[0m \u001B[43m        \u001B[49m\u001B[43mquery_uris\u001B[49m\u001B[38;5;241;43m=\u001B[39;49m\u001B[43mquery_uris\u001B[49m\u001B[43m,\u001B[49m\n\u001B[0;32m    215\u001B[0m \u001B[43m        \u001B[49m\u001B[43mn_results\u001B[49m\u001B[38;5;241;43m=\u001B[39;49m\u001B[43mn_results\u001B[49m\u001B[43m,\u001B[49m\n\u001B[0;32m    216\u001B[0m \u001B[43m        \u001B[49m\u001B[43mwhere\u001B[49m\u001B[38;5;241;43m=\u001B[39;49m\u001B[43mwhere\u001B[49m\u001B[43m,\u001B[49m\n\u001B[0;32m    217\u001B[0m \u001B[43m        \u001B[49m\u001B[43mwhere_document\u001B[49m\u001B[38;5;241;43m=\u001B[39;49m\u001B[43mwhere_document\u001B[49m\u001B[43m,\u001B[49m\n\u001B[0;32m    218\u001B[0m \u001B[43m        \u001B[49m\u001B[43minclude\u001B[49m\u001B[38;5;241;43m=\u001B[39;49m\u001B[43minclude\u001B[49m\u001B[43m,\u001B[49m\n\u001B[0;32m    219\u001B[0m \u001B[43m    \u001B[49m\u001B[43m)\u001B[49m\n\u001B[0;32m    221\u001B[0m     query_results \u001B[38;5;241m=\u001B[39m \u001B[38;5;28mself\u001B[39m\u001B[38;5;241m.\u001B[39m_client\u001B[38;5;241m.\u001B[39m_query(\n\u001B[0;32m    222\u001B[0m         collection_id\u001B[38;5;241m=\u001B[39m\u001B[38;5;28mself\u001B[39m\u001B[38;5;241m.\u001B[39mid,\n\u001B[0;32m    223\u001B[0m         query_embeddings\u001B[38;5;241m=\u001B[39mquery_request[\u001B[38;5;124m\"\u001B[39m\u001B[38;5;124membeddings\u001B[39m\u001B[38;5;124m\"\u001B[39m],\n\u001B[1;32m   (...)\u001B[0m\n\u001B[0;32m    229\u001B[0m         database\u001B[38;5;241m=\u001B[39m\u001B[38;5;28mself\u001B[39m\u001B[38;5;241m.\u001B[39mdatabase,\n\u001B[0;32m    230\u001B[0m     )\n\u001B[0;32m    232\u001B[0m     \u001B[38;5;28;01mreturn\u001B[39;00m \u001B[38;5;28mself\u001B[39m\u001B[38;5;241m.\u001B[39m_transform_query_response(\n\u001B[0;32m    233\u001B[0m         response\u001B[38;5;241m=\u001B[39mquery_results, include\u001B[38;5;241m=\u001B[39mquery_request[\u001B[38;5;124m\"\u001B[39m\u001B[38;5;124minclude\u001B[39m\u001B[38;5;124m\"\u001B[39m]\n\u001B[0;32m    234\u001B[0m     )\n",
      "File \u001B[1;32mD:\\Users\\paulo\\PycharmProjects\\fastcamp-agent\\venv\\lib\\site-packages\\chromadb\\api\\models\\CollectionCommon.py:90\u001B[0m, in \u001B[0;36mvalidation_context.<locals>.decorator.<locals>.wrapper\u001B[1;34m(self, *args, **kwargs)\u001B[0m\n\u001B[0;32m     87\u001B[0m \u001B[38;5;129m@functools\u001B[39m\u001B[38;5;241m.\u001B[39mwraps(func)\n\u001B[0;32m     88\u001B[0m \u001B[38;5;28;01mdef\u001B[39;00m\u001B[38;5;250m \u001B[39m\u001B[38;5;21mwrapper\u001B[39m(\u001B[38;5;28mself\u001B[39m: Any, \u001B[38;5;241m*\u001B[39margs: Any, \u001B[38;5;241m*\u001B[39m\u001B[38;5;241m*\u001B[39mkwargs: Any) \u001B[38;5;241m-\u001B[39m\u001B[38;5;241m>\u001B[39m T:\n\u001B[0;32m     89\u001B[0m     \u001B[38;5;28;01mtry\u001B[39;00m:\n\u001B[1;32m---> 90\u001B[0m         \u001B[38;5;28;01mreturn\u001B[39;00m func(\u001B[38;5;28mself\u001B[39m, \u001B[38;5;241m*\u001B[39margs, \u001B[38;5;241m*\u001B[39m\u001B[38;5;241m*\u001B[39mkwargs)\n\u001B[0;32m     91\u001B[0m     \u001B[38;5;28;01mexcept\u001B[39;00m \u001B[38;5;167;01mException\u001B[39;00m \u001B[38;5;28;01mas\u001B[39;00m e:\n\u001B[0;32m     92\u001B[0m         msg \u001B[38;5;241m=\u001B[39m \u001B[38;5;124mf\u001B[39m\u001B[38;5;124m\"\u001B[39m\u001B[38;5;132;01m{\u001B[39;00m\u001B[38;5;28mstr\u001B[39m(e)\u001B[38;5;132;01m}\u001B[39;00m\u001B[38;5;124m in \u001B[39m\u001B[38;5;132;01m{\u001B[39;00mname\u001B[38;5;132;01m}\u001B[39;00m\u001B[38;5;124m.\u001B[39m\u001B[38;5;124m\"\u001B[39m\n",
      "File \u001B[1;32mD:\\Users\\paulo\\PycharmProjects\\fastcamp-agent\\venv\\lib\\site-packages\\chromadb\\api\\models\\CollectionCommon.py:301\u001B[0m, in \u001B[0;36mCollectionCommon._validate_and_prepare_query_request\u001B[1;34m(self, query_embeddings, query_texts, query_images, query_uris, n_results, where, where_document, include)\u001B[0m\n\u001B[0;32m    299\u001B[0m \u001B[38;5;28;01mif\u001B[39;00m query_records[\u001B[38;5;124m\"\u001B[39m\u001B[38;5;124membeddings\u001B[39m\u001B[38;5;124m\"\u001B[39m] \u001B[38;5;129;01mis\u001B[39;00m \u001B[38;5;28;01mNone\u001B[39;00m:\n\u001B[0;32m    300\u001B[0m     validate_record_set_for_embedding(record_set\u001B[38;5;241m=\u001B[39mquery_records)\n\u001B[1;32m--> 301\u001B[0m     request_embeddings \u001B[38;5;241m=\u001B[39m \u001B[38;5;28;43mself\u001B[39;49m\u001B[38;5;241;43m.\u001B[39;49m\u001B[43m_embed_record_set\u001B[49m\u001B[43m(\u001B[49m\u001B[43mrecord_set\u001B[49m\u001B[38;5;241;43m=\u001B[39;49m\u001B[43mquery_records\u001B[49m\u001B[43m)\u001B[49m\n\u001B[0;32m    302\u001B[0m \u001B[38;5;28;01melse\u001B[39;00m:\n\u001B[0;32m    303\u001B[0m     request_embeddings \u001B[38;5;241m=\u001B[39m query_records[\u001B[38;5;124m\"\u001B[39m\u001B[38;5;124membeddings\u001B[39m\u001B[38;5;124m\"\u001B[39m]\n",
      "File \u001B[1;32mD:\\Users\\paulo\\PycharmProjects\\fastcamp-agent\\venv\\lib\\site-packages\\chromadb\\api\\models\\CollectionCommon.py:526\u001B[0m, in \u001B[0;36mCollectionCommon._embed_record_set\u001B[1;34m(self, record_set, embeddable_fields)\u001B[0m\n\u001B[0;32m    522\u001B[0m             \u001B[38;5;28;01mreturn\u001B[39;00m \u001B[38;5;28mself\u001B[39m\u001B[38;5;241m.\u001B[39m_embed(\n\u001B[0;32m    523\u001B[0m                 \u001B[38;5;28minput\u001B[39m\u001B[38;5;241m=\u001B[39m\u001B[38;5;28mself\u001B[39m\u001B[38;5;241m.\u001B[39m_data_loader(uris\u001B[38;5;241m=\u001B[39mcast(URIs, record_set[field]))  \u001B[38;5;66;03m# type: ignore[literal-required]\u001B[39;00m\n\u001B[0;32m    524\u001B[0m             )\n\u001B[0;32m    525\u001B[0m         \u001B[38;5;28;01melse\u001B[39;00m:\n\u001B[1;32m--> 526\u001B[0m             \u001B[38;5;28;01mreturn\u001B[39;00m \u001B[38;5;28;43mself\u001B[39;49m\u001B[38;5;241;43m.\u001B[39;49m\u001B[43m_embed\u001B[49m\u001B[43m(\u001B[49m\u001B[38;5;28;43minput\u001B[39;49m\u001B[38;5;241;43m=\u001B[39;49m\u001B[43mrecord_set\u001B[49m\u001B[43m[\u001B[49m\u001B[43mfield\u001B[49m\u001B[43m]\u001B[49m\u001B[43m)\u001B[49m  \u001B[38;5;66;03m# type: ignore[literal-required]\u001B[39;00m\n\u001B[0;32m    527\u001B[0m \u001B[38;5;28;01mraise\u001B[39;00m \u001B[38;5;167;01mValueError\u001B[39;00m(\n\u001B[0;32m    528\u001B[0m     \u001B[38;5;124m\"\u001B[39m\u001B[38;5;124mRecord does not contain any non-None fields that can be embedded.\u001B[39m\u001B[38;5;124m\"\u001B[39m\n\u001B[0;32m    529\u001B[0m     \u001B[38;5;124mf\u001B[39m\u001B[38;5;124m\"\u001B[39m\u001B[38;5;124mEmbeddable Fields: \u001B[39m\u001B[38;5;132;01m{\u001B[39;00membeddable_fields\u001B[38;5;132;01m}\u001B[39;00m\u001B[38;5;124m\"\u001B[39m\n\u001B[0;32m    530\u001B[0m     \u001B[38;5;124mf\u001B[39m\u001B[38;5;124m\"\u001B[39m\u001B[38;5;124mRecord Fields: \u001B[39m\u001B[38;5;132;01m{\u001B[39;00mrecord_set\u001B[38;5;132;01m}\u001B[39;00m\u001B[38;5;124m\"\u001B[39m\n\u001B[0;32m    531\u001B[0m )\n",
      "File \u001B[1;32mD:\\Users\\paulo\\PycharmProjects\\fastcamp-agent\\venv\\lib\\site-packages\\chromadb\\api\\models\\CollectionCommon.py:539\u001B[0m, in \u001B[0;36mCollectionCommon._embed\u001B[1;34m(self, input)\u001B[0m\n\u001B[0;32m    534\u001B[0m \u001B[38;5;28;01mif\u001B[39;00m \u001B[38;5;28mself\u001B[39m\u001B[38;5;241m.\u001B[39m_embedding_function \u001B[38;5;129;01mis\u001B[39;00m \u001B[38;5;28;01mNone\u001B[39;00m:\n\u001B[0;32m    535\u001B[0m     \u001B[38;5;28;01mraise\u001B[39;00m \u001B[38;5;167;01mValueError\u001B[39;00m(\n\u001B[0;32m    536\u001B[0m         \u001B[38;5;124m\"\u001B[39m\u001B[38;5;124mYou must provide an embedding function to compute embeddings.\u001B[39m\u001B[38;5;124m\"\u001B[39m\n\u001B[0;32m    537\u001B[0m         \u001B[38;5;124m\"\u001B[39m\u001B[38;5;124mhttps://docs.trychroma.com/guides/embeddings\u001B[39m\u001B[38;5;124m\"\u001B[39m\n\u001B[0;32m    538\u001B[0m     )\n\u001B[1;32m--> 539\u001B[0m \u001B[38;5;28;01mreturn\u001B[39;00m \u001B[38;5;28;43mself\u001B[39;49m\u001B[38;5;241;43m.\u001B[39;49m\u001B[43m_embedding_function\u001B[49m\u001B[43m(\u001B[49m\u001B[38;5;28;43minput\u001B[39;49m\u001B[38;5;241;43m=\u001B[39;49m\u001B[38;5;28;43minput\u001B[39;49m\u001B[43m)\u001B[49m\n",
      "File \u001B[1;32mD:\\Users\\paulo\\PycharmProjects\\fastcamp-agent\\venv\\lib\\site-packages\\chromadb\\api\\types.py:466\u001B[0m, in \u001B[0;36mEmbeddingFunction.__init_subclass__.<locals>.__call__\u001B[1;34m(self, input)\u001B[0m\n\u001B[0;32m    465\u001B[0m \u001B[38;5;28;01mdef\u001B[39;00m\u001B[38;5;250m \u001B[39m\u001B[38;5;21m__call__\u001B[39m(\u001B[38;5;28mself\u001B[39m: EmbeddingFunction[D], \u001B[38;5;28minput\u001B[39m: D) \u001B[38;5;241m-\u001B[39m\u001B[38;5;241m>\u001B[39m Embeddings:\n\u001B[1;32m--> 466\u001B[0m     result \u001B[38;5;241m=\u001B[39m \u001B[43mcall\u001B[49m\u001B[43m(\u001B[49m\u001B[38;5;28;43mself\u001B[39;49m\u001B[43m,\u001B[49m\u001B[43m \u001B[49m\u001B[38;5;28;43minput\u001B[39;49m\u001B[43m)\u001B[49m\n\u001B[0;32m    467\u001B[0m     \u001B[38;5;28;01massert\u001B[39;00m result \u001B[38;5;129;01mis\u001B[39;00m \u001B[38;5;129;01mnot\u001B[39;00m \u001B[38;5;28;01mNone\u001B[39;00m\n\u001B[0;32m    468\u001B[0m     \u001B[38;5;28;01mreturn\u001B[39;00m validate_embeddings(cast(Embeddings, normalize_embeddings(result)))\n",
      "File \u001B[1;32mD:\\Users\\paulo\\PycharmProjects\\fastcamp-agent\\venv\\lib\\site-packages\\chromadb\\utils\\embedding_functions\\openai_embedding_function.py:113\u001B[0m, in \u001B[0;36mOpenAIEmbeddingFunction.__call__\u001B[1;34m(self, input)\u001B[0m\n\u001B[0;32m    111\u001B[0m \u001B[38;5;66;03m# Call the OpenAI Embedding API\u001B[39;00m\n\u001B[0;32m    112\u001B[0m \u001B[38;5;28;01mif\u001B[39;00m \u001B[38;5;28mself\u001B[39m\u001B[38;5;241m.\u001B[39m_v1:\n\u001B[1;32m--> 113\u001B[0m     embeddings \u001B[38;5;241m=\u001B[39m \u001B[38;5;28;43mself\u001B[39;49m\u001B[38;5;241;43m.\u001B[39;49m\u001B[43m_client\u001B[49m\u001B[38;5;241;43m.\u001B[39;49m\u001B[43mcreate\u001B[49m\u001B[43m(\u001B[49m\n\u001B[0;32m    114\u001B[0m \u001B[43m        \u001B[49m\u001B[38;5;28;43minput\u001B[39;49m\u001B[38;5;241;43m=\u001B[39;49m\u001B[38;5;28;43minput\u001B[39;49m\u001B[43m,\u001B[49m\n\u001B[0;32m    115\u001B[0m \u001B[43m        \u001B[49m\u001B[43mmodel\u001B[49m\u001B[38;5;241;43m=\u001B[39;49m\u001B[38;5;28;43mself\u001B[39;49m\u001B[38;5;241;43m.\u001B[39;49m\u001B[43m_deployment_id\u001B[49m\u001B[43m \u001B[49m\u001B[38;5;129;43;01mor\u001B[39;49;00m\u001B[43m \u001B[49m\u001B[38;5;28;43mself\u001B[39;49m\u001B[38;5;241;43m.\u001B[39;49m\u001B[43m_model_name\u001B[49m\u001B[43m,\u001B[49m\n\u001B[0;32m    116\u001B[0m \u001B[43m        \u001B[49m\u001B[43mdimensions\u001B[49m\u001B[38;5;241;43m=\u001B[39;49m\u001B[38;5;28;43mself\u001B[39;49m\u001B[38;5;241;43m.\u001B[39;49m\u001B[43m_dimensions\u001B[49m\u001B[43m,\u001B[49m\n\u001B[0;32m    117\u001B[0m \u001B[43m    \u001B[49m\u001B[43m)\u001B[49m\u001B[38;5;241m.\u001B[39mdata\n\u001B[0;32m    119\u001B[0m     \u001B[38;5;66;03m# Sort resulting embeddings by index\u001B[39;00m\n\u001B[0;32m    120\u001B[0m     sorted_embeddings \u001B[38;5;241m=\u001B[39m \u001B[38;5;28msorted\u001B[39m(\n\u001B[0;32m    121\u001B[0m         embeddings, key\u001B[38;5;241m=\u001B[39m\u001B[38;5;28;01mlambda\u001B[39;00m e: e\u001B[38;5;241m.\u001B[39mindex  \u001B[38;5;66;03m# type: ignore\u001B[39;00m\n\u001B[0;32m    122\u001B[0m     )\n",
      "File \u001B[1;32mD:\\Users\\paulo\\PycharmProjects\\fastcamp-agent\\venv\\lib\\site-packages\\openai\\resources\\embeddings.py:128\u001B[0m, in \u001B[0;36mEmbeddings.create\u001B[1;34m(self, input, model, dimensions, encoding_format, user, extra_headers, extra_query, extra_body, timeout)\u001B[0m\n\u001B[0;32m    122\u001B[0m             embedding\u001B[38;5;241m.\u001B[39membedding \u001B[38;5;241m=\u001B[39m np\u001B[38;5;241m.\u001B[39mfrombuffer(  \u001B[38;5;66;03m# type: ignore[no-untyped-call]\u001B[39;00m\n\u001B[0;32m    123\u001B[0m                 base64\u001B[38;5;241m.\u001B[39mb64decode(data), dtype\u001B[38;5;241m=\u001B[39m\u001B[38;5;124m\"\u001B[39m\u001B[38;5;124mfloat32\u001B[39m\u001B[38;5;124m\"\u001B[39m\n\u001B[0;32m    124\u001B[0m             )\u001B[38;5;241m.\u001B[39mtolist()\n\u001B[0;32m    126\u001B[0m     \u001B[38;5;28;01mreturn\u001B[39;00m obj\n\u001B[1;32m--> 128\u001B[0m \u001B[38;5;28;01mreturn\u001B[39;00m \u001B[38;5;28;43mself\u001B[39;49m\u001B[38;5;241;43m.\u001B[39;49m\u001B[43m_post\u001B[49m\u001B[43m(\u001B[49m\n\u001B[0;32m    129\u001B[0m \u001B[43m    \u001B[49m\u001B[38;5;124;43m\"\u001B[39;49m\u001B[38;5;124;43m/embeddings\u001B[39;49m\u001B[38;5;124;43m\"\u001B[39;49m\u001B[43m,\u001B[49m\n\u001B[0;32m    130\u001B[0m \u001B[43m    \u001B[49m\u001B[43mbody\u001B[49m\u001B[38;5;241;43m=\u001B[39;49m\u001B[43mmaybe_transform\u001B[49m\u001B[43m(\u001B[49m\u001B[43mparams\u001B[49m\u001B[43m,\u001B[49m\u001B[43m \u001B[49m\u001B[43membedding_create_params\u001B[49m\u001B[38;5;241;43m.\u001B[39;49m\u001B[43mEmbeddingCreateParams\u001B[49m\u001B[43m)\u001B[49m\u001B[43m,\u001B[49m\n\u001B[0;32m    131\u001B[0m \u001B[43m    \u001B[49m\u001B[43moptions\u001B[49m\u001B[38;5;241;43m=\u001B[39;49m\u001B[43mmake_request_options\u001B[49m\u001B[43m(\u001B[49m\n\u001B[0;32m    132\u001B[0m \u001B[43m        \u001B[49m\u001B[43mextra_headers\u001B[49m\u001B[38;5;241;43m=\u001B[39;49m\u001B[43mextra_headers\u001B[49m\u001B[43m,\u001B[49m\n\u001B[0;32m    133\u001B[0m \u001B[43m        \u001B[49m\u001B[43mextra_query\u001B[49m\u001B[38;5;241;43m=\u001B[39;49m\u001B[43mextra_query\u001B[49m\u001B[43m,\u001B[49m\n\u001B[0;32m    134\u001B[0m \u001B[43m        \u001B[49m\u001B[43mextra_body\u001B[49m\u001B[38;5;241;43m=\u001B[39;49m\u001B[43mextra_body\u001B[49m\u001B[43m,\u001B[49m\n\u001B[0;32m    135\u001B[0m \u001B[43m        \u001B[49m\u001B[43mtimeout\u001B[49m\u001B[38;5;241;43m=\u001B[39;49m\u001B[43mtimeout\u001B[49m\u001B[43m,\u001B[49m\n\u001B[0;32m    136\u001B[0m \u001B[43m        \u001B[49m\u001B[43mpost_parser\u001B[49m\u001B[38;5;241;43m=\u001B[39;49m\u001B[43mparser\u001B[49m\u001B[43m,\u001B[49m\n\u001B[0;32m    137\u001B[0m \u001B[43m    \u001B[49m\u001B[43m)\u001B[49m\u001B[43m,\u001B[49m\n\u001B[0;32m    138\u001B[0m \u001B[43m    \u001B[49m\u001B[43mcast_to\u001B[49m\u001B[38;5;241;43m=\u001B[39;49m\u001B[43mCreateEmbeddingResponse\u001B[49m\u001B[43m,\u001B[49m\n\u001B[0;32m    139\u001B[0m \u001B[43m\u001B[49m\u001B[43m)\u001B[49m\n",
      "File \u001B[1;32mD:\\Users\\paulo\\PycharmProjects\\fastcamp-agent\\venv\\lib\\site-packages\\openai\\_base_client.py:1242\u001B[0m, in \u001B[0;36mSyncAPIClient.post\u001B[1;34m(self, path, cast_to, body, options, files, stream, stream_cls)\u001B[0m\n\u001B[0;32m   1228\u001B[0m \u001B[38;5;28;01mdef\u001B[39;00m\u001B[38;5;250m \u001B[39m\u001B[38;5;21mpost\u001B[39m(\n\u001B[0;32m   1229\u001B[0m     \u001B[38;5;28mself\u001B[39m,\n\u001B[0;32m   1230\u001B[0m     path: \u001B[38;5;28mstr\u001B[39m,\n\u001B[1;32m   (...)\u001B[0m\n\u001B[0;32m   1237\u001B[0m     stream_cls: \u001B[38;5;28mtype\u001B[39m[_StreamT] \u001B[38;5;241m|\u001B[39m \u001B[38;5;28;01mNone\u001B[39;00m \u001B[38;5;241m=\u001B[39m \u001B[38;5;28;01mNone\u001B[39;00m,\n\u001B[0;32m   1238\u001B[0m ) \u001B[38;5;241m-\u001B[39m\u001B[38;5;241m>\u001B[39m ResponseT \u001B[38;5;241m|\u001B[39m _StreamT:\n\u001B[0;32m   1239\u001B[0m     opts \u001B[38;5;241m=\u001B[39m FinalRequestOptions\u001B[38;5;241m.\u001B[39mconstruct(\n\u001B[0;32m   1240\u001B[0m         method\u001B[38;5;241m=\u001B[39m\u001B[38;5;124m\"\u001B[39m\u001B[38;5;124mpost\u001B[39m\u001B[38;5;124m\"\u001B[39m, url\u001B[38;5;241m=\u001B[39mpath, json_data\u001B[38;5;241m=\u001B[39mbody, files\u001B[38;5;241m=\u001B[39mto_httpx_files(files), \u001B[38;5;241m*\u001B[39m\u001B[38;5;241m*\u001B[39moptions\n\u001B[0;32m   1241\u001B[0m     )\n\u001B[1;32m-> 1242\u001B[0m     \u001B[38;5;28;01mreturn\u001B[39;00m cast(ResponseT, \u001B[38;5;28;43mself\u001B[39;49m\u001B[38;5;241;43m.\u001B[39;49m\u001B[43mrequest\u001B[49m\u001B[43m(\u001B[49m\u001B[43mcast_to\u001B[49m\u001B[43m,\u001B[49m\u001B[43m \u001B[49m\u001B[43mopts\u001B[49m\u001B[43m,\u001B[49m\u001B[43m \u001B[49m\u001B[43mstream\u001B[49m\u001B[38;5;241;43m=\u001B[39;49m\u001B[43mstream\u001B[49m\u001B[43m,\u001B[49m\u001B[43m \u001B[49m\u001B[43mstream_cls\u001B[49m\u001B[38;5;241;43m=\u001B[39;49m\u001B[43mstream_cls\u001B[49m\u001B[43m)\u001B[49m)\n",
      "File \u001B[1;32mD:\\Users\\paulo\\PycharmProjects\\fastcamp-agent\\venv\\lib\\site-packages\\openai\\_base_client.py:919\u001B[0m, in \u001B[0;36mSyncAPIClient.request\u001B[1;34m(self, cast_to, options, remaining_retries, stream, stream_cls)\u001B[0m\n\u001B[0;32m    916\u001B[0m \u001B[38;5;28;01melse\u001B[39;00m:\n\u001B[0;32m    917\u001B[0m     retries_taken \u001B[38;5;241m=\u001B[39m \u001B[38;5;241m0\u001B[39m\n\u001B[1;32m--> 919\u001B[0m \u001B[38;5;28;01mreturn\u001B[39;00m \u001B[38;5;28;43mself\u001B[39;49m\u001B[38;5;241;43m.\u001B[39;49m\u001B[43m_request\u001B[49m\u001B[43m(\u001B[49m\n\u001B[0;32m    920\u001B[0m \u001B[43m    \u001B[49m\u001B[43mcast_to\u001B[49m\u001B[38;5;241;43m=\u001B[39;49m\u001B[43mcast_to\u001B[49m\u001B[43m,\u001B[49m\n\u001B[0;32m    921\u001B[0m \u001B[43m    \u001B[49m\u001B[43moptions\u001B[49m\u001B[38;5;241;43m=\u001B[39;49m\u001B[43moptions\u001B[49m\u001B[43m,\u001B[49m\n\u001B[0;32m    922\u001B[0m \u001B[43m    \u001B[49m\u001B[43mstream\u001B[49m\u001B[38;5;241;43m=\u001B[39;49m\u001B[43mstream\u001B[49m\u001B[43m,\u001B[49m\n\u001B[0;32m    923\u001B[0m \u001B[43m    \u001B[49m\u001B[43mstream_cls\u001B[49m\u001B[38;5;241;43m=\u001B[39;49m\u001B[43mstream_cls\u001B[49m\u001B[43m,\u001B[49m\n\u001B[0;32m    924\u001B[0m \u001B[43m    \u001B[49m\u001B[43mretries_taken\u001B[49m\u001B[38;5;241;43m=\u001B[39;49m\u001B[43mretries_taken\u001B[49m\u001B[43m,\u001B[49m\n\u001B[0;32m    925\u001B[0m \u001B[43m\u001B[49m\u001B[43m)\u001B[49m\n",
      "File \u001B[1;32mD:\\Users\\paulo\\PycharmProjects\\fastcamp-agent\\venv\\lib\\site-packages\\openai\\_base_client.py:955\u001B[0m, in \u001B[0;36mSyncAPIClient._request\u001B[1;34m(self, cast_to, options, retries_taken, stream, stream_cls)\u001B[0m\n\u001B[0;32m    952\u001B[0m log\u001B[38;5;241m.\u001B[39mdebug(\u001B[38;5;124m\"\u001B[39m\u001B[38;5;124mSending HTTP Request: \u001B[39m\u001B[38;5;132;01m%s\u001B[39;00m\u001B[38;5;124m \u001B[39m\u001B[38;5;132;01m%s\u001B[39;00m\u001B[38;5;124m\"\u001B[39m, request\u001B[38;5;241m.\u001B[39mmethod, request\u001B[38;5;241m.\u001B[39murl)\n\u001B[0;32m    954\u001B[0m \u001B[38;5;28;01mtry\u001B[39;00m:\n\u001B[1;32m--> 955\u001B[0m     response \u001B[38;5;241m=\u001B[39m \u001B[38;5;28mself\u001B[39m\u001B[38;5;241m.\u001B[39m_client\u001B[38;5;241m.\u001B[39msend(\n\u001B[0;32m    956\u001B[0m         request,\n\u001B[0;32m    957\u001B[0m         stream\u001B[38;5;241m=\u001B[39mstream \u001B[38;5;129;01mor\u001B[39;00m \u001B[38;5;28mself\u001B[39m\u001B[38;5;241m.\u001B[39m_should_stream_response_body(request\u001B[38;5;241m=\u001B[39mrequest),\n\u001B[0;32m    958\u001B[0m         \u001B[38;5;241m*\u001B[39m\u001B[38;5;241m*\u001B[39mkwargs,\n\u001B[0;32m    959\u001B[0m     )\n\u001B[0;32m    960\u001B[0m \u001B[38;5;28;01mexcept\u001B[39;00m httpx\u001B[38;5;241m.\u001B[39mTimeoutException \u001B[38;5;28;01mas\u001B[39;00m err:\n\u001B[0;32m    961\u001B[0m     log\u001B[38;5;241m.\u001B[39mdebug(\u001B[38;5;124m\"\u001B[39m\u001B[38;5;124mEncountered httpx.TimeoutException\u001B[39m\u001B[38;5;124m\"\u001B[39m, exc_info\u001B[38;5;241m=\u001B[39m\u001B[38;5;28;01mTrue\u001B[39;00m)\n",
      "File \u001B[1;32mD:\\Users\\paulo\\PycharmProjects\\fastcamp-agent\\venv\\lib\\site-packages\\httpx\\_client.py:926\u001B[0m, in \u001B[0;36mClient.send\u001B[1;34m(self, request, stream, auth, follow_redirects)\u001B[0m\n\u001B[0;32m    922\u001B[0m \u001B[38;5;28mself\u001B[39m\u001B[38;5;241m.\u001B[39m_set_timeout(request)\n\u001B[0;32m    924\u001B[0m auth \u001B[38;5;241m=\u001B[39m \u001B[38;5;28mself\u001B[39m\u001B[38;5;241m.\u001B[39m_build_request_auth(request, auth)\n\u001B[1;32m--> 926\u001B[0m response \u001B[38;5;241m=\u001B[39m \u001B[38;5;28;43mself\u001B[39;49m\u001B[38;5;241;43m.\u001B[39;49m\u001B[43m_send_handling_auth\u001B[49m\u001B[43m(\u001B[49m\n\u001B[0;32m    927\u001B[0m \u001B[43m    \u001B[49m\u001B[43mrequest\u001B[49m\u001B[43m,\u001B[49m\n\u001B[0;32m    928\u001B[0m \u001B[43m    \u001B[49m\u001B[43mauth\u001B[49m\u001B[38;5;241;43m=\u001B[39;49m\u001B[43mauth\u001B[49m\u001B[43m,\u001B[49m\n\u001B[0;32m    929\u001B[0m \u001B[43m    \u001B[49m\u001B[43mfollow_redirects\u001B[49m\u001B[38;5;241;43m=\u001B[39;49m\u001B[43mfollow_redirects\u001B[49m\u001B[43m,\u001B[49m\n\u001B[0;32m    930\u001B[0m \u001B[43m    \u001B[49m\u001B[43mhistory\u001B[49m\u001B[38;5;241;43m=\u001B[39;49m\u001B[43m[\u001B[49m\u001B[43m]\u001B[49m\u001B[43m,\u001B[49m\n\u001B[0;32m    931\u001B[0m \u001B[43m\u001B[49m\u001B[43m)\u001B[49m\n\u001B[0;32m    932\u001B[0m \u001B[38;5;28;01mtry\u001B[39;00m:\n\u001B[0;32m    933\u001B[0m     \u001B[38;5;28;01mif\u001B[39;00m \u001B[38;5;129;01mnot\u001B[39;00m stream:\n",
      "File \u001B[1;32mD:\\Users\\paulo\\PycharmProjects\\fastcamp-agent\\venv\\lib\\site-packages\\httpx\\_client.py:954\u001B[0m, in \u001B[0;36mClient._send_handling_auth\u001B[1;34m(self, request, auth, follow_redirects, history)\u001B[0m\n\u001B[0;32m    951\u001B[0m request \u001B[38;5;241m=\u001B[39m \u001B[38;5;28mnext\u001B[39m(auth_flow)\n\u001B[0;32m    953\u001B[0m \u001B[38;5;28;01mwhile\u001B[39;00m \u001B[38;5;28;01mTrue\u001B[39;00m:\n\u001B[1;32m--> 954\u001B[0m     response \u001B[38;5;241m=\u001B[39m \u001B[38;5;28;43mself\u001B[39;49m\u001B[38;5;241;43m.\u001B[39;49m\u001B[43m_send_handling_redirects\u001B[49m\u001B[43m(\u001B[49m\n\u001B[0;32m    955\u001B[0m \u001B[43m        \u001B[49m\u001B[43mrequest\u001B[49m\u001B[43m,\u001B[49m\n\u001B[0;32m    956\u001B[0m \u001B[43m        \u001B[49m\u001B[43mfollow_redirects\u001B[49m\u001B[38;5;241;43m=\u001B[39;49m\u001B[43mfollow_redirects\u001B[49m\u001B[43m,\u001B[49m\n\u001B[0;32m    957\u001B[0m \u001B[43m        \u001B[49m\u001B[43mhistory\u001B[49m\u001B[38;5;241;43m=\u001B[39;49m\u001B[43mhistory\u001B[49m\u001B[43m,\u001B[49m\n\u001B[0;32m    958\u001B[0m \u001B[43m    \u001B[49m\u001B[43m)\u001B[49m\n\u001B[0;32m    959\u001B[0m     \u001B[38;5;28;01mtry\u001B[39;00m:\n\u001B[0;32m    960\u001B[0m         \u001B[38;5;28;01mtry\u001B[39;00m:\n",
      "File \u001B[1;32mD:\\Users\\paulo\\PycharmProjects\\fastcamp-agent\\venv\\lib\\site-packages\\httpx\\_client.py:991\u001B[0m, in \u001B[0;36mClient._send_handling_redirects\u001B[1;34m(self, request, follow_redirects, history)\u001B[0m\n\u001B[0;32m    988\u001B[0m \u001B[38;5;28;01mfor\u001B[39;00m hook \u001B[38;5;129;01min\u001B[39;00m \u001B[38;5;28mself\u001B[39m\u001B[38;5;241m.\u001B[39m_event_hooks[\u001B[38;5;124m\"\u001B[39m\u001B[38;5;124mrequest\u001B[39m\u001B[38;5;124m\"\u001B[39m]:\n\u001B[0;32m    989\u001B[0m     hook(request)\n\u001B[1;32m--> 991\u001B[0m response \u001B[38;5;241m=\u001B[39m \u001B[38;5;28;43mself\u001B[39;49m\u001B[38;5;241;43m.\u001B[39;49m\u001B[43m_send_single_request\u001B[49m\u001B[43m(\u001B[49m\u001B[43mrequest\u001B[49m\u001B[43m)\u001B[49m\n\u001B[0;32m    992\u001B[0m \u001B[38;5;28;01mtry\u001B[39;00m:\n\u001B[0;32m    993\u001B[0m     \u001B[38;5;28;01mfor\u001B[39;00m hook \u001B[38;5;129;01min\u001B[39;00m \u001B[38;5;28mself\u001B[39m\u001B[38;5;241m.\u001B[39m_event_hooks[\u001B[38;5;124m\"\u001B[39m\u001B[38;5;124mresponse\u001B[39m\u001B[38;5;124m\"\u001B[39m]:\n",
      "File \u001B[1;32mD:\\Users\\paulo\\PycharmProjects\\fastcamp-agent\\venv\\lib\\site-packages\\httpx\\_client.py:1027\u001B[0m, in \u001B[0;36mClient._send_single_request\u001B[1;34m(self, request)\u001B[0m\n\u001B[0;32m   1022\u001B[0m     \u001B[38;5;28;01mraise\u001B[39;00m \u001B[38;5;167;01mRuntimeError\u001B[39;00m(\n\u001B[0;32m   1023\u001B[0m         \u001B[38;5;124m\"\u001B[39m\u001B[38;5;124mAttempted to send an async request with a sync Client instance.\u001B[39m\u001B[38;5;124m\"\u001B[39m\n\u001B[0;32m   1024\u001B[0m     )\n\u001B[0;32m   1026\u001B[0m \u001B[38;5;28;01mwith\u001B[39;00m request_context(request\u001B[38;5;241m=\u001B[39mrequest):\n\u001B[1;32m-> 1027\u001B[0m     response \u001B[38;5;241m=\u001B[39m \u001B[43mtransport\u001B[49m\u001B[38;5;241;43m.\u001B[39;49m\u001B[43mhandle_request\u001B[49m\u001B[43m(\u001B[49m\u001B[43mrequest\u001B[49m\u001B[43m)\u001B[49m\n\u001B[0;32m   1029\u001B[0m \u001B[38;5;28;01massert\u001B[39;00m \u001B[38;5;28misinstance\u001B[39m(response\u001B[38;5;241m.\u001B[39mstream, SyncByteStream)\n\u001B[0;32m   1031\u001B[0m response\u001B[38;5;241m.\u001B[39mrequest \u001B[38;5;241m=\u001B[39m request\n",
      "File \u001B[1;32mD:\\Users\\paulo\\PycharmProjects\\fastcamp-agent\\venv\\lib\\site-packages\\httpx\\_transports\\default.py:236\u001B[0m, in \u001B[0;36mHTTPTransport.handle_request\u001B[1;34m(self, request)\u001B[0m\n\u001B[0;32m    223\u001B[0m req \u001B[38;5;241m=\u001B[39m httpcore\u001B[38;5;241m.\u001B[39mRequest(\n\u001B[0;32m    224\u001B[0m     method\u001B[38;5;241m=\u001B[39mrequest\u001B[38;5;241m.\u001B[39mmethod,\n\u001B[0;32m    225\u001B[0m     url\u001B[38;5;241m=\u001B[39mhttpcore\u001B[38;5;241m.\u001B[39mURL(\n\u001B[1;32m   (...)\u001B[0m\n\u001B[0;32m    233\u001B[0m     extensions\u001B[38;5;241m=\u001B[39mrequest\u001B[38;5;241m.\u001B[39mextensions,\n\u001B[0;32m    234\u001B[0m )\n\u001B[0;32m    235\u001B[0m \u001B[38;5;28;01mwith\u001B[39;00m map_httpcore_exceptions():\n\u001B[1;32m--> 236\u001B[0m     resp \u001B[38;5;241m=\u001B[39m \u001B[38;5;28;43mself\u001B[39;49m\u001B[38;5;241;43m.\u001B[39;49m\u001B[43m_pool\u001B[49m\u001B[38;5;241;43m.\u001B[39;49m\u001B[43mhandle_request\u001B[49m\u001B[43m(\u001B[49m\u001B[43mreq\u001B[49m\u001B[43m)\u001B[49m\n\u001B[0;32m    238\u001B[0m \u001B[38;5;28;01massert\u001B[39;00m \u001B[38;5;28misinstance\u001B[39m(resp\u001B[38;5;241m.\u001B[39mstream, typing\u001B[38;5;241m.\u001B[39mIterable)\n\u001B[0;32m    240\u001B[0m \u001B[38;5;28;01mreturn\u001B[39;00m Response(\n\u001B[0;32m    241\u001B[0m     status_code\u001B[38;5;241m=\u001B[39mresp\u001B[38;5;241m.\u001B[39mstatus,\n\u001B[0;32m    242\u001B[0m     headers\u001B[38;5;241m=\u001B[39mresp\u001B[38;5;241m.\u001B[39mheaders,\n\u001B[0;32m    243\u001B[0m     stream\u001B[38;5;241m=\u001B[39mResponseStream(resp\u001B[38;5;241m.\u001B[39mstream),\n\u001B[0;32m    244\u001B[0m     extensions\u001B[38;5;241m=\u001B[39mresp\u001B[38;5;241m.\u001B[39mextensions,\n\u001B[0;32m    245\u001B[0m )\n",
      "File \u001B[1;32mD:\\Users\\paulo\\PycharmProjects\\fastcamp-agent\\venv\\lib\\site-packages\\httpcore\\_sync\\connection_pool.py:256\u001B[0m, in \u001B[0;36mConnectionPool.handle_request\u001B[1;34m(self, request)\u001B[0m\n\u001B[0;32m    253\u001B[0m         closing \u001B[38;5;241m=\u001B[39m \u001B[38;5;28mself\u001B[39m\u001B[38;5;241m.\u001B[39m_assign_requests_to_connections()\n\u001B[0;32m    255\u001B[0m     \u001B[38;5;28mself\u001B[39m\u001B[38;5;241m.\u001B[39m_close_connections(closing)\n\u001B[1;32m--> 256\u001B[0m     \u001B[38;5;28;01mraise\u001B[39;00m exc \u001B[38;5;28;01mfrom\u001B[39;00m\u001B[38;5;250m \u001B[39m\u001B[38;5;28;01mNone\u001B[39;00m\n\u001B[0;32m    258\u001B[0m \u001B[38;5;66;03m# Return the response. Note that in this case we still have to manage\u001B[39;00m\n\u001B[0;32m    259\u001B[0m \u001B[38;5;66;03m# the point at which the response is closed.\u001B[39;00m\n\u001B[0;32m    260\u001B[0m \u001B[38;5;28;01massert\u001B[39;00m \u001B[38;5;28misinstance\u001B[39m(response\u001B[38;5;241m.\u001B[39mstream, typing\u001B[38;5;241m.\u001B[39mIterable)\n",
      "File \u001B[1;32mD:\\Users\\paulo\\PycharmProjects\\fastcamp-agent\\venv\\lib\\site-packages\\httpcore\\_sync\\connection_pool.py:236\u001B[0m, in \u001B[0;36mConnectionPool.handle_request\u001B[1;34m(self, request)\u001B[0m\n\u001B[0;32m    232\u001B[0m connection \u001B[38;5;241m=\u001B[39m pool_request\u001B[38;5;241m.\u001B[39mwait_for_connection(timeout\u001B[38;5;241m=\u001B[39mtimeout)\n\u001B[0;32m    234\u001B[0m \u001B[38;5;28;01mtry\u001B[39;00m:\n\u001B[0;32m    235\u001B[0m     \u001B[38;5;66;03m# Send the request on the assigned connection.\u001B[39;00m\n\u001B[1;32m--> 236\u001B[0m     response \u001B[38;5;241m=\u001B[39m \u001B[43mconnection\u001B[49m\u001B[38;5;241;43m.\u001B[39;49m\u001B[43mhandle_request\u001B[49m\u001B[43m(\u001B[49m\n\u001B[0;32m    237\u001B[0m \u001B[43m        \u001B[49m\u001B[43mpool_request\u001B[49m\u001B[38;5;241;43m.\u001B[39;49m\u001B[43mrequest\u001B[49m\n\u001B[0;32m    238\u001B[0m \u001B[43m    \u001B[49m\u001B[43m)\u001B[49m\n\u001B[0;32m    239\u001B[0m \u001B[38;5;28;01mexcept\u001B[39;00m ConnectionNotAvailable:\n\u001B[0;32m    240\u001B[0m     \u001B[38;5;66;03m# In some cases a connection may initially be available to\u001B[39;00m\n\u001B[0;32m    241\u001B[0m     \u001B[38;5;66;03m# handle a request, but then become unavailable.\u001B[39;00m\n\u001B[0;32m    242\u001B[0m     \u001B[38;5;66;03m#\u001B[39;00m\n\u001B[0;32m    243\u001B[0m     \u001B[38;5;66;03m# In this case we clear the connection and try again.\u001B[39;00m\n\u001B[0;32m    244\u001B[0m     pool_request\u001B[38;5;241m.\u001B[39mclear_connection()\n",
      "File \u001B[1;32mD:\\Users\\paulo\\PycharmProjects\\fastcamp-agent\\venv\\lib\\site-packages\\httpcore\\_sync\\connection.py:103\u001B[0m, in \u001B[0;36mHTTPConnection.handle_request\u001B[1;34m(self, request)\u001B[0m\n\u001B[0;32m    100\u001B[0m     \u001B[38;5;28mself\u001B[39m\u001B[38;5;241m.\u001B[39m_connect_failed \u001B[38;5;241m=\u001B[39m \u001B[38;5;28;01mTrue\u001B[39;00m\n\u001B[0;32m    101\u001B[0m     \u001B[38;5;28;01mraise\u001B[39;00m exc\n\u001B[1;32m--> 103\u001B[0m \u001B[38;5;28;01mreturn\u001B[39;00m \u001B[38;5;28;43mself\u001B[39;49m\u001B[38;5;241;43m.\u001B[39;49m\u001B[43m_connection\u001B[49m\u001B[38;5;241;43m.\u001B[39;49m\u001B[43mhandle_request\u001B[49m\u001B[43m(\u001B[49m\u001B[43mrequest\u001B[49m\u001B[43m)\u001B[49m\n",
      "File \u001B[1;32mD:\\Users\\paulo\\PycharmProjects\\fastcamp-agent\\venv\\lib\\site-packages\\httpcore\\_sync\\http11.py:136\u001B[0m, in \u001B[0;36mHTTP11Connection.handle_request\u001B[1;34m(self, request)\u001B[0m\n\u001B[0;32m    134\u001B[0m     \u001B[38;5;28;01mwith\u001B[39;00m Trace(\u001B[38;5;124m\"\u001B[39m\u001B[38;5;124mresponse_closed\u001B[39m\u001B[38;5;124m\"\u001B[39m, logger, request) \u001B[38;5;28;01mas\u001B[39;00m trace:\n\u001B[0;32m    135\u001B[0m         \u001B[38;5;28mself\u001B[39m\u001B[38;5;241m.\u001B[39m_response_closed()\n\u001B[1;32m--> 136\u001B[0m \u001B[38;5;28;01mraise\u001B[39;00m exc\n",
      "File \u001B[1;32mD:\\Users\\paulo\\PycharmProjects\\fastcamp-agent\\venv\\lib\\site-packages\\httpcore\\_sync\\http11.py:106\u001B[0m, in \u001B[0;36mHTTP11Connection.handle_request\u001B[1;34m(self, request)\u001B[0m\n\u001B[0;32m     95\u001B[0m     \u001B[38;5;28;01mpass\u001B[39;00m\n\u001B[0;32m     97\u001B[0m \u001B[38;5;28;01mwith\u001B[39;00m Trace(\n\u001B[0;32m     98\u001B[0m     \u001B[38;5;124m\"\u001B[39m\u001B[38;5;124mreceive_response_headers\u001B[39m\u001B[38;5;124m\"\u001B[39m, logger, request, kwargs\n\u001B[0;32m     99\u001B[0m ) \u001B[38;5;28;01mas\u001B[39;00m trace:\n\u001B[0;32m    100\u001B[0m     (\n\u001B[0;32m    101\u001B[0m         http_version,\n\u001B[0;32m    102\u001B[0m         status,\n\u001B[0;32m    103\u001B[0m         reason_phrase,\n\u001B[0;32m    104\u001B[0m         headers,\n\u001B[0;32m    105\u001B[0m         trailing_data,\n\u001B[1;32m--> 106\u001B[0m     ) \u001B[38;5;241m=\u001B[39m \u001B[38;5;28mself\u001B[39m\u001B[38;5;241m.\u001B[39m_receive_response_headers(\u001B[38;5;241m*\u001B[39m\u001B[38;5;241m*\u001B[39mkwargs)\n\u001B[0;32m    107\u001B[0m     trace\u001B[38;5;241m.\u001B[39mreturn_value \u001B[38;5;241m=\u001B[39m (\n\u001B[0;32m    108\u001B[0m         http_version,\n\u001B[0;32m    109\u001B[0m         status,\n\u001B[0;32m    110\u001B[0m         reason_phrase,\n\u001B[0;32m    111\u001B[0m         headers,\n\u001B[0;32m    112\u001B[0m     )\n\u001B[0;32m    114\u001B[0m network_stream \u001B[38;5;241m=\u001B[39m \u001B[38;5;28mself\u001B[39m\u001B[38;5;241m.\u001B[39m_network_stream\n",
      "File \u001B[1;32mD:\\Users\\paulo\\PycharmProjects\\fastcamp-agent\\venv\\lib\\site-packages\\httpcore\\_sync\\http11.py:177\u001B[0m, in \u001B[0;36mHTTP11Connection._receive_response_headers\u001B[1;34m(self, request)\u001B[0m\n\u001B[0;32m    174\u001B[0m timeout \u001B[38;5;241m=\u001B[39m timeouts\u001B[38;5;241m.\u001B[39mget(\u001B[38;5;124m\"\u001B[39m\u001B[38;5;124mread\u001B[39m\u001B[38;5;124m\"\u001B[39m, \u001B[38;5;28;01mNone\u001B[39;00m)\n\u001B[0;32m    176\u001B[0m \u001B[38;5;28;01mwhile\u001B[39;00m \u001B[38;5;28;01mTrue\u001B[39;00m:\n\u001B[1;32m--> 177\u001B[0m     event \u001B[38;5;241m=\u001B[39m \u001B[38;5;28;43mself\u001B[39;49m\u001B[38;5;241;43m.\u001B[39;49m\u001B[43m_receive_event\u001B[49m\u001B[43m(\u001B[49m\u001B[43mtimeout\u001B[49m\u001B[38;5;241;43m=\u001B[39;49m\u001B[43mtimeout\u001B[49m\u001B[43m)\u001B[49m\n\u001B[0;32m    178\u001B[0m     \u001B[38;5;28;01mif\u001B[39;00m \u001B[38;5;28misinstance\u001B[39m(event, h11\u001B[38;5;241m.\u001B[39mResponse):\n\u001B[0;32m    179\u001B[0m         \u001B[38;5;28;01mbreak\u001B[39;00m\n",
      "File \u001B[1;32mD:\\Users\\paulo\\PycharmProjects\\fastcamp-agent\\venv\\lib\\site-packages\\httpcore\\_sync\\http11.py:217\u001B[0m, in \u001B[0;36mHTTP11Connection._receive_event\u001B[1;34m(self, timeout)\u001B[0m\n\u001B[0;32m    214\u001B[0m     event \u001B[38;5;241m=\u001B[39m \u001B[38;5;28mself\u001B[39m\u001B[38;5;241m.\u001B[39m_h11_state\u001B[38;5;241m.\u001B[39mnext_event()\n\u001B[0;32m    216\u001B[0m \u001B[38;5;28;01mif\u001B[39;00m event \u001B[38;5;129;01mis\u001B[39;00m h11\u001B[38;5;241m.\u001B[39mNEED_DATA:\n\u001B[1;32m--> 217\u001B[0m     data \u001B[38;5;241m=\u001B[39m \u001B[38;5;28;43mself\u001B[39;49m\u001B[38;5;241;43m.\u001B[39;49m\u001B[43m_network_stream\u001B[49m\u001B[38;5;241;43m.\u001B[39;49m\u001B[43mread\u001B[49m\u001B[43m(\u001B[49m\n\u001B[0;32m    218\u001B[0m \u001B[43m        \u001B[49m\u001B[38;5;28;43mself\u001B[39;49m\u001B[38;5;241;43m.\u001B[39;49m\u001B[43mREAD_NUM_BYTES\u001B[49m\u001B[43m,\u001B[49m\u001B[43m \u001B[49m\u001B[43mtimeout\u001B[49m\u001B[38;5;241;43m=\u001B[39;49m\u001B[43mtimeout\u001B[49m\n\u001B[0;32m    219\u001B[0m \u001B[43m    \u001B[49m\u001B[43m)\u001B[49m\n\u001B[0;32m    221\u001B[0m     \u001B[38;5;66;03m# If we feed this case through h11 we'll raise an exception like:\u001B[39;00m\n\u001B[0;32m    222\u001B[0m     \u001B[38;5;66;03m#\u001B[39;00m\n\u001B[0;32m    223\u001B[0m     \u001B[38;5;66;03m#     httpcore.RemoteProtocolError: can't handle event type\u001B[39;00m\n\u001B[1;32m   (...)\u001B[0m\n\u001B[0;32m    227\u001B[0m     \u001B[38;5;66;03m# perspective. Instead we handle this case distinctly and treat\u001B[39;00m\n\u001B[0;32m    228\u001B[0m     \u001B[38;5;66;03m# it as a ConnectError.\u001B[39;00m\n\u001B[0;32m    229\u001B[0m     \u001B[38;5;28;01mif\u001B[39;00m data \u001B[38;5;241m==\u001B[39m \u001B[38;5;124mb\u001B[39m\u001B[38;5;124m\"\u001B[39m\u001B[38;5;124m\"\u001B[39m \u001B[38;5;129;01mand\u001B[39;00m \u001B[38;5;28mself\u001B[39m\u001B[38;5;241m.\u001B[39m_h11_state\u001B[38;5;241m.\u001B[39mtheir_state \u001B[38;5;241m==\u001B[39m h11\u001B[38;5;241m.\u001B[39mSEND_RESPONSE:\n",
      "File \u001B[1;32mD:\\Users\\paulo\\PycharmProjects\\fastcamp-agent\\venv\\lib\\site-packages\\httpcore\\_backends\\sync.py:128\u001B[0m, in \u001B[0;36mSyncStream.read\u001B[1;34m(self, max_bytes, timeout)\u001B[0m\n\u001B[0;32m    126\u001B[0m \u001B[38;5;28;01mwith\u001B[39;00m map_exceptions(exc_map):\n\u001B[0;32m    127\u001B[0m     \u001B[38;5;28mself\u001B[39m\u001B[38;5;241m.\u001B[39m_sock\u001B[38;5;241m.\u001B[39msettimeout(timeout)\n\u001B[1;32m--> 128\u001B[0m     \u001B[38;5;28;01mreturn\u001B[39;00m \u001B[38;5;28;43mself\u001B[39;49m\u001B[38;5;241;43m.\u001B[39;49m\u001B[43m_sock\u001B[49m\u001B[38;5;241;43m.\u001B[39;49m\u001B[43mrecv\u001B[49m\u001B[43m(\u001B[49m\u001B[43mmax_bytes\u001B[49m\u001B[43m)\u001B[49m\n",
      "File \u001B[1;32mC:\\Python310\\lib\\ssl.py:1259\u001B[0m, in \u001B[0;36mSSLSocket.recv\u001B[1;34m(self, buflen, flags)\u001B[0m\n\u001B[0;32m   1255\u001B[0m     \u001B[38;5;28;01mif\u001B[39;00m flags \u001B[38;5;241m!=\u001B[39m \u001B[38;5;241m0\u001B[39m:\n\u001B[0;32m   1256\u001B[0m         \u001B[38;5;28;01mraise\u001B[39;00m \u001B[38;5;167;01mValueError\u001B[39;00m(\n\u001B[0;32m   1257\u001B[0m             \u001B[38;5;124m\"\u001B[39m\u001B[38;5;124mnon-zero flags not allowed in calls to recv() on \u001B[39m\u001B[38;5;132;01m%s\u001B[39;00m\u001B[38;5;124m\"\u001B[39m \u001B[38;5;241m%\u001B[39m\n\u001B[0;32m   1258\u001B[0m             \u001B[38;5;28mself\u001B[39m\u001B[38;5;241m.\u001B[39m\u001B[38;5;18m__class__\u001B[39m)\n\u001B[1;32m-> 1259\u001B[0m     \u001B[38;5;28;01mreturn\u001B[39;00m \u001B[38;5;28;43mself\u001B[39;49m\u001B[38;5;241;43m.\u001B[39;49m\u001B[43mread\u001B[49m\u001B[43m(\u001B[49m\u001B[43mbuflen\u001B[49m\u001B[43m)\u001B[49m\n\u001B[0;32m   1260\u001B[0m \u001B[38;5;28;01melse\u001B[39;00m:\n\u001B[0;32m   1261\u001B[0m     \u001B[38;5;28;01mreturn\u001B[39;00m \u001B[38;5;28msuper\u001B[39m()\u001B[38;5;241m.\u001B[39mrecv(buflen, flags)\n",
      "File \u001B[1;32mC:\\Python310\\lib\\ssl.py:1132\u001B[0m, in \u001B[0;36mSSLSocket.read\u001B[1;34m(self, len, buffer)\u001B[0m\n\u001B[0;32m   1130\u001B[0m         \u001B[38;5;28;01mreturn\u001B[39;00m \u001B[38;5;28mself\u001B[39m\u001B[38;5;241m.\u001B[39m_sslobj\u001B[38;5;241m.\u001B[39mread(\u001B[38;5;28mlen\u001B[39m, buffer)\n\u001B[0;32m   1131\u001B[0m     \u001B[38;5;28;01melse\u001B[39;00m:\n\u001B[1;32m-> 1132\u001B[0m         \u001B[38;5;28;01mreturn\u001B[39;00m \u001B[38;5;28;43mself\u001B[39;49m\u001B[38;5;241;43m.\u001B[39;49m\u001B[43m_sslobj\u001B[49m\u001B[38;5;241;43m.\u001B[39;49m\u001B[43mread\u001B[49m\u001B[43m(\u001B[49m\u001B[38;5;28;43mlen\u001B[39;49m\u001B[43m)\u001B[49m\n\u001B[0;32m   1133\u001B[0m \u001B[38;5;28;01mexcept\u001B[39;00m SSLError \u001B[38;5;28;01mas\u001B[39;00m x:\n\u001B[0;32m   1134\u001B[0m     \u001B[38;5;28;01mif\u001B[39;00m x\u001B[38;5;241m.\u001B[39margs[\u001B[38;5;241m0\u001B[39m] \u001B[38;5;241m==\u001B[39m SSL_ERROR_EOF \u001B[38;5;129;01mand\u001B[39;00m \u001B[38;5;28mself\u001B[39m\u001B[38;5;241m.\u001B[39msuppress_ragged_eofs:\n",
      "\u001B[1;31mKeyboardInterrupt\u001B[0m: "
     ]
    }
   ],
   "execution_count": 14
  },
  {
   "metadata": {
    "ExecuteTime": {
     "end_time": "2025-04-22T18:58:27.261859Z",
     "start_time": "2025-04-22T18:58:26.622200Z"
    }
   },
   "cell_type": "code",
   "source": [
    "df.head(200)\n",
    "df.to_csv('saida.csv')"
   ],
   "id": "d46f0ad9c8fc1c93",
   "outputs": [],
   "execution_count": 18
  }
 ],
 "metadata": {
  "kernelspec": {
   "display_name": "Python 3",
   "language": "python",
   "name": "python3"
  },
  "language_info": {
   "codemirror_mode": {
    "name": "ipython",
    "version": 2
   },
   "file_extension": ".py",
   "mimetype": "text/x-python",
   "name": "python",
   "nbconvert_exporter": "python",
   "pygments_lexer": "ipython2",
   "version": "2.7.6"
  }
 },
 "nbformat": 4,
 "nbformat_minor": 5
}
