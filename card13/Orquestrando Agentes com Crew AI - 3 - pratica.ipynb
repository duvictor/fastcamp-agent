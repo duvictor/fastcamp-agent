{
 "cells": [
  {
   "cell_type": "code",
   "id": "initial_id",
   "metadata": {
    "collapsed": true,
    "ExecuteTime": {
     "end_time": "2025-04-22T20:23:58.582729Z",
     "start_time": "2025-04-22T20:23:57.895323Z"
    }
   },
   "source": [
    "import pandas as pd\n",
    "\n",
    "df = pd.read_csv(r'D:\\Users\\paulo\\PycharmProjects\\fastcamp-agent\\card13\\mtsamples.csv')\n",
    "\n"
   ],
   "outputs": [],
   "execution_count": 1
  },
  {
   "metadata": {
    "ExecuteTime": {
     "end_time": "2025-04-22T20:23:59.809688Z",
     "start_time": "2025-04-22T20:23:59.793686Z"
    }
   },
   "cell_type": "code",
   "source": "df.head(-1)",
   "id": "a936730040f27dd",
   "outputs": [
    {
     "data": {
      "text/plain": [
       "      Unnamed: 0                                        description  \\\n",
       "0              0   A 23-year-old white female presents with comp...   \n",
       "1              1           Consult for laparoscopic gastric bypass.   \n",
       "2              2           Consult for laparoscopic gastric bypass.   \n",
       "3              3                             2-D M-Mode. Doppler.     \n",
       "4              4                                 2-D Echocardiogram   \n",
       "...          ...                                                ...   \n",
       "4993        4993   Chronic glossitis, xerostomia, probable envir...   \n",
       "4994        4994   Patient having severe sinusitis about two to ...   \n",
       "4995        4995   This is a 14-month-old baby boy Caucasian who...   \n",
       "4996        4996   A female for a complete physical and follow u...   \n",
       "4997        4997   Mother states he has been wheezing and coughing.   \n",
       "\n",
       "                medical_specialty                                sample_name  \\\n",
       "0            Allergy / Immunology                         Allergic Rhinitis    \n",
       "1                      Bariatrics   Laparoscopic Gastric Bypass Consult - 2    \n",
       "2                      Bariatrics   Laparoscopic Gastric Bypass Consult - 1    \n",
       "3      Cardiovascular / Pulmonary                    2-D Echocardiogram - 1    \n",
       "4      Cardiovascular / Pulmonary                    2-D Echocardiogram - 2    \n",
       "...                           ...                                        ...   \n",
       "4993         Allergy / Immunology                   Evaluation of Allergies    \n",
       "4994         Allergy / Immunology                         Chronic Sinusitis    \n",
       "4995         Allergy / Immunology      Kawasaki Disease - Discharge Summary    \n",
       "4996         Allergy / Immunology                        Followup on Asthma    \n",
       "4997         Allergy / Immunology                    Asthma in a 5-year-old    \n",
       "\n",
       "                                          transcription  \\\n",
       "0     SUBJECTIVE:,  This 23-year-old white female pr...   \n",
       "1     PAST MEDICAL HISTORY:, He has difficulty climb...   \n",
       "2     HISTORY OF PRESENT ILLNESS: , I have seen ABC ...   \n",
       "3     2-D M-MODE: , ,1.  Left atrial enlargement wit...   \n",
       "4     1.  The left ventricular cavity size and wall ...   \n",
       "...                                                 ...   \n",
       "4993  HISTORY:,  A 55-year-old female presents self-...   \n",
       "4994  HISTORY:,  I had the pleasure of meeting and e...   \n",
       "4995  ADMITTING DIAGNOSIS: , Kawasaki disease.,DISCH...   \n",
       "4996  SUBJECTIVE: , This is a 42-year-old white fema...   \n",
       "4997  CHIEF COMPLAINT: , This 5-year-old male presen...   \n",
       "\n",
       "                                               keywords  \n",
       "0     allergy / immunology, allergic rhinitis, aller...  \n",
       "1     bariatrics, laparoscopic gastric bypass, weigh...  \n",
       "2     bariatrics, laparoscopic gastric bypass, heart...  \n",
       "3     cardiovascular / pulmonary, 2-d m-mode, dopple...  \n",
       "4     cardiovascular / pulmonary, 2-d, doppler, echo...  \n",
       "...                                                 ...  \n",
       "4993  allergy / immunology, chronic glossitis, xeros...  \n",
       "4994                                                NaN  \n",
       "4995  allergy / immunology, mucous membranes, conjun...  \n",
       "4996                                                NaN  \n",
       "4997                                                NaN  \n",
       "\n",
       "[4998 rows x 6 columns]"
      ],
      "text/html": [
       "<div>\n",
       "<style scoped>\n",
       "    .dataframe tbody tr th:only-of-type {\n",
       "        vertical-align: middle;\n",
       "    }\n",
       "\n",
       "    .dataframe tbody tr th {\n",
       "        vertical-align: top;\n",
       "    }\n",
       "\n",
       "    .dataframe thead th {\n",
       "        text-align: right;\n",
       "    }\n",
       "</style>\n",
       "<table border=\"1\" class=\"dataframe\">\n",
       "  <thead>\n",
       "    <tr style=\"text-align: right;\">\n",
       "      <th></th>\n",
       "      <th>Unnamed: 0</th>\n",
       "      <th>description</th>\n",
       "      <th>medical_specialty</th>\n",
       "      <th>sample_name</th>\n",
       "      <th>transcription</th>\n",
       "      <th>keywords</th>\n",
       "    </tr>\n",
       "  </thead>\n",
       "  <tbody>\n",
       "    <tr>\n",
       "      <th>0</th>\n",
       "      <td>0</td>\n",
       "      <td>A 23-year-old white female presents with comp...</td>\n",
       "      <td>Allergy / Immunology</td>\n",
       "      <td>Allergic Rhinitis</td>\n",
       "      <td>SUBJECTIVE:,  This 23-year-old white female pr...</td>\n",
       "      <td>allergy / immunology, allergic rhinitis, aller...</td>\n",
       "    </tr>\n",
       "    <tr>\n",
       "      <th>1</th>\n",
       "      <td>1</td>\n",
       "      <td>Consult for laparoscopic gastric bypass.</td>\n",
       "      <td>Bariatrics</td>\n",
       "      <td>Laparoscopic Gastric Bypass Consult - 2</td>\n",
       "      <td>PAST MEDICAL HISTORY:, He has difficulty climb...</td>\n",
       "      <td>bariatrics, laparoscopic gastric bypass, weigh...</td>\n",
       "    </tr>\n",
       "    <tr>\n",
       "      <th>2</th>\n",
       "      <td>2</td>\n",
       "      <td>Consult for laparoscopic gastric bypass.</td>\n",
       "      <td>Bariatrics</td>\n",
       "      <td>Laparoscopic Gastric Bypass Consult - 1</td>\n",
       "      <td>HISTORY OF PRESENT ILLNESS: , I have seen ABC ...</td>\n",
       "      <td>bariatrics, laparoscopic gastric bypass, heart...</td>\n",
       "    </tr>\n",
       "    <tr>\n",
       "      <th>3</th>\n",
       "      <td>3</td>\n",
       "      <td>2-D M-Mode. Doppler.</td>\n",
       "      <td>Cardiovascular / Pulmonary</td>\n",
       "      <td>2-D Echocardiogram - 1</td>\n",
       "      <td>2-D M-MODE: , ,1.  Left atrial enlargement wit...</td>\n",
       "      <td>cardiovascular / pulmonary, 2-d m-mode, dopple...</td>\n",
       "    </tr>\n",
       "    <tr>\n",
       "      <th>4</th>\n",
       "      <td>4</td>\n",
       "      <td>2-D Echocardiogram</td>\n",
       "      <td>Cardiovascular / Pulmonary</td>\n",
       "      <td>2-D Echocardiogram - 2</td>\n",
       "      <td>1.  The left ventricular cavity size and wall ...</td>\n",
       "      <td>cardiovascular / pulmonary, 2-d, doppler, echo...</td>\n",
       "    </tr>\n",
       "    <tr>\n",
       "      <th>...</th>\n",
       "      <td>...</td>\n",
       "      <td>...</td>\n",
       "      <td>...</td>\n",
       "      <td>...</td>\n",
       "      <td>...</td>\n",
       "      <td>...</td>\n",
       "    </tr>\n",
       "    <tr>\n",
       "      <th>4993</th>\n",
       "      <td>4993</td>\n",
       "      <td>Chronic glossitis, xerostomia, probable envir...</td>\n",
       "      <td>Allergy / Immunology</td>\n",
       "      <td>Evaluation of Allergies</td>\n",
       "      <td>HISTORY:,  A 55-year-old female presents self-...</td>\n",
       "      <td>allergy / immunology, chronic glossitis, xeros...</td>\n",
       "    </tr>\n",
       "    <tr>\n",
       "      <th>4994</th>\n",
       "      <td>4994</td>\n",
       "      <td>Patient having severe sinusitis about two to ...</td>\n",
       "      <td>Allergy / Immunology</td>\n",
       "      <td>Chronic Sinusitis</td>\n",
       "      <td>HISTORY:,  I had the pleasure of meeting and e...</td>\n",
       "      <td>NaN</td>\n",
       "    </tr>\n",
       "    <tr>\n",
       "      <th>4995</th>\n",
       "      <td>4995</td>\n",
       "      <td>This is a 14-month-old baby boy Caucasian who...</td>\n",
       "      <td>Allergy / Immunology</td>\n",
       "      <td>Kawasaki Disease - Discharge Summary</td>\n",
       "      <td>ADMITTING DIAGNOSIS: , Kawasaki disease.,DISCH...</td>\n",
       "      <td>allergy / immunology, mucous membranes, conjun...</td>\n",
       "    </tr>\n",
       "    <tr>\n",
       "      <th>4996</th>\n",
       "      <td>4996</td>\n",
       "      <td>A female for a complete physical and follow u...</td>\n",
       "      <td>Allergy / Immunology</td>\n",
       "      <td>Followup on Asthma</td>\n",
       "      <td>SUBJECTIVE: , This is a 42-year-old white fema...</td>\n",
       "      <td>NaN</td>\n",
       "    </tr>\n",
       "    <tr>\n",
       "      <th>4997</th>\n",
       "      <td>4997</td>\n",
       "      <td>Mother states he has been wheezing and coughing.</td>\n",
       "      <td>Allergy / Immunology</td>\n",
       "      <td>Asthma in a 5-year-old</td>\n",
       "      <td>CHIEF COMPLAINT: , This 5-year-old male presen...</td>\n",
       "      <td>NaN</td>\n",
       "    </tr>\n",
       "  </tbody>\n",
       "</table>\n",
       "<p>4998 rows × 6 columns</p>\n",
       "</div>"
      ]
     },
     "execution_count": 2,
     "metadata": {},
     "output_type": "execute_result"
    }
   ],
   "execution_count": 2
  },
  {
   "metadata": {
    "ExecuteTime": {
     "end_time": "2025-04-22T20:24:01.668855Z",
     "start_time": "2025-04-22T20:24:01.662855Z"
    }
   },
   "cell_type": "code",
   "source": "df['transcription'][5]",
   "id": "c8c89e852249c385",
   "outputs": [
    {
     "data": {
      "text/plain": [
       "'PREOPERATIVE DIAGNOSIS: , Morbid obesity.,POSTOPERATIVE DIAGNOSIS:  ,Morbid obesity.,PROCEDURE: , Laparoscopic antecolic antegastric Roux-en-Y gastric bypass with EEA anastomosis.,ANESTHESIA: , General with endotracheal intubation.,INDICATION FOR PROCEDURE: , This is a 30-year-old female, who has been overweight for many years.  She has tried many different diets, but is unsuccessful.  She has been to our Bariatric Surgery Seminar, received some handouts, and signed the consent.  The risks and benefits of the procedure have been explained to the patient.,PROCEDURE IN DETAIL:  ,The patient was taken to the operating room and placed supine on the operating room table.  All pressure points were carefully padded.  She was given general anesthesia with endotracheal intubation.  SCD stockings were placed on both legs.  Foley catheter was placed for bladder decompression.  The abdomen was then prepped and draped in standard sterile surgical fashion.  Marcaine was then injected through umbilicus.  A small incision was made.  A Veress needle was introduced into the abdomen.  CO2 insufflation was done to a maximum pressure of 15 mmHg.  A 12-mm VersaStep port was placed through the umbilicus.  I then placed a 5-mm port just anterior to the midaxillary line and just subcostal on the right side.  I placed another 5-mm port in the midclavicular line just subcostal on the right side, a few centimeters below and medial to that, I placed a 12-mm VersaStep port.  On the left side, just anterior to the midaxillary line and just subcostal, I placed a 5-mm port.  A few centimeters below and medial to that, I placed a 15-mm port.  I began by lifting up the omentum and identifying the transverse colon and lifting that up and thereby identifying my ligament of Treitz.  I ran the small bowel down approximately 40 cm and divided the small bowel with a white load GIA stapler.  I then divided the mesentery all the way down to the base of the mesentery with a LigaSure device.  I then ran the distal bowel down, approximately 100 cm, and at 100 cm, I made a hole at the antimesenteric portion of the Roux limb and a hole in the antimesenteric portion of the duodenogastric limb, and I passed a 45 white load stapler and fired a stapler creating a side-to-side anastomosis.  I reapproximated the edges of the defect.  I lifted it up and stapled across it with another white load stapler.  I then closed the mesenteric defect with interrupted Surgidac sutures.  I divided the omentum all the way down to the colon in order to create a passageway for my small bowel to go antecolic.  I then put the patient in reverse Trendelenburg.  I placed a liver retractor, identified, and dissected the angle of His.  I then dissected on the lesser curve, approximately 2.5 cm below the gastroesophageal junction, and got into a lesser space.  I fired transversely across the stomach with a 45 blue load stapler.  I then used two fires of the 60 blue load with SeamGuard to go up into my angle of His, thereby creating my gastric pouch.  I then made a hole at the base of the gastric pouch and had Anesthesia remove the bougie and place the OG tube connected to the anvil.  I pulled the anvil into place, and I then opened up my 15-mm port site and passed my EEA stapler.  I passed that in the end of my Roux limb and had the spike come out antimesenteric.  I joined the spike with the anvil and fired a stapler creating an end-to-side anastomosis, then divided across the redundant portion of my Roux limb with a white load GI stapler, and removed it with an Endocatch bag.  I put some additional 2-0 Vicryl sutures in the anastomosis for further security.  I then placed a bowel clamp across the bowel.  I went above and passed an EGD scope into the mouth down to the esophagus and into the gastric pouch.  I distended gastric pouch with air.  There was no air leak seen.  I could pass the scope easily through the anastomosis.  There was no bleeding seen through the scope.  We closed the 15-mm port site with interrupted 0 Vicryl suture utilizing Carter-Thomason.  I copiously irrigated out that incision with about 2 L of saline.  I then closed the skin of all incisions with running Monocryl.  Sponge, instrument, and needle counts were correct at the end of the case.  The patient tolerated the procedure well without any complications.'"
      ]
     },
     "execution_count": 3,
     "metadata": {},
     "output_type": "execute_result"
    }
   ],
   "execution_count": 3
  },
  {
   "metadata": {
    "ExecuteTime": {
     "end_time": "2025-04-22T20:24:03.398148Z",
     "start_time": "2025-04-22T20:24:03.392148Z"
    }
   },
   "cell_type": "code",
   "source": "df.iloc[0]",
   "id": "73bacad456bdba19",
   "outputs": [
    {
     "data": {
      "text/plain": [
       "Unnamed: 0                                                           0\n",
       "description           A 23-year-old white female presents with comp...\n",
       "medical_specialty                                 Allergy / Immunology\n",
       "sample_name                                         Allergic Rhinitis \n",
       "transcription        SUBJECTIVE:,  This 23-year-old white female pr...\n",
       "keywords             allergy / immunology, allergic rhinitis, aller...\n",
       "Name: 0, dtype: object"
      ]
     },
     "execution_count": 4,
     "metadata": {},
     "output_type": "execute_result"
    }
   ],
   "execution_count": 4
  },
  {
   "metadata": {
    "ExecuteTime": {
     "end_time": "2025-04-22T20:24:05.074489Z",
     "start_time": "2025-04-22T20:24:05.059232Z"
    }
   },
   "cell_type": "code",
   "source": [
    "import os\n",
    "from dotenv import load_dotenv\n",
    "\n",
    "\n",
    "load_dotenv()\n",
    "# os.environ['OPENAI_API_KEY'] = os.getenv('OPENAI_API_KEY')\n",
    "os.environ['GROQ_API_KEY'] = os.getenv('GROQ_API_KEY')\n",
    "# os.environ['GEMINI_API_KEY'] = os.getenv('GEMINI_API_KEY')"
   ],
   "id": "150d5088eb3a0aa5",
   "outputs": [],
   "execution_count": 5
  },
  {
   "metadata": {
    "ExecuteTime": {
     "end_time": "2025-04-22T20:24:11.360321Z",
     "start_time": "2025-04-22T20:24:07.378530Z"
    }
   },
   "cell_type": "code",
   "source": [
    "from crewai import Crew, Process, Agent, Task, LLM\n",
    "from langchain_openai import ChatOpenAI"
   ],
   "id": "ab22620934c69518",
   "outputs": [],
   "execution_count": 6
  },
  {
   "metadata": {
    "ExecuteTime": {
     "end_time": "2025-04-22T20:24:12.648379Z",
     "start_time": "2025-04-22T20:24:12.643371Z"
    }
   },
   "cell_type": "code",
   "source": [
    "# llm_OpenAI = ChatOpenAI()\n",
    "# llm_groq_llama = LLM(model=\"groq/llama-3.3-70b-versatile\", api_key=os.environ[\"GROQ_API_KEY\"])\n",
    "llm_groq_deepseek = LLM(model=\"groq/deepseek-r1-distill-llama-70b\", api_key=os.environ[\"GROQ_API_KEY\"])\n",
    "# llm_groq_compound= LLM(model=\"groq/compound-beta\", api_key=os.environ[\"GROQ_API_KEY\"])\n",
    "\n",
    "# llm_gemini = LLM(model='gemini/gemini-1.5-flash', api_key=os.environ[\"GEMINI_API_KEY\"])\n"
   ],
   "id": "445056408a5ebecc",
   "outputs": [],
   "execution_count": 7
  },
  {
   "metadata": {
    "ExecuteTime": {
     "end_time": "2025-04-22T20:32:00.340614Z",
     "start_time": "2025-04-22T20:32:00.332576Z"
    }
   },
   "cell_type": "code",
   "source": [
    "\n",
    "medico_generalista = Agent(\n",
    "    role='Médico generalista',\n",
    "    backstory='''Você é um médico capaz de analisar dados textuais de pacientes para classificar a possível especialidade e modalidade médica.''',\n",
    "    goal=\"Classificar especialidade e modalidade médica.\",\n",
    "    llm=llm_groq_deepseek\n",
    ")\n",
    "\n",
    "medico_laudador = Agent(\n",
    "    role='Médico laudador',\n",
    "    backstory='''Você é um médico laudador que tem a função de elaborar laudos médicos, avaliações clínicas e de informar a especialidade e modalidade médica.''',\n",
    "    goal=\"Classificar especialidade e modalidade médica.\",\n",
    "    llm=llm_groq_deepseek\n",
    ")\n",
    "\n",
    "medico_perito = Agent(\n",
    "    role='Médico perito',\n",
    "    backstory='''Um perito médico é um profissional da área da saúde que atua como especialista, fornecendo conhecimento técnico-científico para auxiliar na resolução de questões judiciais ou administrativas que envolvem saúde.''',\n",
    "    goal=\"Classificar especialidade e modalidade médica.\",\n",
    "    llm=llm_groq_deepseek\n",
    ")"
   ],
   "id": "cc36c6e620579192",
   "outputs": [],
   "execution_count": 12
  },
  {
   "metadata": {
    "ExecuteTime": {
     "end_time": "2025-04-22T20:32:04.258359Z",
     "start_time": "2025-04-22T20:32:04.251344Z"
    }
   },
   "cell_type": "code",
   "source": [
    "from textwrap import dedent\n",
    "\n",
    "def get_task(transcricao, agent):\n",
    "  return Task(description=dedent(f\"\"\"\\\n",
    "    Entender os dados textuais de entrada e classificar a transcrição médica. Primeiro classificar a <especialidade> e depois a <modalidade> conforme as listas a seguir.\n",
    "\n",
    "      <especialidade>\n",
    "      Abdome;\n",
    "      Cabeça e Pescoço;\n",
    "      Cardio;\n",
    "      Mama;\n",
    "      Radiologia Intervencionista;\n",
    "      Medicina Nuclear;\n",
    "      Musculoesquelético;\n",
    "      Neurologia;\n",
    "      Tórax;\n",
    "      Ultrassonografia;\n",
    "      </especialidade>.\n",
    "\n",
    "      <modalidade>\n",
    "      Clínica Médica;\n",
    "      Pediatria;\n",
    "      Cirurgia Geral;\n",
    "      Ginecologia e Obstetrícia;\n",
    "      Neurologia;\n",
    "      Psiquiatria;\n",
    "      Cardiologia;\n",
    "      Endocrinologia;\n",
    "      Dermatologia;\n",
    "      Oftalmologia;\n",
    "      Otorrinolaringologia;\n",
    "      Ortopedia e Traumatologia;\n",
    "      Pneumologia\n",
    "      Radiologia e Diagnóstico por Imagem;\n",
    "      Outros;\n",
    "      </modalidade>.\n",
    "\n",
    "\n",
    "      Aqui está a transcrição médica utilizada como dado textual de entrada para ser classificado:\n",
    "\n",
    "      <transcrição>\n",
    "      {transcricao}\n",
    "      </transcrição>\n",
    "\n",
    "      \"\"\"),\n",
    "    agent=agent,expected_output='Retorne a especialidade e depois a modalidade médica separados por vírgula, por exemplo: Mamografia, Mama'\n",
    "  )\n"
   ],
   "id": "6972fd8fd9a2d97b",
   "outputs": [],
   "execution_count": 15
  },
  {
   "metadata": {
    "jupyter": {
     "is_executing": true
    },
    "ExecuteTime": {
     "start_time": "2025-04-22T20:32:07.881707Z"
    }
   },
   "cell_type": "code",
   "source": [
    "df_output_list = []\n",
    "df['generalista_especialidade'] = None\n",
    "df['generalista_modalidade'] = None\n",
    "\n",
    "\n",
    "\n",
    "\n",
    "for index, row in df.iterrows():\n",
    "    try:\n",
    "\n",
    "\n",
    "        print('############################################## '+ str(index))\n",
    "        transcricao_clinica = f'''\n",
    "          Descrição clínica: {row['description']}.\n",
    "          Transcrição clínica: {row['transcription']}.\n",
    "          Palavras-chave: {row['keywords']}.\n",
    "          '''\n",
    "\n",
    "      # definindo a tarefa genérica para generalista\n",
    "        task_generalista = get_task(transcricao_clinica, medico_generalista)\n",
    "\n",
    "        crew_generalista = Crew(\n",
    "        agents=[medico_generalista],\n",
    "        tasks=[task_generalista],\n",
    "        verbose=False,\n",
    "        memory=True,\n",
    "        process=Process.sequential\n",
    "      )\n",
    "        result_generalista = crew_generalista.kickoff()\n",
    "\n",
    "\n",
    "\n",
    "        especialidade_modalidade = result_generalista.raw.split(\",\")\n",
    "        df.at[index,'generalista_especialidade'] = especialidade_modalidade[0]\n",
    "        df.at[index,'generalista_modalidade'] = especialidade_modalidade[1]\n",
    "\n",
    "\n",
    "    except Exception as e:\n",
    "        print(e)\n"
   ],
   "id": "6c8e931f5bece079",
   "outputs": [
    {
     "name": "stdout",
     "output_type": "stream",
     "text": [
      "############################################## 0\n",
      "############################################## 1\n",
      "############################################## 2\n",
      "############################################## 3\n",
      "############################################## 4\n",
      "############################################## 5\n",
      "############################################## 6\n",
      "############################################## 7\n",
      "############################################## 8\n",
      "############################################## 9\n",
      "############################################## 10\n",
      "############################################## 11\n",
      "############################################## 12\n",
      "############################################## 13\n",
      "############################################## 14\n",
      "############################################## 15\n",
      "############################################## 16\n",
      "############################################## 17\n",
      "############################################## 18\n",
      "############################################## 19\n",
      "############################################## 20\n",
      "############################################## 21\n",
      "############################################## 22\n",
      "############################################## 23\n",
      "############################################## 24\n",
      "############################################## 25\n",
      "############################################## 26\n",
      "############################################## 27\n",
      "############################################## 28\n",
      "############################################## 29\n",
      "############################################## 30\n",
      "############################################## 31\n",
      "############################################## 32\n",
      "############################################## 33\n",
      "############################################## 34\n",
      "############################################## 35\n",
      "############################################## 36\n",
      "############################################## 37\n",
      "############################################## 38\n",
      "############################################## 39\n",
      "############################################## 40\n",
      "############################################## 41\n",
      "############################################## 42\n",
      "############################################## 43\n",
      "############################################## 44\n",
      "############################################## 45\n",
      "############################################## 46\n",
      "############################################## 47\n",
      "############################################## 48\n",
      "############################################## 49\n",
      "############################################## 50\n",
      "############################################## 51\n",
      "############################################## 52\n",
      "############################################## 53\n",
      "############################################## 54\n",
      "############################################## 55\n",
      "############################################## 56\n",
      "############################################## 57\n",
      "############################################## 58\n",
      "############################################## 59\n",
      "############################################## 60\n",
      "############################################## 61\n",
      "############################################## 62\n",
      "############################################## 63\n",
      "############################################## 64\n",
      "############################################## 65\n",
      "############################################## 66\n",
      "############################################## 67\n",
      "############################################## 68\n",
      "############################################## 69\n",
      "############################################## 70\n",
      "############################################## 71\n",
      "############################################## 72\n",
      "############################################## 73\n",
      "############################################## 74\n",
      "############################################## 75\n",
      "############################################## 76\n",
      "############################################## 77\n",
      "############################################## 78\n",
      "############################################## 79\n",
      "############################################## 80\n",
      "############################################## 81\n",
      "############################################## 82\n",
      "############################################## 83\n",
      "############################################## 84\n",
      "############################################## 85\n",
      "############################################## 86\n",
      "############################################## 87\n",
      "############################################## 88\n",
      "############################################## 89\n",
      "############################################## 90\n",
      "############################################## 91\n",
      "############################################## 92\n",
      "############################################## 93\n",
      "############################################## 94\n",
      "############################################## 95\n",
      "############################################## 96\n",
      "############################################## 97\n",
      "############################################## 98\n",
      "############################################## 99\n",
      "############################################## 100\n",
      "############################################## 101\n",
      "############################################## 102\n",
      "############################################## 103\n",
      "############################################## 104\n",
      "############################################## 105\n",
      "############################################## 106\n",
      "############################################## 107\n",
      "############################################## 108\n",
      "############################################## 109\n",
      "############################################## 110\n"
     ]
    }
   ],
   "execution_count": null
  },
  {
   "metadata": {
    "ExecuteTime": {
     "end_time": "2025-04-22T18:58:27.261859Z",
     "start_time": "2025-04-22T18:58:26.622200Z"
    }
   },
   "cell_type": "code",
   "source": [
    "df.head(200)\n",
    "df.to_csv('saida2.csv')"
   ],
   "id": "d46f0ad9c8fc1c93",
   "outputs": [],
   "execution_count": 18
  }
 ],
 "metadata": {
  "kernelspec": {
   "display_name": "Python 3",
   "language": "python",
   "name": "python3"
  },
  "language_info": {
   "codemirror_mode": {
    "name": "ipython",
    "version": 2
   },
   "file_extension": ".py",
   "mimetype": "text/x-python",
   "name": "python",
   "nbconvert_exporter": "python",
   "pygments_lexer": "ipython2",
   "version": "2.7.6"
  }
 },
 "nbformat": 4,
 "nbformat_minor": 5
}
