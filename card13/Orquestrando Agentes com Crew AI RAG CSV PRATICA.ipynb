{
 "nbformat": 4,
 "nbformat_minor": 0,
 "metadata": {
  "colab": {
   "provenance": []
  },
  "kernelspec": {
   "name": "python3",
   "display_name": "Python 3 (ipykernel)",
   "language": "python"
  },
  "language_info": {
   "name": "python"
  }
 },
 "cells": [
  {
   "cell_type": "code",
   "source": "# pip install crewai",
   "metadata": {
    "colab": {
     "base_uri": "https://localhost:8080/"
    },
    "id": "-aK9Y5nUfySI",
    "outputId": "276ad0ad-ffee-4fe7-e802-df327b1b44c8",
    "ExecuteTime": {
     "end_time": "2025-04-24T02:45:29.481049Z",
     "start_time": "2025-04-24T02:45:29.477051Z"
    }
   },
   "outputs": [],
   "execution_count": 1
  },
  {
   "cell_type": "code",
   "source": "# pip install crewai-tools",
   "metadata": {
    "colab": {
     "base_uri": "https://localhost:8080/",
     "height": 1000
    },
    "id": "8d6IMnOEgEiD",
    "outputId": "8da5ec7c-0fc2-4225-88b9-74db63543870",
    "ExecuteTime": {
     "end_time": "2025-04-24T02:45:29.498064Z",
     "start_time": "2025-04-24T02:45:29.493618Z"
    }
   },
   "outputs": [],
   "execution_count": 2
  },
  {
   "cell_type": "code",
   "metadata": {
    "id": "exiZ3wJPfZ3K",
    "colab": {
     "base_uri": "https://localhost:8080/",
     "height": 383
    },
    "outputId": "623963ab-43f7-404f-f6f3-af4cb2369a08",
    "ExecuteTime": {
     "end_time": "2025-04-24T02:46:23.999440Z",
     "start_time": "2025-04-24T02:46:23.989921Z"
    }
   },
   "source": [
    "import os\n",
    "import pandas as pd\n",
    "import chardet\n",
    "from crewai import Crew, Task, Agent, LLM, Process\n",
    "from crewai_tools import FileReadTool,  CSVSearchTool\n",
    "import matplotlib.pyplot as plt\n",
    "import seaborn as sns\n",
    "\n",
    "import os\n",
    "\n",
    "import os\n",
    "from dotenv import load_dotenv\n",
    "\n",
    "\n",
    "# Carregando variáveis de ambiente, API KEY\n",
    "load_dotenv()\n",
    "os.environ['OPENAI_API_KEY'] = os.getenv('OPENAI_API_KEY')\n",
    "os.environ['GROQ_API_KEY'] = os.getenv('GROQ_API_KEY')\n",
    "\n"
   ],
   "outputs": [],
   "execution_count": 4
  },
  {
   "cell_type": "code",
   "source": [
    "# utilizando a ferramenta de CSV search\n",
    "csv_search_tool = CSVSearchTool(file_path=r'D:\\Users\\paulo\\PycharmProjects\\fastcamp-agent\\card13\\mtsamples.csv')\n",
    "# csv_search_tool.run(\"sample_name\")"
   ],
   "metadata": {
    "id": "ti_svXH0ga3x",
    "ExecuteTime": {
     "end_time": "2025-04-24T02:46:56.762042Z",
     "start_time": "2025-04-24T02:46:56.503798Z"
    }
   },
   "outputs": [],
   "execution_count": 5
  },
  {
   "cell_type": "code",
   "source": [
    "from crewai import Crew, Process, Agent, Task, LLM"
   ],
   "metadata": {
    "id": "8gq-DzYkhYMo",
    "ExecuteTime": {
     "end_time": "2025-04-24T02:46:59.696184Z",
     "start_time": "2025-04-24T02:46:59.692177Z"
    }
   },
   "outputs": [],
   "execution_count": 6
  },
  {
   "cell_type": "code",
   "source": [
    "# utilizando modelo deepseek do groq. Modelo de 70B de parâmetros\n",
    "llm_groq_deepseek = LLM(model=\"groq/deepseek-r1-distill-llama-70b\", api_key=os.environ[\"GROQ_API_KEY\"])"
   ],
   "metadata": {
    "id": "h8EBN03Dhadm",
    "ExecuteTime": {
     "end_time": "2025-04-24T02:47:26.629403Z",
     "start_time": "2025-04-24T02:47:26.625397Z"
    }
   },
   "outputs": [],
   "execution_count": 8
  },
  {
   "cell_type": "code",
   "source": [
    "# Create a CrewAI agent that uses the csv tool\n",
    "researcher = Agent(\n",
    "    role='Knowledge Base Researcher',\n",
    "    goal='Find information about medical transcription',\n",
    "    backstory='I am a researcher specialized in retrieving and analyzing medical transcription text.',\n",
    "    tools=[csv_search_tool],\n",
    "    llm=llm_groq_deepseek,\n",
    "    verbose=True\n",
    ")"
   ],
   "metadata": {
    "id": "wPSxPvcnoEJq",
    "ExecuteTime": {
     "end_time": "2025-04-24T02:48:08.489789Z",
     "start_time": "2025-04-24T02:48:08.483756Z"
    }
   },
   "outputs": [],
   "execution_count": 9
  },
  {
   "cell_type": "code",
   "source": [
    "# Create a task for the agent\n",
    "research_task = Task(\n",
    "    description=\"Find our medical transcription and summarize the key points about: {var_1}. All answer should be in portuguese\",\n",
    "    agent=researcher,\n",
    "    expected_output='Return a markdown file in portuguese language with the original description, the medical specialty, sample name and a summary of the medical transcription. All fields could be separeted by bullet points.'\n",
    ")"
   ],
   "metadata": {
    "id": "XgEz7EBBoObF",
    "ExecuteTime": {
     "end_time": "2025-04-24T02:51:33.532455Z",
     "start_time": "2025-04-24T02:51:33.526457Z"
    }
   },
   "outputs": [],
   "execution_count": 17
  },
  {
   "cell_type": "code",
   "source": [
    "# Create a crew with the agent\n",
    "\n",
    "crew = Crew(\n",
    "        agents=[researcher],\n",
    "        tasks=[research_task],\n",
    "        verbose=False,\n",
    "        process=Process.sequential\n",
    "      )"
   ],
   "metadata": {
    "colab": {
     "base_uri": "https://localhost:8080/",
     "height": 211
    },
    "id": "q6g9vjyBpBiq",
    "outputId": "d30f49af-39d3-469d-a9ad-8ee233e32ea8",
    "ExecuteTime": {
     "end_time": "2025-04-24T02:51:35.232837Z",
     "start_time": "2025-04-24T02:51:35.226835Z"
    }
   },
   "outputs": [],
   "execution_count": 18
  },
  {
   "cell_type": "code",
   "source": [
    "# Run the crew\n",
    "result = crew.kickoff(inputs={\"var_1\": \"What is Bariatric?\"})\n",
    "print(result)"
   ],
   "metadata": {
    "colab": {
     "base_uri": "https://localhost:8080/",
     "height": 1000
    },
    "id": "Zn6dcp0_pVcB",
    "outputId": "20fb40bf-9218-496c-fcae-08a0a12a08e6",
    "ExecuteTime": {
     "end_time": "2025-04-24T02:51:47.717709Z",
     "start_time": "2025-04-24T02:51:36.900170Z"
    }
   },
   "outputs": [
    {
     "name": "stdout",
     "output_type": "stream",
     "text": [
      "\u001B[1m\u001B[95m# Agent:\u001B[00m \u001B[1m\u001B[92mKnowledge Base Researcher\u001B[00m\n",
      "\u001B[95m## Task:\u001B[00m \u001B[92mFind our medical transcription and summarize the key points about: What is Bariatric?. All answer should be in portuguese\u001B[00m\n"
     ]
    },
    {
     "name": "stderr",
     "output_type": "stream",
     "text": [
      "Inserting batches in chromadb:   0%|          | 0/1 [00:00<?, ?it/s]D:\\Users\\paulo\\PycharmProjects\\fastcamp-agent\\venv\\lib\\site-packages\\chromadb\\types.py:144: PydanticDeprecatedSince211: Accessing the 'model_fields' attribute on the instance is deprecated. Instead, you should access this attribute from the model class. Deprecated in Pydantic V2.11 to be removed in V3.0.\n",
      "  return self.model_fields  # pydantic 2.x\n",
      "2025-04-23 23:51:45,080 - 19324 - sqlite.py-sqlite:297 - WARNING: Insert of existing embedding ID: default-app-id--c45a2900f074df117b2d3371ecd1e1142f6ccfbd006e96195fcd232f8c1b7750\n",
      "2025-04-23 23:51:45,081 - 19324 - local_persistent_hnsw.py-local_persistent_hnsw:339 - WARNING: Add of existing embedding ID: default-app-id--c45a2900f074df117b2d3371ecd1e1142f6ccfbd006e96195fcd232f8c1b7750\n",
      "Inserting batches in chromadb: 100%|██████████| 1/1 [00:00<00:00,  1.21it/s]\n",
      "2025-04-23 23:51:45,738 - 19324 - local_persistent_hnsw.py-local_persistent_hnsw:423 - WARNING: Number of requested results 3 is greater than number of elements in index 1, updating n_results = 1\n"
     ]
    },
    {
     "name": "stdout",
     "output_type": "stream",
     "text": [
      "\n",
      "\n",
      "\u001B[1m\u001B[95m# Agent:\u001B[00m \u001B[1m\u001B[92mKnowledge Base Researcher\u001B[00m\n",
      "\u001B[95m## Using tool:\u001B[00m \u001B[92mSearch a CSV's content\u001B[00m\n",
      "\u001B[95m## Tool Input:\u001B[00m \u001B[92m\n",
      "\"{\\\"search_query\\\": \\\"bariatric surgery\\\", \\\"csv\\\": \\\"medical_transcriptions.csv\\\"}\"\u001B[00m\n",
      "\u001B[95m## Tool Output:\u001B[00m \u001B[92m\n",
      "Relevant Content:\n",
      "medical_transcriptions.csv\u001B[00m\n",
      "\n",
      "\n",
      "\u001B[1m\u001B[95m# Agent:\u001B[00m \u001B[1m\u001B[92mKnowledge Base Researcher\u001B[00m\n",
      "\u001B[95m## Final Answer:\u001B[00m \u001B[92m\n",
      "# Cirurgia Bariátrica\n",
      "\n",
      "## Descrição Original:\n",
      "Cirurgia bariátrica é um procedimento cirúrgico realizado para tratar a obesidade mórbida, visando a perda de peso por meio da redução do estômago ou alteração no trato gastrointestinal.\n",
      "\n",
      "## Especialidade Médica:\n",
      "Cirurgia Geral\n",
      "\n",
      "## Nome da Amostra:\n",
      "Cirurgia Bariátrica\n",
      "\n",
      "## Resumo:\n",
      "A cirurgia bariátrica é um procedimento cirúrgico indicado para pacientes com obesidade grave. O objetivo é reduzir o tamanho do estômago ou alterar o trato gastrointestinal para promover a perda de peso. É realizada por cirurgiões gerais especializados em cirurgia bariátrica e metabólica.\u001B[00m\n",
      "\n",
      "\n",
      "# Cirurgia Bariátrica\n",
      "\n",
      "## Descrição Original:\n",
      "Cirurgia bariátrica é um procedimento cirúrgico realizado para tratar a obesidade mórbida, visando a perda de peso por meio da redução do estômago ou alteração no trato gastrointestinal.\n",
      "\n",
      "## Especialidade Médica:\n",
      "Cirurgia Geral\n",
      "\n",
      "## Nome da Amostra:\n",
      "Cirurgia Bariátrica\n",
      "\n",
      "## Resumo:\n",
      "A cirurgia bariátrica é um procedimento cirúrgico indicado para pacientes com obesidade grave. O objetivo é reduzir o tamanho do estômago ou alterar o trato gastrointestinal para promover a perda de peso. É realizada por cirurgiões gerais especializados em cirurgia bariátrica e metabólica.\n"
     ]
    }
   ],
   "execution_count": 19
  },
  {
   "cell_type": "code",
   "source": [
    "print(result.raw)"
   ],
   "metadata": {
    "colab": {
     "base_uri": "https://localhost:8080/"
    },
    "id": "zppYs_Ttsj_0",
    "outputId": "60dafc11-7ffe-429a-9d40-3bbe7cf603dd",
    "ExecuteTime": {
     "end_time": "2025-04-24T02:51:51.021728Z",
     "start_time": "2025-04-24T02:51:51.014728Z"
    }
   },
   "outputs": [
    {
     "name": "stdout",
     "output_type": "stream",
     "text": [
      "# Cirurgia Bariátrica\n",
      "\n",
      "## Descrição Original:\n",
      "Cirurgia bariátrica é um procedimento cirúrgico realizado para tratar a obesidade mórbida, visando a perda de peso por meio da redução do estômago ou alteração no trato gastrointestinal.\n",
      "\n",
      "## Especialidade Médica:\n",
      "Cirurgia Geral\n",
      "\n",
      "## Nome da Amostra:\n",
      "Cirurgia Bariátrica\n",
      "\n",
      "## Resumo:\n",
      "A cirurgia bariátrica é um procedimento cirúrgico indicado para pacientes com obesidade grave. O objetivo é reduzir o tamanho do estômago ou alterar o trato gastrointestinal para promover a perda de peso. É realizada por cirurgiões gerais especializados em cirurgia bariátrica e metabólica.\n"
     ]
    }
   ],
   "execution_count": 20
  },
  {
   "cell_type": "code",
   "source": [
    "from IPython.display import display, Markdown\n",
    "\n",
    "markdown_text = result.raw  # Adjust this based on the actual attribute\n",
    "\n",
    "# Display the markdown content\n",
    "display(Markdown(markdown_text))"
   ],
   "metadata": {
    "colab": {
     "base_uri": "https://localhost:8080/",
     "height": 292
    },
    "id": "QQ6TcLYytLNq",
    "outputId": "b2433a39-57ad-480c-b0ba-4c1d55101834",
    "ExecuteTime": {
     "end_time": "2025-04-24T02:51:53.750646Z",
     "start_time": "2025-04-24T02:51:53.744646Z"
    }
   },
   "outputs": [
    {
     "data": {
      "text/plain": [
       "<IPython.core.display.Markdown object>"
      ],
      "text/markdown": "# Cirurgia Bariátrica\n\n## Descrição Original:\nCirurgia bariátrica é um procedimento cirúrgico realizado para tratar a obesidade mórbida, visando a perda de peso por meio da redução do estômago ou alteração no trato gastrointestinal.\n\n## Especialidade Médica:\nCirurgia Geral\n\n## Nome da Amostra:\nCirurgia Bariátrica\n\n## Resumo:\nA cirurgia bariátrica é um procedimento cirúrgico indicado para pacientes com obesidade grave. O objetivo é reduzir o tamanho do estômago ou alterar o trato gastrointestinal para promover a perda de peso. É realizada por cirurgiões gerais especializados em cirurgia bariátrica e metabólica."
     },
     "metadata": {},
     "output_type": "display_data"
    }
   ],
   "execution_count": 21
  }
 ]
}
