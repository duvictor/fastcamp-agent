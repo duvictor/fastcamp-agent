{
 "nbformat": 4,
 "nbformat_minor": 0,
 "metadata": {
  "colab": {
   "private_outputs": true,
   "provenance": [],
   "include_colab_link": true
  },
  "kernelspec": {
   "name": "python3",
   "display_name": "Python 3 (ipykernel)",
   "language": "python"
  },
  "language_info": {
   "name": "python"
  }
 },
 "cells": [
  {
   "cell_type": "markdown",
   "metadata": {
    "id": "view-in-github",
    "colab_type": "text"
   },
   "source": [
    "<a href=\"https://colab.research.google.com/github/alexfazio/crewAI-quickstart/blob/main/crewai_sequential_CSVSearchTool_quickstart.ipynb\" target=\"_parent\"><img src=\"https://colab.research.google.com/assets/colab-badge.svg\" alt=\"Open In Colab\"/></a>"
   ]
  },
  {
   "cell_type": "markdown",
   "source": [
    "# crewai-sequential-CSVSearchTool-quickstart\n",
    "By [Alex Fazio](https://www.x.com/alxfazio)\n",
    "\n",
    "📂 Github repo: https://github.com/alexfazio/crewai-quickstart\n",
    "\n",
    "Simplified and tested template of a **sequential** CrewAI crew performing **web searches**.\n",
    "\n",
    "Extra Requirements:\n",
    "- [OpenAI](https://platform.openai.com/playground)/[Groq](https://console.groq.com/settings/organization)/[Anthropic](https://console.anthropic.com/dashboard) API Key\n",
    "\n",
    "📚 CrewAI docs: https://docs.crewai.com/\n",
    "\n",
    "📚 CSVSearchTool docs: https://docs.crewai.com/tools/CSVSearchTool/"
   ],
   "metadata": {
    "id": "ANCxcFs-qVl4"
   }
  },
  {
   "metadata": {
    "cellView": "form",
    "id": "PkwONSCBwAdO",
    "ExecuteTime": {
     "end_time": "2025-04-23T12:51:28.512724Z",
     "start_time": "2025-04-23T12:51:28.506726Z"
    }
   },
   "cell_type": "code",
   "source": [
    "# @title 👨‍🦯 Run this cell to hide all warnings (optional)\n",
    "# Warning control\n",
    "import warnings\n",
    "warnings.filterwarnings('ignore')\n",
    "\n",
    "# To avoid the restart session warning in Colab, exclude the PIL and\n",
    "# pydevd_plugins packages from being imported. This is fine because\n",
    "# we didn't execute the code in the kernel session afterward.\n",
    "\n",
    "# import sys\n",
    "# sys.modules.pop('PIL', None)"
   ],
   "outputs": [],
   "execution_count": 1
  },
  {
   "cell_type": "code",
   "source": [
    "# @title ⬇️ Install project dependencies by running this cell\n",
    "# @markdown  🔄 Restart the session and rerun the cell **if Colab requires it**.\n",
    "\n",
    "%pip install git+https://github.com/joaomdmoura/crewAI.git --quiet\n",
    "%pip install crewai_tools langchain_openai langchain_groq langchain_anthropic langchain_community cohere --quiet\n",
    "print(\"---\")\n",
    "%pip show crewAI crewai_tools langchain_openai langchain_groq langchain_anthropic langchain_community cohere"
   ],
   "metadata": {
    "id": "P8iHNKCfk9Rv",
    "cellView": "form"
   },
   "execution_count": null,
   "outputs": []
  },
  {
   "cell_type": "code",
   "metadata": {
    "id": "BhAt-unGk4kA",
    "cellView": "form",
    "ExecuteTime": {
     "end_time": "2025-04-23T21:07:47.399103Z",
     "start_time": "2025-04-23T21:07:47.390568Z"
    }
   },
   "source": [
    "# @title 🔑 Input API Key by running this cell\n",
    "\n",
    "import os\n",
    "from getpass import getpass\n",
    "from crewai import Agent, Task, Crew, Process\n",
    "from textwrap import dedent\n",
    "from langchain_openai import ChatOpenAI\n",
    "# ↑ uncomment to use OpenAI's API\n",
    "# from langchain_groq import ChatGroq\n",
    "# ↑ uncomment to use Groq's API\n",
    "# from langchain_anthropic import ChatAnthropic\n",
    "# ↑ uncomment to use Antrhopic's API\n",
    "# from langchain_community.chat_models import ChatCohere\n",
    "# ↑ uncomment to use ChatCohere API\n",
    "\n",
    "\n",
    "import os\n",
    "from dotenv import load_dotenv\n",
    "\n",
    "\n",
    "load_dotenv()\n",
    "\n",
    "# os.environ[\"OPENAI_API_KEY\"] = getpass(\"Enter OPENAI_API_KEY: \")\n",
    "os.environ[\"OPENAI_API_KEY\"] = os.getenv('OPENAI_API_KEY')\n",
    "# ↑ uncomment to use OpenAI's API\n",
    "# os.environ[\"GROQ_API_KEY\"] = getpass(\"Enter GROQ_API_KEY: \")\n",
    "# ↑ uncomment to use Groq's API\n",
    "# os.environ[\"ANTHROPIC_API_KEY\"] = getpass(\"Enter ANTHROPIC_API_KEY: \")\n",
    "# ↑ uncomment to use Anthropic's API\n",
    "# os.environ[\"COHERE_API_KEY\"] = getpass(\"Enter COHERE_API_KEY: \")\n",
    "# ↑ uncomment to use Cohere's API\n",
    "\n",
    "# Check if the 'output-files' directory exists, and create it if it doesn't\n",
    "if not os.path.exists('output-files'):\n",
    "    os.makedirs('output-files')"
   ],
   "outputs": [],
   "execution_count": 16
  },
  {
   "cell_type": "code",
   "source": [
    "# @title ⬇️ Download Sample .csv Dataset\n",
    "\n",
    "import os\n",
    "import requests\n",
    "\n",
    "# Specify the folder path where you want to save the file\n",
    "folder_path = 'dataset'\n",
    "\n",
    "# Create the folder if it doesn't exist\n",
    "if not os.path.exists(folder_path):\n",
    "    os.makedirs(folder_path)\n",
    "\n",
    "# Sample .csv data from IMDB.com\n",
    "url = 'https://phidata-public.s3.amazonaws.com/demo_data/IMDB-Movie-Data.csv'\n",
    "response = requests.get(url)\n",
    "\n",
    "# Specify the file path including the folder\n",
    "csv_file_path = os.path.join(folder_path, 'IMDB-Movie-Data.csv')\n",
    "\n",
    "with open(csv_file_path, 'wb') as file:\n",
    "    file.write(response.content)\n",
    "\n",
    "print(f\"CSV file downloaded and saved to: {csv_file_path}\")"
   ],
   "metadata": {
    "id": "dvJMDhIoI2Iw",
    "cellView": "form",
    "ExecuteTime": {
     "end_time": "2025-04-23T21:07:52.179004Z",
     "start_time": "2025-04-23T21:07:51.108443Z"
    }
   },
   "outputs": [
    {
     "name": "stdout",
     "output_type": "stream",
     "text": [
      "CSV file downloaded and saved to: dataset\\IMDB-Movie-Data.csv\n"
     ]
    }
   ],
   "execution_count": 17
  },
  {
   "cell_type": "code",
   "source": [
    "# @title 🧾 Instantiate `CSVSearchTool` with a `.csv` File\n",
    "\n",
    "# @markdown By default, the tool uses OpenAI for both embeddings and summarization.\n",
    "\n",
    "# @markdown To customize the model, you can use a config dictionary. See how [here](https://docs.crewai.com/tools/CSVSearchTool/#installation).\n",
    "\n",
    "from crewai import Agent, Task, Crew, Process\n",
    "from langchain_community.chat_models import ChatOpenAI\n",
    "from crewai_tools import CSVSearchTool\n",
    "\n",
    "# Instantiate tools\n",
    "\n",
    "# This tool is used to perform a RAG (Retrieval-Augmented Generation) search within a CSV file's content.\n",
    "\n",
    "# Initialize the tool with a specific CSV file. This setup allows the agent to only search the given CSV file.\n",
    "\n",
    "csv_search_tool = CSVSearchTool(csv_file_path)\n",
    "\n",
    "# OR\n",
    "\n",
    "# Initialize the tool without a specific CSV file. Agent  will need to provide the CSV path at runtime.\n",
    "\n",
    "# tool = CSVSearchTool()"
   ],
   "metadata": {
    "id": "IENZ1rmviDZY",
    "cellView": "form",
    "ExecuteTime": {
     "end_time": "2025-04-23T21:08:03.680751Z",
     "start_time": "2025-04-23T21:08:03.641399Z"
    }
   },
   "outputs": [
    {
     "ename": "ValidationError",
     "evalue": "1 validation error for CSVSearchTool\n  Value error, Please provide an OpenAI API key. You can get one at https://platform.openai.com/account/api-keys [type=value_error, input_value={}, input_type=dict]\n    For further information visit https://errors.pydantic.dev/2.11/v/value_error",
     "output_type": "error",
     "traceback": [
      "\u001B[1;31m---------------------------------------------------------------------------\u001B[0m",
      "\u001B[1;31mValidationError\u001B[0m                           Traceback (most recent call last)",
      "Cell \u001B[1;32mIn[19], line 17\u001B[0m\n\u001B[0;32m      9\u001B[0m \u001B[38;5;28;01mfrom\u001B[39;00m\u001B[38;5;250m \u001B[39m\u001B[38;5;21;01mcrewai_tools\u001B[39;00m\u001B[38;5;250m \u001B[39m\u001B[38;5;28;01mimport\u001B[39;00m CSVSearchTool\n\u001B[0;32m     11\u001B[0m \u001B[38;5;66;03m# Instantiate tools\u001B[39;00m\n\u001B[0;32m     12\u001B[0m \n\u001B[0;32m     13\u001B[0m \u001B[38;5;66;03m# This tool is used to perform a RAG (Retrieval-Augmented Generation) search within a CSV file's content.\u001B[39;00m\n\u001B[0;32m     14\u001B[0m \n\u001B[0;32m     15\u001B[0m \u001B[38;5;66;03m# Initialize the tool with a specific CSV file. This setup allows the agent to only search the given CSV file.\u001B[39;00m\n\u001B[1;32m---> 17\u001B[0m csv_search_tool \u001B[38;5;241m=\u001B[39m \u001B[43mCSVSearchTool\u001B[49m\u001B[43m(\u001B[49m\u001B[43mcsv_file_path\u001B[49m\u001B[43m)\u001B[49m\n\u001B[0;32m     19\u001B[0m \u001B[38;5;66;03m# OR\u001B[39;00m\n\u001B[0;32m     20\u001B[0m \n\u001B[0;32m     21\u001B[0m \u001B[38;5;66;03m# Initialize the tool without a specific CSV file. Agent  will need to provide the CSV path at runtime.\u001B[39;00m\n\u001B[0;32m     22\u001B[0m \n\u001B[0;32m     23\u001B[0m \u001B[38;5;66;03m# tool = CSVSearchTool()\u001B[39;00m\n",
      "File \u001B[1;32mD:\\Users\\paulo\\PycharmProjects\\fastcamp-agent\\venv\\lib\\site-packages\\crewai_tools\\tools\\csv_search_tool\\csv_search_tool.py:32\u001B[0m, in \u001B[0;36mCSVSearchTool.__init__\u001B[1;34m(self, csv, **kwargs)\u001B[0m\n\u001B[0;32m     31\u001B[0m \u001B[38;5;28;01mdef\u001B[39;00m\u001B[38;5;250m \u001B[39m\u001B[38;5;21m__init__\u001B[39m(\u001B[38;5;28mself\u001B[39m, csv: Optional[\u001B[38;5;28mstr\u001B[39m] \u001B[38;5;241m=\u001B[39m \u001B[38;5;28;01mNone\u001B[39;00m, \u001B[38;5;241m*\u001B[39m\u001B[38;5;241m*\u001B[39mkwargs):\n\u001B[1;32m---> 32\u001B[0m     \u001B[38;5;28msuper\u001B[39m()\u001B[38;5;241m.\u001B[39m\u001B[38;5;21m__init__\u001B[39m(\u001B[38;5;241m*\u001B[39m\u001B[38;5;241m*\u001B[39mkwargs)\n\u001B[0;32m     33\u001B[0m     \u001B[38;5;28;01mif\u001B[39;00m csv \u001B[38;5;129;01mis\u001B[39;00m \u001B[38;5;129;01mnot\u001B[39;00m \u001B[38;5;28;01mNone\u001B[39;00m:\n\u001B[0;32m     34\u001B[0m         kwargs[\u001B[38;5;124m\"\u001B[39m\u001B[38;5;124mdata_type\u001B[39m\u001B[38;5;124m\"\u001B[39m] \u001B[38;5;241m=\u001B[39m DataType\u001B[38;5;241m.\u001B[39mCSV\n",
      "File \u001B[1;32mD:\\Users\\paulo\\PycharmProjects\\fastcamp-agent\\venv\\lib\\site-packages\\pydantic\\main.py:253\u001B[0m, in \u001B[0;36mBaseModel.__init__\u001B[1;34m(self, **data)\u001B[0m\n\u001B[0;32m    251\u001B[0m \u001B[38;5;66;03m# `__tracebackhide__` tells pytest and some other tools to omit this function from tracebacks\u001B[39;00m\n\u001B[0;32m    252\u001B[0m __tracebackhide__ \u001B[38;5;241m=\u001B[39m \u001B[38;5;28;01mTrue\u001B[39;00m\n\u001B[1;32m--> 253\u001B[0m validated_self \u001B[38;5;241m=\u001B[39m \u001B[38;5;28;43mself\u001B[39;49m\u001B[38;5;241;43m.\u001B[39;49m\u001B[43m__pydantic_validator__\u001B[49m\u001B[38;5;241;43m.\u001B[39;49m\u001B[43mvalidate_python\u001B[49m\u001B[43m(\u001B[49m\u001B[43mdata\u001B[49m\u001B[43m,\u001B[49m\u001B[43m \u001B[49m\u001B[43mself_instance\u001B[49m\u001B[38;5;241;43m=\u001B[39;49m\u001B[38;5;28;43mself\u001B[39;49m\u001B[43m)\u001B[49m\n\u001B[0;32m    254\u001B[0m \u001B[38;5;28;01mif\u001B[39;00m \u001B[38;5;28mself\u001B[39m \u001B[38;5;129;01mis\u001B[39;00m \u001B[38;5;129;01mnot\u001B[39;00m validated_self:\n\u001B[0;32m    255\u001B[0m     warnings\u001B[38;5;241m.\u001B[39mwarn(\n\u001B[0;32m    256\u001B[0m         \u001B[38;5;124m'\u001B[39m\u001B[38;5;124mA custom validator is returning a value other than `self`.\u001B[39m\u001B[38;5;130;01m\\n\u001B[39;00m\u001B[38;5;124m'\u001B[39m\n\u001B[0;32m    257\u001B[0m         \u001B[38;5;124m\"\u001B[39m\u001B[38;5;124mReturning anything other than `self` from a top level model validator isn\u001B[39m\u001B[38;5;124m'\u001B[39m\u001B[38;5;124mt supported when validating via `__init__`.\u001B[39m\u001B[38;5;130;01m\\n\u001B[39;00m\u001B[38;5;124m\"\u001B[39m\n\u001B[0;32m    258\u001B[0m         \u001B[38;5;124m'\u001B[39m\u001B[38;5;124mSee the `model_validator` docs (https://docs.pydantic.dev/latest/concepts/validators/#model-validators) for more details.\u001B[39m\u001B[38;5;124m'\u001B[39m,\n\u001B[0;32m    259\u001B[0m         stacklevel\u001B[38;5;241m=\u001B[39m\u001B[38;5;241m2\u001B[39m,\n\u001B[0;32m    260\u001B[0m     )\n",
      "\u001B[1;31mValidationError\u001B[0m: 1 validation error for CSVSearchTool\n  Value error, Please provide an OpenAI API key. You can get one at https://platform.openai.com/account/api-keys [type=value_error, input_value={}, input_type=dict]\n    For further information visit https://errors.pydantic.dev/2.11/v/value_error"
     ]
    }
   ],
   "execution_count": 19
  },
  {
   "metadata": {},
   "cell_type": "markdown",
   "source": [
    "## Define Agents\n",
    "In CrewAI, agents are autonomous entities designed to perform specific roles and achieve particular goals. Each agent uses a language model (LLM) and may have specialized tools to help execute tasks."
   ]
  },
  {
   "cell_type": "code",
   "source": [
    "# @title 🕵🏻 Define your agents\n",
    "\n",
    "# from langchain_groq import ChatGroq\n",
    "# ↑ Uncomment to use Groq's API\n",
    "# from langchain_anthropic import ChatAnthropic\n",
    "# ↑ Uncomment to use Anthropic's API\n",
    "\n",
    "agent_1 = Agent(\n",
    "    role=dedent((\n",
    "        \"\"\"\n",
    "        Defines the agent's function within the crew. It determines the kind of tasks the agent is best suited for.\n",
    "        \"\"\")), # Think of this as the job title\n",
    "    backstory=dedent((\n",
    "        \"\"\"\n",
    "        Provides context to the agent's role and goal, enriching the interaction and collaboration dynamics.\n",
    "        \"\"\")), # This is the backstory of the agent, this helps the agent to understand the context of the task\n",
    "    goal=dedent((\n",
    "        \"\"\"\n",
    "        The individual objective that the agent aims to achieve. It guides the agent's decision-making process.\n",
    "        \"\"\")), # This is the goal that the agent is trying to achieve\n",
    "    tools=[csv_search_tool],\n",
    "    allow_delegation=False,\n",
    "    verbose=True,\n",
    "    # ↑ Whether the agent execution should be in verbose mode\n",
    "    max_iter=3,\n",
    "    # ↑ maximum number of iterations the agent can perform before being forced to give its best answer (generate the output)\n",
    "    max_rpm=100, # This is the maximum number of requests per minute that the agent can make to the language model\n",
    "    llm=ChatOpenAI(model_name=\"gpt-4o\", temperature=0.8)\n",
    "    # ↑ uncomment to use OpenAI API + \"gpt-4o\"\n",
    "    # llm=ChatGroq(temperature=0.8, model_name=\"mixtral-8x7b-32768\"),\n",
    "    # ↑ uncomment to use Groq's API + \"llama3-70b-8192\"\n",
    "    # llm=ChatGroq(temperature=0.6, model_name=\"llama3-70b-8192\"),\n",
    "    # ↑ uncomment to use Groq's API + \"mixtral-8x7b-32768\"\n",
    "    # llm = ChatAnthropic(model='claude-3-opus-20240229', temperature=0.8),\n",
    "    # ↑ uncomment to use Anthropic's API + \"claude-3-opus-20240229\"\n",
    ")\n",
    "\n",
    "agent_2 = Agent(\n",
    "    role=dedent((\n",
    "        \"\"\"\n",
    "        Defines the agent's function within the crew. It determines the kind of tasks the agent is best suited for.\n",
    "        \"\"\")), # Think of this as the job title\n",
    "    backstory=dedent((\n",
    "        \"\"\"\n",
    "        Provides context to the agent's role and goal, enriching the interaction and collaboration dynamics.\n",
    "        \"\"\")), # This is the backstory of the agent, this helps the agent to understand the context of the task\n",
    "    goal=dedent((\n",
    "        \"\"\"\n",
    "        The individual objective that the agent aims to achieve. It guides the agent's decision-making process.\n",
    "        \"\"\")), # This is the goal that the agent is trying to achieve\n",
    "    tools=[csv_search_tool],\n",
    "    allow_delegation=False,\n",
    "    verbose=True,\n",
    "    # ↑ Whether the agent execution should be in verbose mode\n",
    "    max_iter=3,\n",
    "    # ↑ maximum number of iterations the agent can perform before being forced to give its best answer (generate the output)\n",
    "    max_rpm=100, # This is the maximum number of requests per minute that the agent can make to the language model\n",
    "    llm=ChatOpenAI(model_name=\"gpt-4o\", temperature=0.8)\n",
    "    # ↑ uncomment to use OpenAI API + \"gpt-4o\"\n",
    "    # llm=ChatGroq(temperature=0.8, model_name=\"mixtral-8x7b-32768\"),\n",
    "    # ↑ uncomment to use Groq's API + \"llama3-70b-8192\"\n",
    "    # llm=ChatGroq(temperature=0.6, model_name=\"llama3-70b-8192\"),\n",
    "    # ↑ uncomment to use Groq's API + \"mixtral-8x7b-32768\"\n",
    "    # llm = ChatAnthropic(model='claude-3-opus-20240229', temperature=0.8),\n",
    "    # ↑ uncomment to use Anthropic's API + \"claude-3-opus-20240229\"\n",
    ")\n",
    "\n",
    "agent_3 = Agent(\n",
    "    role=dedent((\n",
    "        \"\"\"\n",
    "        Defines the agent's function within the crew. It determines the kind of tasks the agent is best suited for.\n",
    "        \"\"\")), # Think of this as the job title\n",
    "    backstory=dedent((\n",
    "        \"\"\"\n",
    "        Provides context to the agent's role and goal, enriching the interaction and collaboration dynamics.\n",
    "        \"\"\")), # This is the backstory of the agent, this helps the agent to understand the context of the task\n",
    "    goal=dedent((\n",
    "        \"\"\"\n",
    "        The individual objective that the agent aims to achieve. It guides the agent's decision-making process.\n",
    "        \"\"\")), # This is the goal that the agent is trying to achieve\n",
    "    tools=[csv_search_tool],\n",
    "    allow_delegation=False,\n",
    "    verbose=True,\n",
    "    # ↑ Whether the agent execution should be in verbose mode\n",
    "    max_iter=3,\n",
    "    # ↑ maximum number of iterations the agent can perform before being forced to give its best answer (generate the output)\n",
    "    max_rpm=100, # This is the maximum number of requests per minute that the agent can make to the language model\n",
    "    llm=ChatOpenAI(model_name=\"gpt-4o\", temperature=0.8)\n",
    "    # ↑ uncomment to use OpenAI API + \"gpt-4o\"\n",
    "    # llm=ChatGroq(temperature=0.8, model_name=\"mixtral-8x7b-32768\"),\n",
    "    # ↑ uncomment to use Groq's API + \"llama3-70b-8192\"\n",
    "    # llm=ChatGroq(temperature=0.6, model_name=\"llama3-70b-8192\"),\n",
    "    # ↑ uncomment to use Groq's API + \"mixtral-8x7b-32768\"\n",
    "    # llm = ChatAnthropic(model='claude-3-opus-20240229', temperature=0.8),\n",
    "    # ↑ uncomment to use Anthropic's API + \"claude-3-opus-20240229\"\n",
    ")"
   ],
   "metadata": {
    "id": "hZJwUoXasrhx",
    "cellView": "form",
    "ExecuteTime": {
     "end_time": "2025-04-23T12:53:06.179679Z",
     "start_time": "2025-04-23T12:53:06.140675Z"
    }
   },
   "outputs": [
    {
     "ename": "NameError",
     "evalue": "name 'csv_search_tool' is not defined",
     "output_type": "error",
     "traceback": [
      "\u001B[1;31m---------------------------------------------------------------------------\u001B[0m",
      "\u001B[1;31mNameError\u001B[0m                                 Traceback (most recent call last)",
      "Cell \u001B[1;32mIn[8], line 21\u001B[0m\n\u001B[0;32m      1\u001B[0m \u001B[38;5;66;03m# @title 🕵🏻 Define your agents\u001B[39;00m\n\u001B[0;32m      2\u001B[0m \n\u001B[0;32m      3\u001B[0m \u001B[38;5;66;03m# from langchain_groq import ChatGroq\u001B[39;00m\n\u001B[0;32m      4\u001B[0m \u001B[38;5;66;03m# ↑ Uncomment to use Groq's API\u001B[39;00m\n\u001B[0;32m      5\u001B[0m \u001B[38;5;66;03m# from langchain_anthropic import ChatAnthropic\u001B[39;00m\n\u001B[0;32m      6\u001B[0m \u001B[38;5;66;03m# ↑ Uncomment to use Anthropic's API\u001B[39;00m\n\u001B[0;32m      8\u001B[0m agent_1 \u001B[38;5;241m=\u001B[39m Agent(\n\u001B[0;32m      9\u001B[0m     role\u001B[38;5;241m=\u001B[39mdedent((\n\u001B[0;32m     10\u001B[0m \u001B[38;5;250m        \u001B[39m\u001B[38;5;124;03m\"\"\"\u001B[39;00m\n\u001B[0;32m     11\u001B[0m \u001B[38;5;124;03m        Defines the agent's function within the crew. It determines the kind of tasks the agent is best suited for.\u001B[39;00m\n\u001B[0;32m     12\u001B[0m \u001B[38;5;124;03m        \"\"\"\u001B[39;00m)), \u001B[38;5;66;03m# Think of this as the job title\u001B[39;00m\n\u001B[0;32m     13\u001B[0m     backstory\u001B[38;5;241m=\u001B[39mdedent((\n\u001B[0;32m     14\u001B[0m \u001B[38;5;250m        \u001B[39m\u001B[38;5;124;03m\"\"\"\u001B[39;00m\n\u001B[0;32m     15\u001B[0m \u001B[38;5;124;03m        Provides context to the agent's role and goal, enriching the interaction and collaboration dynamics.\u001B[39;00m\n\u001B[0;32m     16\u001B[0m \u001B[38;5;124;03m        \"\"\"\u001B[39;00m)), \u001B[38;5;66;03m# This is the backstory of the agent, this helps the agent to understand the context of the task\u001B[39;00m\n\u001B[0;32m     17\u001B[0m     goal\u001B[38;5;241m=\u001B[39mdedent((\n\u001B[0;32m     18\u001B[0m \u001B[38;5;250m        \u001B[39m\u001B[38;5;124;03m\"\"\"\u001B[39;00m\n\u001B[0;32m     19\u001B[0m \u001B[38;5;124;03m        The individual objective that the agent aims to achieve. It guides the agent's decision-making process.\u001B[39;00m\n\u001B[0;32m     20\u001B[0m \u001B[38;5;124;03m        \"\"\"\u001B[39;00m)), \u001B[38;5;66;03m# This is the goal that the agent is trying to achieve\u001B[39;00m\n\u001B[1;32m---> 21\u001B[0m     tools\u001B[38;5;241m=\u001B[39m[\u001B[43mcsv_search_tool\u001B[49m],\n\u001B[0;32m     22\u001B[0m     allow_delegation\u001B[38;5;241m=\u001B[39m\u001B[38;5;28;01mFalse\u001B[39;00m,\n\u001B[0;32m     23\u001B[0m     verbose\u001B[38;5;241m=\u001B[39m\u001B[38;5;28;01mTrue\u001B[39;00m,\n\u001B[0;32m     24\u001B[0m     \u001B[38;5;66;03m# ↑ Whether the agent execution should be in verbose mode\u001B[39;00m\n\u001B[0;32m     25\u001B[0m     max_iter\u001B[38;5;241m=\u001B[39m\u001B[38;5;241m3\u001B[39m,\n\u001B[0;32m     26\u001B[0m     \u001B[38;5;66;03m# ↑ maximum number of iterations the agent can perform before being forced to give its best answer (generate the output)\u001B[39;00m\n\u001B[0;32m     27\u001B[0m     max_rpm\u001B[38;5;241m=\u001B[39m\u001B[38;5;241m100\u001B[39m, \u001B[38;5;66;03m# This is the maximum number of requests per minute that the agent can make to the language model\u001B[39;00m\n\u001B[0;32m     28\u001B[0m     llm\u001B[38;5;241m=\u001B[39mChatOpenAI(model_name\u001B[38;5;241m=\u001B[39m\u001B[38;5;124m\"\u001B[39m\u001B[38;5;124mgpt-4o\u001B[39m\u001B[38;5;124m\"\u001B[39m, temperature\u001B[38;5;241m=\u001B[39m\u001B[38;5;241m0.8\u001B[39m)\n\u001B[0;32m     29\u001B[0m     \u001B[38;5;66;03m# ↑ uncomment to use OpenAI API + \"gpt-4o\"\u001B[39;00m\n\u001B[0;32m     30\u001B[0m     \u001B[38;5;66;03m# llm=ChatGroq(temperature=0.8, model_name=\"mixtral-8x7b-32768\"),\u001B[39;00m\n\u001B[0;32m     31\u001B[0m     \u001B[38;5;66;03m# ↑ uncomment to use Groq's API + \"llama3-70b-8192\"\u001B[39;00m\n\u001B[0;32m     32\u001B[0m     \u001B[38;5;66;03m# llm=ChatGroq(temperature=0.6, model_name=\"llama3-70b-8192\"),\u001B[39;00m\n\u001B[0;32m     33\u001B[0m     \u001B[38;5;66;03m# ↑ uncomment to use Groq's API + \"mixtral-8x7b-32768\"\u001B[39;00m\n\u001B[0;32m     34\u001B[0m     \u001B[38;5;66;03m# llm = ChatAnthropic(model='claude-3-opus-20240229', temperature=0.8),\u001B[39;00m\n\u001B[0;32m     35\u001B[0m     \u001B[38;5;66;03m# ↑ uncomment to use Anthropic's API + \"claude-3-opus-20240229\"\u001B[39;00m\n\u001B[0;32m     36\u001B[0m )\n\u001B[0;32m     38\u001B[0m agent_2 \u001B[38;5;241m=\u001B[39m Agent(\n\u001B[0;32m     39\u001B[0m     role\u001B[38;5;241m=\u001B[39mdedent((\n\u001B[0;32m     40\u001B[0m \u001B[38;5;250m        \u001B[39m\u001B[38;5;124;03m\"\"\"\u001B[39;00m\n\u001B[1;32m   (...)\u001B[0m\n\u001B[0;32m     65\u001B[0m     \u001B[38;5;66;03m# ↑ uncomment to use Anthropic's API + \"claude-3-opus-20240229\"\u001B[39;00m\n\u001B[0;32m     66\u001B[0m )\n\u001B[0;32m     68\u001B[0m agent_3 \u001B[38;5;241m=\u001B[39m Agent(\n\u001B[0;32m     69\u001B[0m     role\u001B[38;5;241m=\u001B[39mdedent((\n\u001B[0;32m     70\u001B[0m \u001B[38;5;250m        \u001B[39m\u001B[38;5;124;03m\"\"\"\u001B[39;00m\n\u001B[1;32m   (...)\u001B[0m\n\u001B[0;32m     95\u001B[0m     \u001B[38;5;66;03m# ↑ uncomment to use Anthropic's API + \"claude-3-opus-20240229\"\u001B[39;00m\n\u001B[0;32m     96\u001B[0m )\n",
      "\u001B[1;31mNameError\u001B[0m: name 'csv_search_tool' is not defined"
     ]
    }
   ],
   "execution_count": 8
  },
  {
   "metadata": {},
   "cell_type": "markdown",
   "source": [
    "## Define Tasks\n",
    "Tasks in CrewAI are specific assignments given to agents, detailing the actions they need to perform to achieve a particular goal. Tasks can have dependencies and context, and can be executed asynchronously to ensure an efficient workflow."
   ]
  },
  {
   "cell_type": "code",
   "source": [
    "# @title 📝 Define your tasks\n",
    "\n",
    "import datetime\n",
    "\n",
    "task_1 = Task(\n",
    "    description=dedent((\n",
    "        \"\"\"\n",
    "        A clear, concise statement of what the task entails.\n",
    "        ---\n",
    "        VARIABLE 1: \"{var_1}\"\n",
    "        VARIABLE 2: \"{var_2}\"\n",
    "        VARIABLE 3: \"{var_3}\"\n",
    "        Add more variables if needed...\n",
    "        \"\"\")),\n",
    "    expected_output=dedent((\n",
    "        \"\"\"\n",
    "        A detailed description of what the task's completion looks like.\n",
    "        \"\"\")),\n",
    "    agent=agent_1,\n",
    "    output_file=f'output-files/agent_1-output_{datetime.datetime.now().strftime(\"%Y%m%d_%H%M%S\")}.md'\n",
    "    # ↑ The output of each task iteration will be saved here\n",
    ")\n",
    "\n",
    "task_2 = Task(\n",
    "    description=dedent((\n",
    "        \"\"\"\n",
    "        A clear, concise statement of what the task entails.\n",
    "        ---\n",
    "        VARIABLE 1: \"{var_1}\"\n",
    "        VARIABLE 2: \"{var_2}\"\n",
    "        VARIABLE 3: \"{var_3}\"\n",
    "        Add more variables if needed...\n",
    "        \"\"\")),\n",
    "    expected_output=dedent((\n",
    "        \"\"\"\n",
    "        A detailed description of what the task's completion looks like.\n",
    "        \"\"\")),\n",
    "    agent=agent_2,\n",
    "    context=[task_1],\n",
    "    # ↑ specify which task's output should be used as context for subsequent tasks\n",
    "    output_file=f'output-files/agent_2-output_{datetime.datetime.now().strftime(\"%Y%m%d_%H%M%S\")}.md'\n",
    "    # ↑ The output of each task iteration will be saved here\n",
    ")\n",
    "\n",
    "task_3 = Task(\n",
    "    description=dedent((\n",
    "        \"\"\"\n",
    "        A clear, concise statement of what the task entails.\n",
    "        ---\n",
    "        VARIABLE 1: \"{var_1}\"\n",
    "        VARIABLE 2: \"{var_2}\"\n",
    "        VARIABLE 3: \"{var_3}\"\n",
    "        Add more variables if needed...\n",
    "        \"\"\")),\n",
    "    expected_output=dedent((\n",
    "        \"\"\"\n",
    "        A detailed description of what the task's completion looks like.\n",
    "        \"\"\")),\n",
    "    agent=agent_3,\n",
    "    context=[task_2],\n",
    "    # ↑ specify which task's output should be used as context for subsequent tasks\n",
    "    output_file=f'output-files/agent_3-output_{datetime.datetime.now().strftime(\"%Y%m%d_%H%M%S\")}.md'\n",
    "    # ↑ The output of each task iteration will be saved here\n",
    ")"
   ],
   "metadata": {
    "id": "dqtn3w1qs-Bu",
    "cellView": "form"
   },
   "execution_count": null,
   "outputs": []
  },
  {
   "cell_type": "code",
   "source": [
    "# @title ⌨️ Define any variables you have and input them\n",
    "print(\"## Welcome to the YOUR_CREW_NAME\")\n",
    "print('-------------------------------------------')\n",
    "var_1 = input(\"What is the  to pass to your crew?\\n\"),\n",
    "var_2 = input(\"What is the  to pass to your crew?\\n\"),\n",
    "var_3 = input(\"What is the  to pass to your crew?\\n\"),\n",
    "print(\"-------------------------------\")"
   ],
   "metadata": {
    "id": "HfJRdGHesMwn",
    "cellView": "form"
   },
   "execution_count": null,
   "outputs": []
  },
  {
   "cell_type": "code",
   "source": [
    "# @title 🚀 Get your crew to work!\n",
    "def main():\n",
    "    # Instantiate your crew with a sequential process\n",
    "    crew = Crew(\n",
    "        agents=[agent_1, agent_2, agent_3],\n",
    "        tasks=[task_1, task_2, task_3],\n",
    "        verbose=True,  # You can set it to True or False\n",
    "        # ↑ indicates the verbosity level for logging during execution.\n",
    "        process=Process.sequential\n",
    "        # ↑ the process flow that the crew will follow (e.g., sequential, hierarchical).\n",
    "    )\n",
    "\n",
    "    inputs = {\n",
    "    \"var_1\": var_1,\n",
    "    \"var_2\": var_2,\n",
    "    \"var_3\": var_3\n",
    "    }\n",
    "\n",
    "    result = crew.kickoff(inputs=inputs)\n",
    "    print(\"\\n\\n########################\")\n",
    "    print(\"## Here is your custom crew run result:\")\n",
    "    print(\"########################\\n\")\n",
    "    print(result)\n",
    "    \n",
    "    return result\n",
    "\n",
    "if __name__ == \"__main__\":\n",
    "  result = main()"
   ],
   "metadata": {
    "id": "nrBn8dMlxfCn",
    "cellView": "form"
   },
   "execution_count": null,
   "outputs": []
  },
  {
   "cell_type": "code",
   "source": [
    "# @title 🖥️ Display the results of your crew as markdown\n",
    "from IPython.display import display, Markdown\n",
    "\n",
    "markdown_text = result.raw  # Adjust this based on the actual attribute\n",
    "\n",
    "# Display the markdown content\n",
    "display(Markdown(markdown_text))"
   ],
   "metadata": {
    "cellView": "form",
    "id": "ty33sg3MxNZU"
   },
   "execution_count": null,
   "outputs": []
  }
 ]
}
