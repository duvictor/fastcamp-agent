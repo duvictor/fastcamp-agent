{
 "cells": [
  {
   "metadata": {},
   "cell_type": "markdown",
   "source": [
    "# Execução prática de uma prova de conceito\n",
    "## Execução prática de uma prova de conceito utilizando pydantic de FastAPI\n",
    "Meu intuito é simular a integração de dois sistemas da area médica, trocando informações através de um protocolo, onde um dos sistemas faça a validação dos dados do protocolo\n"
   ],
   "id": "6a9588bef4df686"
  },
  {
   "metadata": {
    "ExecuteTime": {
     "end_time": "2025-03-12T10:36:31.380954Z",
     "start_time": "2025-03-12T10:36:26.030722Z"
    }
   },
   "cell_type": "code",
   "source": [
    "# instalando as bibliotecas necessárias para a POC\n",
    "\n",
    "!pip install pydantic\n",
    "!pip install pydantic[email]\n",
    "!pip install FastAPI"
   ],
   "id": "58313baa6a9b524a",
   "outputs": [
    {
     "name": "stdout",
     "output_type": "stream",
     "text": [
      "Requirement already satisfied: pydantic in d:\\users\\paulo\\pycharmprojects\\fastcamp-agent\\venv\\lib\\site-packages (2.6.1)\n",
      "Requirement already satisfied: annotated-types>=0.4.0 in d:\\users\\paulo\\pycharmprojects\\fastcamp-agent\\venv\\lib\\site-packages (from pydantic) (0.7.0)\n",
      "Requirement already satisfied: pydantic-core==2.16.2 in d:\\users\\paulo\\pycharmprojects\\fastcamp-agent\\venv\\lib\\site-packages (from pydantic) (2.16.2)\n",
      "Requirement already satisfied: typing-extensions>=4.6.1 in d:\\users\\paulo\\pycharmprojects\\fastcamp-agent\\venv\\lib\\site-packages (from pydantic) (4.12.2)\n",
      "Requirement already satisfied: pydantic[email] in d:\\users\\paulo\\pycharmprojects\\fastcamp-agent\\venv\\lib\\site-packages (2.6.1)\n",
      "Requirement already satisfied: annotated-types>=0.4.0 in d:\\users\\paulo\\pycharmprojects\\fastcamp-agent\\venv\\lib\\site-packages (from pydantic[email]) (0.7.0)\n",
      "Requirement already satisfied: pydantic-core==2.16.2 in d:\\users\\paulo\\pycharmprojects\\fastcamp-agent\\venv\\lib\\site-packages (from pydantic[email]) (2.16.2)\n",
      "Requirement already satisfied: typing-extensions>=4.6.1 in d:\\users\\paulo\\pycharmprojects\\fastcamp-agent\\venv\\lib\\site-packages (from pydantic[email]) (4.12.2)\n",
      "Requirement already satisfied: email-validator>=2.0.0 in d:\\users\\paulo\\pycharmprojects\\fastcamp-agent\\venv\\lib\\site-packages (from pydantic[email]) (2.2.0)\n",
      "Requirement already satisfied: dnspython>=2.0.0 in d:\\users\\paulo\\pycharmprojects\\fastcamp-agent\\venv\\lib\\site-packages (from email-validator>=2.0.0->pydantic[email]) (2.7.0)\n",
      "Requirement already satisfied: idna>=2.0.0 in d:\\users\\paulo\\pycharmprojects\\fastcamp-agent\\venv\\lib\\site-packages (from email-validator>=2.0.0->pydantic[email]) (3.10)\n",
      "Requirement already satisfied: FastAPI in d:\\users\\paulo\\pycharmprojects\\fastcamp-agent\\venv\\lib\\site-packages (0.115.11)\n",
      "Requirement already satisfied: starlette<0.47.0,>=0.40.0 in d:\\users\\paulo\\pycharmprojects\\fastcamp-agent\\venv\\lib\\site-packages (from FastAPI) (0.46.1)\n",
      "Requirement already satisfied: pydantic!=1.8,!=1.8.1,!=2.0.0,!=2.0.1,!=2.1.0,<3.0.0,>=1.7.4 in d:\\users\\paulo\\pycharmprojects\\fastcamp-agent\\venv\\lib\\site-packages (from FastAPI) (2.6.1)\n",
      "Requirement already satisfied: typing-extensions>=4.8.0 in d:\\users\\paulo\\pycharmprojects\\fastcamp-agent\\venv\\lib\\site-packages (from FastAPI) (4.12.2)\n",
      "Requirement already satisfied: annotated-types>=0.4.0 in d:\\users\\paulo\\pycharmprojects\\fastcamp-agent\\venv\\lib\\site-packages (from pydantic!=1.8,!=1.8.1,!=2.0.0,!=2.0.1,!=2.1.0,<3.0.0,>=1.7.4->FastAPI) (0.7.0)\n",
      "Requirement already satisfied: pydantic-core==2.16.2 in d:\\users\\paulo\\pycharmprojects\\fastcamp-agent\\venv\\lib\\site-packages (from pydantic!=1.8,!=1.8.1,!=2.0.0,!=2.0.1,!=2.1.0,<3.0.0,>=1.7.4->FastAPI) (2.16.2)\n",
      "Requirement already satisfied: anyio<5,>=3.6.2 in d:\\users\\paulo\\pycharmprojects\\fastcamp-agent\\venv\\lib\\site-packages (from starlette<0.47.0,>=0.40.0->FastAPI) (4.8.0)\n",
      "Requirement already satisfied: idna>=2.8 in d:\\users\\paulo\\pycharmprojects\\fastcamp-agent\\venv\\lib\\site-packages (from anyio<5,>=3.6.2->starlette<0.47.0,>=0.40.0->FastAPI) (3.10)\n",
      "Requirement already satisfied: sniffio>=1.1 in d:\\users\\paulo\\pycharmprojects\\fastcamp-agent\\venv\\lib\\site-packages (from anyio<5,>=3.6.2->starlette<0.47.0,>=0.40.0->FastAPI) (1.3.1)\n"
     ]
    }
   ],
   "execution_count": 1
  },
  {
   "metadata": {
    "ExecuteTime": {
     "end_time": "2025-03-12T10:47:06.140863Z",
     "start_time": "2025-03-12T10:47:06.136522Z"
    }
   },
   "cell_type": "code",
   "source": [
    "# importando as bibliotecas necessárias para a execução da POC\n",
    "\n",
    "from datetime import datetime\n",
    "from typing import Optional\n",
    "from uuid import uuid4\n",
    "from enum import auto, IntFlag\n",
    "\n",
    "from fastapi import FastAPI\n",
    "from fastapi.responses import JSONResponse\n",
    "from fastapi.testclient import TestClient\n",
    "from pydantic import BaseModel, EmailStr, Field, field_serializer, UUID4"
   ],
   "id": "5dacb4cc66ddd6b7",
   "outputs": [],
   "execution_count": 6
  },
  {
   "metadata": {
    "ExecuteTime": {
     "end_time": "2025-03-12T11:17:40.869585Z",
     "start_time": "2025-03-12T11:17:40.858561Z"
    }
   },
   "cell_type": "code",
   "source": [
    "# criando o objeto protocolo que será utilizado para integrar os sistemas da area médica\n",
    "\n",
    "# classe responsavel por criar o objeto do tipo de arquivo a ser transportado pelo protocolo\n",
    "class TipoArquivo(IntFlag):\n",
    "  Texto = auto()\n",
    "  Imagem = auto()\n",
    "  Video = auto()\n",
    "\n",
    "\n",
    "# classe responsavel por criar o objeto protocolo com os dados a serem transportados pelos sistemas\n",
    "class Protocolo(BaseModel):\n",
    "\n",
    "    # herança do basemodel para travar o objeto e não aceitar campos extras\n",
    "    model_config = {\n",
    "        \"extra\": \"forbid\",\n",
    "    }\n",
    "\n",
    "\n",
    "    __protocolos__ = []\n",
    "\n",
    "    codigo: UUID4 = Field(default_factory=uuid4, description=\"Chave primária do protocolo\", kw_only=True)\n",
    "\n",
    "    sistema_origem: str = Field(description=\"Nome do sistema de origem\", examples=[\"Cerner, PACS, VNA\"])\n",
    "\n",
    "    email_analista_responsavel: EmailStr = Field(description=\"Email do analista responsável pelo sistema\", examples=[\"analista@cerner.com\"], frozen=True)\n",
    "\n",
    "    data_protocolo: Optional[datetime] = Field(default_factory=datetime.now, description=\"Data do envio do protocolo\", kw_only=True)\n",
    "\n",
    "    tipo: TipoArquivo = Field(default=None, description=\"Enumerador do tipo do protocolo a ser enviado: Texto, Imagem ou Video\", kw_only=True)\n",
    "\n",
    "    endereco_arquivo: str = Field(description=\"Localização do arquivo\", examples=[\"www.arquivo.com, ftp\"])\n",
    "\n",
    "\n",
    "    @field_serializer(\"codigo\", when_used=\"json\")\n",
    "    def serialize_id(self, codigo: UUID4) -> str:\n",
    "        '''\n",
    "        responsavel por serializar a chave primária para JSON\n",
    "        :param id:\n",
    "        :return:\n",
    "        '''\n",
    "        return str(codigo)"
   ],
   "id": "6176acbee6f60158",
   "outputs": [],
   "execution_count": 17
  },
  {
   "metadata": {
    "ExecuteTime": {
     "end_time": "2025-03-12T11:48:28.596860Z",
     "start_time": "2025-03-12T11:48:28.521859Z"
    }
   },
   "cell_type": "code",
   "source": [
    "# endpoints disponibilizados por um dos sistemas para enviar e receber dados de protocolos de comunicação\n",
    "\n",
    "# instanciando a api que simula um dos sistemas de comunicação\n",
    "app = FastAPI()\n",
    "\n",
    "\n",
    "@app.get(\"/protocolo\", response_model=list[Protocolo])\n",
    "async def getProtocolo() -> list[Protocolo]:\n",
    "    print(\"retornando lista de protocolos\")\n",
    "    return list(Protocolo.__protocolos__)\n",
    "\n",
    "\n",
    "@app.post(\"/protocolo\", response_model=Protocolo)\n",
    "async def createProtocolo(protocolo: Protocolo):\n",
    "    print(\"Recebendo protocolo\")\n",
    "    Protocolo.__protocolos__.append(protocolo)\n",
    "    return protocolo\n",
    "\n",
    "\n",
    "@app.get(\"/protocolo/{codigo}\", response_model=Protocolo)\n",
    "async def getProtocolo(codigo: UUID4) -> Protocolo | JSONResponse:\n",
    "    try:\n",
    "        print(\"realizando busca de protocolo por código\")\n",
    "        # busca de protocolo pelo código\n",
    "        return next((protocolo for protocolo in Protocolo.__protocolos__ if protocolo.codigo == codigo))\n",
    "    except StopIteration:\n",
    "        erro = f\"Protocolo de código {codigo} não encontrado\"\n",
    "        return JSONResponse(status_code=404, content={\"mensagem\": erro})"
   ],
   "id": "7c7f8ef190681997",
   "outputs": [],
   "execution_count": 79
  },
  {
   "metadata": {
    "ExecuteTime": {
     "end_time": "2025-03-12T11:49:57.588417Z",
     "start_time": "2025-03-12T11:49:57.581432Z"
    }
   },
   "cell_type": "code",
   "source": [
    "# definindo uma função principal que irá simular a integração entre dois sistemas\n",
    "\n",
    "def enviaProtocolo(verbose = False) -> None:\n",
    "\n",
    "\n",
    "    with TestClient(app) as client:\n",
    "\n",
    "        # enviando o primeiro protocolo\n",
    "        response = client.post(\n",
    "            \"/protocolo\",\n",
    "            json={\n",
    "                \"sistema_origem\": \"Cerner\",\n",
    "                \"email_analista_responsavel\": \"fulano@beltrano.com.br\",\n",
    "                \"data_protocolo\": \"2025-03-12\",\n",
    "                \"tipo\": TipoArquivo.Texto,\n",
    "                \"endereco_arquivo\": \"www.arquivo.com/teste.pdf\",\n",
    "            },\n",
    "        )\n",
    "        if verbose: print(response.json())\n",
    "        assert response.status_code == 200\n",
    "        assert response.json()[\"sistema_origem\"] == \"Cerner\", \"O nome do sistema de origem do protocolo deveria ser Cerner, Pacs, VNA\"\n",
    "        assert response.json()[\"codigo\"], \"O protocolo deve ter um código\"\n",
    "\n",
    "        # fazendo o parse da resposta json para o objeto\n",
    "        protocolo = Protocolo.model_validate(response.json())\n",
    "        assert str(protocolo.codigo) == response.json()[\"codigo\"], \"O código deve ser o mesmo\"\n",
    "        assert protocolo.data_protocolo, \"A data do protocolo deve ser informada\"\n",
    "        assert protocolo.tipo, \"O tipo do arquivo do protocolo deve ser informado\"\n",
    "        assert protocolo.endereco_arquivo, \"A localização do arquivo deve ser informado\"\n",
    "\n",
    "\n",
    "\n",
    "        # enviando o segundo protocolo\n",
    "        response2 = client.post(\n",
    "            \"/protocolo\",\n",
    "            json={\n",
    "                \"sistema_origem\": \"VNA\",\n",
    "                \"email_analista_responsavel\": \"vna@vna.com.br\",\n",
    "                \"data_protocolo\": \"2025-03-12\",\n",
    "                \"tipo\": TipoArquivo.Video,\n",
    "                \"endereco_arquivo\": \"www.arquivo.com/exame.mp4\",\n",
    "            },\n",
    "        )\n",
    "\n",
    "        if verbose: print(response2.json())\n",
    "        assert response2.status_code == 200\n",
    "        assert response2.json()[\"sistema_origem\"] == \"VNA\", \"O nome do sistema de origem do protocolo deveria ser Cerner, Pacs, VNA\"\n",
    "        assert response2.json()[\"codigo\"], \"O protocolo deve ter um código\"\n",
    "\n",
    "        # fazendo o parse da resposta json para o objeto\n",
    "        protocolo2 = Protocolo.model_validate(response2.json())\n",
    "        assert str(protocolo2.codigo) == response2.json()[\"codigo\"], \"O código deve ser o mesmo\"\n",
    "        assert protocolo2.data_protocolo, \"A data do protocolo deve ser informada\"\n",
    "        assert protocolo2.tipo, \"O tipo do arquivo do protocolo deve ser informado\"\n",
    "        assert protocolo2.endereco_arquivo, \"A localização do arquivo deve ser informado\"\n"
   ],
   "id": "2b216f114c03547a",
   "outputs": [],
   "execution_count": 88
  },
  {
   "metadata": {
    "ExecuteTime": {
     "end_time": "2025-03-12T11:49:58.282904Z",
     "start_time": "2025-03-12T11:49:58.277663Z"
    }
   },
   "cell_type": "code",
   "source": [
    "def recebeProtocolo(verbose = False) -> None:\n",
    "    with TestClient(app) as client2:\n",
    "\n",
    "        response3 = client2.get(\"/protocolo\")\n",
    "        assert response3.status_code == 200, \"Código de resposta deve ser 200\"\n",
    "        if verbose: print(len(response3.json()))\n",
    "        if verbose: print(response3.json()[0][\"codigo\"])\n",
    "        # comentado após ter sido testado para testar a próxima validação\n",
    "        # assert len(response.json()) == 1, \"A Quantidade de protocolos está errada\"\n",
    "\n",
    "        # buscando protocolo por código\n",
    "        response3 = client2.get(f\"/protocolo/{response3.json()[0]['codigo']}\")\n",
    "        assert response3.status_code == 200\n",
    "        # comentado após ter sido testado para testar a próxima validação\n",
    "        # assert response3.json()[\"data_protocolo\"] == \"2025-03-12\", \"A data do protocolo é diferente da data informada\"\n",
    "\n",
    "        #verificando protocolo que não existe\n",
    "        codigo_teste = uuid4()\n",
    "        response4 = client2.get(f\"/protocolo/{codigo_teste}\")\n",
    "        assert response4.status_code == 404\n",
    "        assert response4.json()[\"mensagem\"] == f\"Protocolo de código {codigo_teste} não encontrado\", (\n",
    "            \"Este protocolo não deve ser encontrado\"\n",
    "        )\n",
    "\n"
   ],
   "id": "eed4e93fd439963f",
   "outputs": [],
   "execution_count": 89
  },
  {
   "metadata": {
    "ExecuteTime": {
     "end_time": "2025-03-12T11:49:59.168424Z",
     "start_time": "2025-03-12T11:49:59.151425Z"
    }
   },
   "cell_type": "code",
   "source": [
    "# executando a simulação do fluxo de validação do sistema\n",
    "if __name__ == \"__main__\":\n",
    "    print(40*\"\")\n",
    "    print(\"iniciando teste de envio de protocolo\")\n",
    "    enviaProtocolo(False)\n",
    "    print(\"teste de envio de protocolo finalizado\")\n",
    "    print(40*\"\")\n",
    "\n",
    "\n",
    "    print(40*\"\")\n",
    "    print(\"iniciando teste de recebimento de protocolo\")\n",
    "    recebeProtocolo(False)\n",
    "    print(\"teste de recebimento de protocolo finalizado\")\n",
    "    print(40*\"\")"
   ],
   "id": "2171a421e0977ccf",
   "outputs": [
    {
     "name": "stdout",
     "output_type": "stream",
     "text": [
      "\n",
      "iniciando teste de envio de protocolo\n",
      "Recebendo protocolo\n",
      "Recebendo protocolo\n",
      "teste de envio de protocolo finalizado\n",
      "\n",
      "\n",
      "iniciando teste de recebimento de protocolo\n",
      "retornando lista de protocolos\n",
      "realizando busca de protocolo por código\n",
      "realizando busca de protocolo por código\n",
      "teste de recebimento de protocolo finalizado\n",
      "\n"
     ]
    }
   ],
   "execution_count": 90
  },
  {
   "metadata": {},
   "cell_type": "code",
   "outputs": [],
   "execution_count": null,
   "source": "",
   "id": "4065db5e107daa5"
  }
 ],
 "metadata": {
  "kernelspec": {
   "display_name": "Python 3",
   "language": "python",
   "name": "python3"
  },
  "language_info": {
   "codemirror_mode": {
    "name": "ipython",
    "version": 2
   },
   "file_extension": ".py",
   "mimetype": "text/x-python",
   "name": "python",
   "nbconvert_exporter": "python",
   "pygments_lexer": "ipython2",
   "version": "2.7.6"
  }
 },
 "nbformat": 4,
 "nbformat_minor": 5
}
