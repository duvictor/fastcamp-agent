{
 "cells": [
  {
   "metadata": {
    "height": 98,
    "ExecuteTime": {
     "end_time": "2025-04-01T18:44:41.565314Z",
     "start_time": "2025-04-01T18:44:41.556758Z"
    }
   },
   "cell_type": "code",
   "source": [
    "# Importação das bibliotecas necessárias\n",
    "\n",
    "import warnings\n",
    "import os\n",
    "warnings.filterwarnings('ignore')\n",
    "\n",
    "from dotenv import load_dotenv\n",
    "from crewai import Agent, Task, Crew\n",
    "\n",
    "\n",
    "# carregando arquivo de variáveis de ambiente com chave da api\n",
    "load_dotenv()\n",
    "print(\"importação funcionou\")\n",
    "\n",
    "os.environ['OPENAI_API_KEY'] = os.environ.get(\"OPENAI_API_KEY\")\n",
    "os.environ[\"OPENAI_MODEL_NAME\"] = 'gpt-3.5-turbo'\n"
   ],
   "outputs": [
    {
     "name": "stdout",
     "output_type": "stream",
     "text": [
      "importação funcionou\n"
     ]
    }
   ],
   "execution_count": 25
  },
  {
   "metadata": {},
   "cell_type": "markdown",
   "source": [
    "### Agent: Planejador\n",
    "responsável por planejar a viagem"
   ]
  },
  {
   "cell_type": "code",
   "metadata": {
    "height": 249,
    "ExecuteTime": {
     "end_time": "2025-04-01T18:38:52.033487Z",
     "start_time": "2025-04-01T18:38:52.024524Z"
    }
   },
   "source": [
    "planejador_viagem = Agent(\n",
    "    role=\"Planejador de viagens\",\n",
    "    goal=\"Planeje uma viagem envolvente com o {tópico}\",\n",
    "    backstory=\"Você auxilia pessoas que queiram viajar \"\n",
    "              \"a viagem será com base no tópico: {tópico}.\"\n",
    "              \"Você coleta informações sobre o tópico da viagem  \"\n",
    "              \"auxilia nas passagens, nas hospedagens, alimentação e passeios turísticos. \"\n",
    "              \"Seu trabalho é a base para o agente escritor de roteiro escrever o roteiro da viagem sobre o tópico.\",\n",
    "    allow_delegation=False,\n",
    "\tverbose=True\n",
    ")"
   ],
   "outputs": [],
   "execution_count": 14
  },
  {
   "cell_type": "markdown",
   "metadata": {},
   "source": [
    "### Agent: Escritor\n",
    "responsável por escrever o esboço da viagem planejada"
   ]
  },
  {
   "cell_type": "code",
   "metadata": {
    "height": 370,
    "ExecuteTime": {
     "end_time": "2025-04-01T18:38:56.483892Z",
     "start_time": "2025-04-01T18:38:56.477380Z"
    }
   },
   "source": [
    "escritor_roteiro = Agent(\n",
    "    role=\"Escritor de roteiro\",\n",
    "    goal=\"Escreva um roteiro de viagem sobre o tópico: {tópico}.\",\n",
    "    backstory=\"Você está trabalhando em uma redação \"\n",
    "                \"de um roteiro de viagem sobre o tópico: {tópico}. \"\n",
    "                \"Você se baseia em sua escrita no trabalho do \"\n",
    "                \"Planejador de viagens, que fornece um esboço \"\n",
    "                \"e contexto relevante sobre o tópico. \"\n",
    "                \"Você segue os principais objetivos e \"\n",
    "                \"direção do esboço, \"\n",
    "                \"conforme fornecido pelo Planejador de viagens. \"\n",
    "                \"Você também fornece insights objetivos e imparciais \"\n",
    "                \"e os respalda com informações \"\n",
    "                \"fornecidas pelo Planejador de viagens.\",\n",
    "    allow_delegation=False,\n",
    "    verbose=True\n",
    ")"
   ],
   "outputs": [],
   "execution_count": 17
  },
  {
   "cell_type": "markdown",
   "metadata": {},
   "source": [
    "### Agent: Editor\n",
    "responsável por formatar o roteiro da viagem"
   ]
  },
  {
   "cell_type": "code",
   "metadata": {
    "height": 283,
    "ExecuteTime": {
     "end_time": "2025-04-01T18:38:58.508670Z",
     "start_time": "2025-04-01T18:38:58.502061Z"
    }
   },
   "source": [
    "editor_viagem = Agent(\n",
    "    role=\"Editor de viagens\",\n",
    "    goal=\"Edite um determinado roteiro de viagem para alinhá-lo com o estilo de escrita da organização\",\n",
    "    backstory=\"Você é um editor que recebe um roteiro de viagem do agente Escritor de roteiro. \"\n",
    "              \"Seu objetivo é revisar o roteiro para garantir que siga as melhores práticas turísticas, \"\n",
    "              \"forneça pontos de vista equilibrados e forneça opiniões ou afirmações, \"\n",
    "              \"detalhes financeiros e também opiniões quando possível. \",\n",
    "    allow_delegation=False,\n",
    "    verbose=True\n",
    ")"
   ],
   "outputs": [],
   "execution_count": 18
  },
  {
   "metadata": {},
   "cell_type": "markdown",
   "source": [
    "### Tarefa: planejamento\n",
    "detalhes da tarefa que o agente deve executar"
   ]
  },
  {
   "cell_type": "code",
   "metadata": {
    "height": 268,
    "ExecuteTime": {
     "end_time": "2025-04-01T18:39:00.783728Z",
     "start_time": "2025-04-01T18:39:00.777407Z"
    }
   },
   "source": [
    "plan = Task(\n",
    "    description=(\n",
    "        \"1. Priorize as últimas tendências turísticas importantes sobre {tópico}.\\n\"\n",
    "        \"2. Identifique o público-alvo, considerando \"\n",
    "        \"seus interesses e pontos fracos.\\n\"\n",
    "        \"3. Desenvolva um esboço de conteúdo detalhado, incluindo \"\n",
    "        \"uma introdução, pontos-chave e uma chamada para ação.\\n\"\n",
    "        \"4. Inclua palavras-chave e fontes relevantes.\"\n",
    "    ),\n",
    "    expected_output=\"Um documento de roteiro de viagem abrangente \"\n",
    "            \"com um esboço, análise de público, \"\n",
    "            \"palavras-chave, recursos e pontos turísticos.\",\n",
    "    agent=planejador_viagem,\n",
    ")"
   ],
   "outputs": [],
   "execution_count": 19
  },
  {
   "metadata": {},
   "cell_type": "markdown",
   "source": [
    "### Tarefa: escrita\n",
    "detalhes da tarefa que o agente deve escrever"
   ]
  },
  {
   "cell_type": "code",
   "metadata": {
    "height": 319,
    "ExecuteTime": {
     "end_time": "2025-04-01T18:39:03.054130Z",
     "start_time": "2025-04-01T18:39:03.046782Z"
    }
   },
   "source": [
    "write = Task(\n",
    "    description=(\n",
    "        \"1. Use o planejador de viagens para elaborar um \"\n",
    "        \"roteiro de viagem atraente sobre {tópico}.\\n\"\n",
    "        \"2. Incorpore palavras-chave turísticas.\\n\"\n",
    "        \"3. As seções/subtítulos são nomeados corretamente \"\n",
    "        \"de forma envolvente.\\n\"\n",
    "        \"4. Garanta que o roteiro seja estruturado com uma \"\n",
    "        \"introdução envolvente, um corpo perspicaz \"\n",
    "        \"e uma conclusão resumida.\\n\"\n",
    "        \"5. Revise os erros gramaticais e o \"\n",
    "        \"alinhamento com a voz da marca.\\n\"\n",
    "    ),\n",
    "    expected_output=\"Um roteiro de viagem bem escrita \"\n",
    "            \"em formato markdown, pronto para publicação ou compartilhamento, \"\n",
    "            \"cada seção deve ter 3 ou 5 parágrafos.\",\n",
    "    agent=escritor_roteiro,\n",
    ")"
   ],
   "outputs": [],
   "execution_count": 20
  },
  {
   "cell_type": "markdown",
   "metadata": {},
   "source": [
    "### Tarefa: edição\n",
    "tarefa de edição responsável por formatar a saída do roteiro da viagem"
   ]
  },
  {
   "cell_type": "code",
   "metadata": {
    "height": 166,
    "ExecuteTime": {
     "end_time": "2025-04-01T18:39:05.623562Z",
     "start_time": "2025-04-01T18:39:05.618028Z"
    }
   },
   "source": [
    "edit = Task(\n",
    "    description=(\"Revise o roteiro de viagem fornecido para \"\n",
    "                    \"erros gramaticais e \"\n",
    "                    \"alinhamento com a voz da marca.\"),\n",
    "    expected_output=\"Um roteiro de viagem bem escrito em formato markdown, \"\n",
    "            \"pronta para publicação ou compartilhamento, \"\n",
    "                \"cada seção deve ter 3 ou 5 parágrafos.\",\n",
    "    agent=editor_viagem\n",
    ")"
   ],
   "outputs": [],
   "execution_count": 21
  },
  {
   "metadata": {},
   "cell_type": "markdown",
   "source": [
    "### Criação do crew\n",
    "responsavel por executar as tarefas sequencialmente"
   ]
  },
  {
   "cell_type": "code",
   "metadata": {
    "height": 98,
    "ExecuteTime": {
     "end_time": "2025-04-01T18:39:07.896988Z",
     "start_time": "2025-04-01T18:39:07.884877Z"
    }
   },
   "source": [
    "crew = Crew(\n",
    "    agents=[planejador_viagem, escritor_roteiro, editor_viagem],\n",
    "    tasks=[plan, write, edit],\n",
    "    verbose=True\n",
    ")"
   ],
   "outputs": [
    {
     "name": "stderr",
     "output_type": "stream",
     "text": [
      "Overriding of current TracerProvider is not allowed\n"
     ]
    }
   ],
   "execution_count": 22
  },
  {
   "metadata": {},
   "cell_type": "markdown",
   "source": "### Execução do sistema de agentes"
  },
  {
   "cell_type": "code",
   "metadata": {
    "height": 30,
    "ExecuteTime": {
     "end_time": "2025-04-01T18:39:47.990193Z",
     "start_time": "2025-04-01T18:39:13.761530Z"
    }
   },
   "source": "result = crew.kickoff(inputs={\"tópico\": \"Viagem para o Piauí\"})",
   "outputs": [
    {
     "name": "stdout",
     "output_type": "stream",
     "text": [
      "\u001B[1m\u001B[95m# Agent:\u001B[00m \u001B[1m\u001B[92mPlanejador de viagens\u001B[00m\n",
      "\u001B[95m## Task:\u001B[00m \u001B[92m1. Priorize as últimas tendências turísticas importantes sobre Viagem para o Piauí.\n",
      "2. Identifique o público-alvo, considerando seus interesses e pontos fracos.\n",
      "3. Desenvolva um esboço de conteúdo detalhado, incluindo uma introdução, pontos-chave e uma chamada para ação.\n",
      "4. Inclua palavras-chave e fontes relevantes.\u001B[00m\n",
      "\n",
      "\n",
      "\u001B[1m\u001B[95m# Agent:\u001B[00m \u001B[1m\u001B[92mPlanejador de viagens\u001B[00m\n",
      "\u001B[95m## Final Answer:\u001B[00m \u001B[92m\n",
      "---\n",
      "\n",
      "**Introdução:**\n",
      "\n",
      "Seja bem-vindo ao roteiro de viagem exclusivo para explorar o encantador estado do Piauí! Conhecido por suas paisagens deslumbrantes, cultura rica e história fascinante, o Piauí é um tesouro escondido no nordeste do Brasil. Prepare-se para uma jornada única, repleta de aventuras e memórias inesquecíveis.\n",
      "\n",
      "**Público-alvo:**\n",
      "\n",
      "Nosso público-alvo para esta viagem ao Piauí são os viajantes que buscam experiências autênticas, contato com a natureza, e desejam explorar destinos não tão tradicionais. Interesses incluem ecoturismo, cultura local, gastronomia regional e atividades ao ar livre. Pontos fracos podem estar relacionados à falta de informações sobre a região e a infraestrutura turística em algumas áreas.\n",
      "\n",
      "**Esboço de Conteúdo Detalhado:**\n",
      "\n",
      "1. **São Luís (capital do Maranhão):**\n",
      "   - Exploração da cidade histórica, Patrimônio Mundial pela UNESCO.\n",
      "   - Passeio pelo centro histórico, com destaque para azulejos portugueses.\n",
      "   - Visita às praias próximas, como São Marcos e Calhau.\n",
      "\n",
      "2. **Parque Nacional Serra da Capivara:**\n",
      "   - Trekking em trilhas para descobrir sítios arqueológicos únicos.\n",
      "   - Contato com a arte rupestre pré-histórica e cultura dos povos antigos.\n",
      "   - Observação da fauna e flora exuberantes do parque.\n",
      "\n",
      "3. **Parnaíba e Delta do Parnaíba:**\n",
      "   - Passeio de barco pelo rio Parnaíba até o incrível Delta.\n",
      "   - Aventura em dunas, manguezais e interação com a comunidade local.\n",
      "   - Pôr do sol inesquecível em meio às águas do delta.\n",
      "\n",
      "4. **Lagoas do Piauí (Lagoa do Portinho, Lagoa Azul, entre outras):**\n",
      "   - Relaxamento e banho nas águas cristalinas das lagoas.\n",
      "   - Oportunidades para praticar esportes aquáticos como kitesurfe e stand up paddle.\n",
      "   - Desfrute de um piquenique à beira da lagoa em um cenário paradisíaco.\n",
      "\n",
      "**Chamada para Ação:**\n",
      "\n",
      "Não perca a chance de vivenciar uma viagem repleta de paisagens deslumbrantes, cultura autêntica e aventuras emocionantes no Piauí. Reserve sua passagem agora e embarque nessa jornada única!\n",
      "\n",
      "**Palavras-chave:**\n",
      "Viagem, Piauí, Ecoturismo, Cultura Local, Aventura, Paisagens, História, Natureza, Experiências Autênticas.\n",
      "\n",
      "**Fontes Relevantes:**\n",
      "- Secretaria de Turismo do Piauí\n",
      "- Parque Nacional Serra da Capivara\n",
      "- Delta do Parnaíba Ecoturismo\n",
      "\n",
      "Aproveite cada momento nessa incrível viagem ao Piauí e descubra um mundo de maravilhas que aguarda por você.\u001B[00m\n",
      "\n",
      "\n",
      "\u001B[1m\u001B[95m# Agent:\u001B[00m \u001B[1m\u001B[92mEscritor de roteiro\u001B[00m\n",
      "\u001B[95m## Task:\u001B[00m \u001B[92m1. Use o planejador de viagens para elaborar um roteiro de viagem atraente sobre Viagem para o Piauí.\n",
      "2. Incorpore palavras-chave turísticas.\n",
      "3. As seções/subtítulos são nomeados corretamente de forma envolvente.\n",
      "4. Garanta que o roteiro seja estruturado com uma introdução envolvente, um corpo perspicaz e uma conclusão resumida.\n",
      "5. Revise os erros gramaticais e o alinhamento com a voz da marca.\n",
      "\u001B[00m\n",
      "\n",
      "\n",
      "\u001B[1m\u001B[95m# Agent:\u001B[00m \u001B[1m\u001B[92mEscritor de roteiro\u001B[00m\n",
      "\u001B[95m## Final Answer:\u001B[00m \u001B[92m\n",
      "**Introdução:**\n",
      "\n",
      "Bem-vindo ao roteiro exclusivo para explorar as maravilhas do Piauí. Este estado no nordeste do Brasil é um destino encantador, conhecido por sua rica cultura, história fascinante e paisagens deslumbrantes. Prepare-se para uma jornada repleta de aventuras e experiências autênticas que certamente ficarão marcadas em sua memória.\n",
      "\n",
      "**Descobrindo São Luís:**\n",
      "\n",
      "Comece sua viagem explorando São Luís, a capital do Maranhão, cidade histórica considerada Patrimônio Mundial pela UNESCO. Passeie pelo centro histórico, onde os azulejos portugueses se destacam, e não deixe de visitar as belas praias próximas, como São Marcos e Calhau, que proporcionam momentos relaxantes à beira-mar.\n",
      "\n",
      "**Explorando o Parque Nacional Serra da Capivara:**\n",
      "\n",
      "Em seguida, embarque em uma incrível jornada de trekking pelas trilhas do Parque Nacional Serra da Capivara. Descubra sítios arqueológicos únicos, contemple a arte rupestre pré-histórica e mergulhe na cultura dos povos antigos. A observação da fauna e flora exuberantes do parque completam essa experiência inesquecível.\n",
      "\n",
      "**Aventura em Parnaíba e Delta do Parnaíba:**\n",
      "\n",
      "Agora é a vez de explorar Parnaíba e o Delta do Parnaíba. Desfrute de um passeio de barco pelo rio Parnaíba, que leva ao incrível Delta, onde dunas, manguezais e a interação com a comunidade local aguardam por você. Termine o dia com um pôr do sol magnífico, refletindo nas águas do delta e criando uma cena verdadeiramente memorável.\n",
      "\n",
      "**Relaxamento nas Lagoas do Piauí:**\n",
      "\n",
      "Por fim, dedique um tempo para relaxar nas deslumbrantes Lagoas do Piauí, como a Lagoa do Portinho e a Lagoa Azul. Aproveite as águas cristalinas para um refrescante banho e experimente esportes aquáticos como kitesurfe e stand up paddle. Termine o dia com um piquenique à beira da lagoa, em um cenário paradisíaco que convida à contemplação.\n",
      "\n",
      "**Conclusão:**\n",
      "\n",
      "Não perca a oportunidade de vivenciar essas experiências únicas e incríveis no Piauí. Embarque nessa jornada repleta de ecoturismo, cultura local, aventura e paisagens deslumbrantes, onde a natureza e a história se fundem para criar momentos inesquecíveis. Reserve sua passagem agora e mergulhe neste mundo de maravilhas que aguarda por você.\u001B[00m\n",
      "\n",
      "\n",
      "\u001B[1m\u001B[95m# Agent:\u001B[00m \u001B[1m\u001B[92mEditor de viagens\u001B[00m\n",
      "\u001B[95m## Task:\u001B[00m \u001B[92mRevise o roteiro de viagem fornecido para erros gramaticais e alinhamento com a voz da marca.\u001B[00m\n",
      "\n",
      "\n",
      "\u001B[1m\u001B[95m# Agent:\u001B[00m \u001B[1m\u001B[92mEditor de viagens\u001B[00m\n",
      "\u001B[95m## Final Answer:\u001B[00m \u001B[92m\n",
      "**Introdução:**\n",
      "\n",
      "Seja bem-vindo ao roteiro exclusivo para explorar as maravilhas do Piauí. Este estado no nordeste do Brasil é um destino encantador, conhecido por sua rica cultura, história fascinante e paisagens deslumbrantes. Prepare-se para uma jornada repleta de aventuras e experiências autênticas que certamente ficarão marcadas em sua memória.\n",
      "\n",
      "**Descobrindo São Luís:**\n",
      "\n",
      "Comece sua viagem explorando São Luís, capital do Maranhão e cidade histórica considerada Patrimônio Mundial pela UNESCO. Passeie pelo centro histórico, onde os azulejos portugueses se destacam, e não deixe de visitar as belas praias próximas, como São Marcos e Calhau, que proporcionam momentos relaxantes à beira-mar.\n",
      "\n",
      "**Explorando o Parque Nacional Serra da Capivara:**\n",
      "\n",
      "Em seguida, embarque em uma jornada de trekking pelas trilhas do Parque Nacional Serra da Capivara. Descubra sítios arqueológicos únicos, contemple a arte rupestre pré-histórica e mergulhe na cultura dos povos antigos. A observação da fauna e flora exuberantes do parque completam essa experiência inesquecível.\n",
      "\n",
      "**Aventura em Parnaíba e Delta do Parnaíba:**\n",
      "\n",
      "Agora é a vez de explorar Parnaíba e o Delta do Parnaíba. Desfrute de um passeio de barco pelo rio Parnaíba, que leva ao incrível Delta, onde dunas, manguezais e a interação com a comunidade local aguardam por você. Termine o dia com um pôr do sol magnífico, refletindo nas águas do delta e criando uma cena verdadeiramente memorável.\n",
      "\n",
      "**Relaxamento nas Lagoas do Piauí:**\n",
      "\n",
      "Por fim, dedique um tempo para relaxar nas deslumbrantes Lagoas do Piauí, como a Lagoa do Portinho e a Lagoa Azul. Aproveite as águas cristalinas para um refrescante banho e experimente esportes aquáticos como kitesurfe e stand up paddle. Termine o dia com um piquenique à beira da lagoa, em um cenário paradisíaco que convida à contemplação.\n",
      "\n",
      "**Conclusão:**\n",
      "\n",
      "Não perca a oportunidade de vivenciar essas experiências únicas e incríveis no Piauí. Embarque nessa jornada repleta de ecoturismo, cultura local, aventura e paisagens deslumbrantes, onde a natureza e a história se fundem para criar momentos inesquecíveis. Reserve sua passagem agora e mergulhe neste mundo de maravilhas que aguarda por você.\u001B[00m\n",
      "\n",
      "\n"
     ]
    }
   ],
   "execution_count": 23
  },
  {
   "cell_type": "markdown",
   "metadata": {},
   "source": "- Exibir os resultados"
  },
  {
   "cell_type": "code",
   "metadata": {
    "height": 47,
    "ExecuteTime": {
     "end_time": "2025-04-01T18:42:11.542102Z",
     "start_time": "2025-04-01T18:42:11.533590Z"
    }
   },
   "source": [
    "from IPython.display import Markdown\n",
    "Markdown(result.raw)"
   ],
   "outputs": [
    {
     "data": {
      "text/plain": [
       "<IPython.core.display.Markdown object>"
      ],
      "text/markdown": "**Introdução:**\n\nSeja bem-vindo ao roteiro exclusivo para explorar as maravilhas do Piauí. Este estado no nordeste do Brasil é um destino encantador, conhecido por sua rica cultura, história fascinante e paisagens deslumbrantes. Prepare-se para uma jornada repleta de aventuras e experiências autênticas que certamente ficarão marcadas em sua memória.\n\n**Descobrindo São Luís:**\n\nComece sua viagem explorando São Luís, capital do Maranhão e cidade histórica considerada Patrimônio Mundial pela UNESCO. Passeie pelo centro histórico, onde os azulejos portugueses se destacam, e não deixe de visitar as belas praias próximas, como São Marcos e Calhau, que proporcionam momentos relaxantes à beira-mar.\n\n**Explorando o Parque Nacional Serra da Capivara:**\n\nEm seguida, embarque em uma jornada de trekking pelas trilhas do Parque Nacional Serra da Capivara. Descubra sítios arqueológicos únicos, contemple a arte rupestre pré-histórica e mergulhe na cultura dos povos antigos. A observação da fauna e flora exuberantes do parque completam essa experiência inesquecível.\n\n**Aventura em Parnaíba e Delta do Parnaíba:**\n\nAgora é a vez de explorar Parnaíba e o Delta do Parnaíba. Desfrute de um passeio de barco pelo rio Parnaíba, que leva ao incrível Delta, onde dunas, manguezais e a interação com a comunidade local aguardam por você. Termine o dia com um pôr do sol magnífico, refletindo nas águas do delta e criando uma cena verdadeiramente memorável.\n\n**Relaxamento nas Lagoas do Piauí:**\n\nPor fim, dedique um tempo para relaxar nas deslumbrantes Lagoas do Piauí, como a Lagoa do Portinho e a Lagoa Azul. Aproveite as águas cristalinas para um refrescante banho e experimente esportes aquáticos como kitesurfe e stand up paddle. Termine o dia com um piquenique à beira da lagoa, em um cenário paradisíaco que convida à contemplação.\n\n**Conclusão:**\n\nNão perca a oportunidade de vivenciar essas experiências únicas e incríveis no Piauí. Embarque nessa jornada repleta de ecoturismo, cultura local, aventura e paisagens deslumbrantes, onde a natureza e a história se fundem para criar momentos inesquecíveis. Reserve sua passagem agora e mergulhe neste mundo de maravilhas que aguarda por você."
     },
     "execution_count": 24,
     "metadata": {},
     "output_type": "execute_result"
    }
   ],
   "execution_count": 24
  }
 ],
 "metadata": {
  "colab": {
   "gpuType": "T4",
   "provenance": []
  },
  "kernelspec": {
   "display_name": "Python 3 (ipykernel)",
   "language": "python",
   "name": "python3"
  },
  "language_info": {
   "codemirror_mode": {
    "name": "ipython",
    "version": 3
   },
   "file_extension": ".py",
   "mimetype": "text/x-python",
   "name": "python",
   "nbconvert_exporter": "python",
   "pygments_lexer": "ipython3",
   "version": "3.11.9"
  }
 },
 "nbformat": 4,
 "nbformat_minor": 4
}
